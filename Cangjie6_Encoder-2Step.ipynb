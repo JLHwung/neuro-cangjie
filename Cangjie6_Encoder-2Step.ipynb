{
 "cells": [
  {
   "cell_type": "code",
   "execution_count": 1,
   "metadata": {},
   "outputs": [],
   "source": [
    "from PIL import ImageFont, ImageDraw, Image\n",
    "from fontTools.ttLib import TTFont\n",
    "\n",
    "import numpy as np\n",
    "import pandas as pd\n",
    "import tensorflow as tf\n",
    "from sklearn.model_selection import train_test_split\n",
    "\n",
    "import time\n",
    "import datetime\n",
    "import multiprocessing"
   ]
  },
  {
   "cell_type": "code",
   "execution_count": 2,
   "metadata": {},
   "outputs": [],
   "source": [
    "VOCAB = 28; EBD_DIM = 256; UNIT_DIM = 128; BATCH_SIZE = 256"
   ]
  },
  {
   "cell_type": "markdown",
   "metadata": {},
   "source": [
    "## Load Data"
   ]
  },
  {
   "cell_type": "code",
   "execution_count": 3,
   "metadata": {},
   "outputs": [],
   "source": [
    "class Glyph(object):\n",
    "    # transform character to bitmap\n",
    "    def __init__(self, fonts, size=64):\n",
    "        # load fonts, size. We will use 2 fonts for all CJK characters, so keep 2 codepoint books.\n",
    "        self.codepoints = [set() for _ in fonts]\n",
    "        self.size = int(size * 0.8)\n",
    "        self.size_img = size\n",
    "        self.pad = (size - self.size) // 2\n",
    "        self.fonts = [ImageFont.truetype(f, self.size) for f in fonts]\n",
    "        # use a cache to reduce computation if duplicated characters encountered.\n",
    "        self.cache = {}\n",
    "        for cp, font in zip(self.codepoints, fonts):\n",
    "            font = TTFont(font)\n",
    "            # store codepoints in font cmap into self.codepoints\n",
    "            for cmap in font['cmap'].tables:\n",
    "                if not cmap.isUnicode():\n",
    "                    continue\n",
    "                for k in cmap.cmap:\n",
    "                    cp.add(k)\n",
    "    \n",
    "    def draw(self, ch):\n",
    "        if ch in self.cache:\n",
    "            return self.cache[ch]\n",
    "        # search among fonts, use the first found\n",
    "        exist = False\n",
    "        for i in range(len(self.codepoints)):\n",
    "            if ord(ch) in self.codepoints[i]:\n",
    "                font = self.fonts[i]\n",
    "                exist = True\n",
    "                break\n",
    "        if not exist:\n",
    "            return None\n",
    "\n",
    "        img = Image.new('L', (self.size_img, self.size_img), 0)\n",
    "        draw = ImageDraw.Draw(img)\n",
    "        (width, baseline), (offset_x, offset_y) = font.font.getsize(ch)\n",
    "        draw.text((self.pad - offset_x, self.pad - offset_y + 4), ch, font=font, fill=255, stroke_fill=255) \n",
    "        img_array = np.array(img.getdata(), dtype='float32').reshape((self.size_img, self.size_img)) / 255\n",
    "        self.cache[ch] = img_array\n",
    "\n",
    "        return img_array"
   ]
  },
  {
   "cell_type": "code",
   "execution_count": 4,
   "metadata": {},
   "outputs": [],
   "source": [
    "glyphbook = Glyph(['data/fonts/HanaMinA.otf', 'data/fonts/HanaMinB.otf'])\n",
    "\n",
    "def _mapping(item):\n",
    "    char, code, dup_total, dup_curr = item\n",
    "    glyph = glyphbook.draw(char)\n",
    "    if glyph is not None:\n",
    "        return glyph, code, dup_total, dup_curr\n",
    "\n",
    "def preprocess_chart(chart, cores=multiprocessing.cpu_count()):\n",
    "    glyphs = []; codes = []\n",
    "    dup_total = []; dup_curr = []\n",
    "    with multiprocessing.Pool(processes=cores) as pool:\n",
    "        for item in pool.map(_mapping, chart.values):\n",
    "            if item is not None:\n",
    "                glyphs.append(item[0])\n",
    "                codes.append(item[1])\n",
    "                dup_total.append(item[2])\n",
    "                dup_curr.append(item[3])\n",
    "    return np.expand_dims(np.array(glyphs), -1), np.array(codes), np.array(dup_total), np.array(dup_curr)"
   ]
  },
  {
   "cell_type": "code",
   "execution_count": 5,
   "metadata": {},
   "outputs": [],
   "source": [
    "def tokenizer(code_table):\n",
    "    # Cangjie code consists only of a-z, with maximum length of 5, minimum of 1\n",
    "    # start with 0, a-z are 1-26, end and padding are 27\n",
    "    tokens = np.expand_dims(np.zeros(code_table.shape, dtype='int64'), -1)\n",
    "    code_index = list(map(lambda x: list(map(lambda y: ord(y) - 96, list(x))) + [27] * (5-len(x)), code_table))\n",
    "    tokens = np.append(tokens, np.array(code_index), axis=-1)\n",
    "    return tokens"
   ]
  },
  {
   "cell_type": "code",
   "execution_count": 6,
   "metadata": {},
   "outputs": [],
   "source": [
    "code_chart = pd.read_csv('data/cangjie6.txt', delimiter='\\t', header=None, names=['Char', 'Code'], keep_default_na=False)"
   ]
  },
  {
   "cell_type": "code",
   "execution_count": 7,
   "metadata": {},
   "outputs": [],
   "source": [
    "count = {}\n",
    "for char, code in code_chart.values:\n",
    "    if char in count:\n",
    "        count[char].append(code)\n",
    "        count[char].sort(key=len)\n",
    "        count[char].sort(key=lambda x: (len(x), x))\n",
    "    else:\n",
    "        count[char] = [code]"
   ]
  },
  {
   "cell_type": "code",
   "execution_count": 8,
   "metadata": {},
   "outputs": [],
   "source": [
    "MAX_LEN = code_chart.Code.map(len).max()\n",
    "MAX_DUP = max(map(lambda x: len(x), count.values()))"
   ]
  },
  {
   "cell_type": "code",
   "execution_count": 9,
   "metadata": {},
   "outputs": [],
   "source": [
    "code_chart['DuplicateTotal'] = code_chart['Char'].map(count).map(len).copy()\n",
    "code_chart['DuplicateCurrent'] = code_chart.apply(lambda x: count[x['Char']].index(x['Code']) + 1, axis=1).copy()"
   ]
  },
  {
   "cell_type": "code",
   "execution_count": 10,
   "metadata": {},
   "outputs": [],
   "source": [
    "glyphs, codes, dups_total, dups_curr = preprocess_chart(code_chart)\n",
    "tokens = tokenizer(codes)\n",
    "lengths = np.array([len(list(filter(lambda i: i < VOCAB - 1 and i > 0, x))) for x in tokens])\n",
    "lengths = np.array([np.identity(MAX_LEN)[i-1] for i in lengths], dtype='int64')\n",
    "dups_total = np.array([np.identity(MAX_DUP)[i-1] for i in dups_total], dtype='int64')\n",
    "dups_curr = np.array([np.identity(MAX_DUP)[i-1] for i in dups_curr], dtype='int64')\n",
    "del code_chart, codes, count"
   ]
  },
  {
   "cell_type": "code",
   "execution_count": 11,
   "metadata": {},
   "outputs": [],
   "source": [
    "(train_glyphs, validation_glyphs,\n",
    " train_tokens, validation_tokens,\n",
    " train_lengths, validation_lengths,\n",
    " train_dups_total, validation_dups_total,\n",
    " train_dups_curr, validation_dups_curr) = train_test_split(\n",
    "    glyphs, tokens, lengths, dups_total, dups_curr, test_size=0.1, random_state=1225)\n",
    "del glyphs, tokens, lengths, dups_total, dups_curr"
   ]
  },
  {
   "cell_type": "code",
   "execution_count": 12,
   "metadata": {},
   "outputs": [],
   "source": [
    "num_steps = train_glyphs.shape[0] // BATCH_SIZE + min(1, train_glyphs.shape[0] % BATCH_SIZE)\n",
    "num_steps_val = validation_glyphs.shape[0] // BATCH_SIZE + min(1, validation_glyphs.shape[0] % BATCH_SIZE)\n",
    "\n",
    "dataset = tf.data.Dataset.from_tensor_slices((train_glyphs, train_tokens, train_lengths, train_dups_total, train_dups_curr))\n",
    "dataset = dataset.shuffle(train_glyphs.shape[0]).batch(BATCH_SIZE)\n",
    "dataset = dataset.prefetch(buffer_size=tf.data.experimental.AUTOTUNE)\n",
    "\n",
    "val_dataset = tf.data.Dataset.from_tensor_slices((validation_glyphs, validation_tokens, validation_lengths, validation_dups_total, validation_dups_curr))\n",
    "val_dataset = val_dataset.shuffle(validation_glyphs.shape[0]).batch(BATCH_SIZE)\n",
    "val_dataset = val_dataset.prefetch(buffer_size=tf.data.experimental.AUTOTUNE)\n",
    "\n",
    "del train_glyphs, validation_glyphs, train_tokens, validation_tokens, train_lengths, validation_lengths\n",
    "del train_dups_total, validation_dups_total, train_dups_curr, validation_dups_curr"
   ]
  },
  {
   "cell_type": "markdown",
   "metadata": {},
   "source": [
    "## Model"
   ]
  },
  {
   "cell_type": "code",
   "execution_count": 13,
   "metadata": {},
   "outputs": [],
   "source": [
    "class Res_CNN(tf.keras.Model):\n",
    "    def __init__(self, feature_dim, kernel_size):\n",
    "        super(Res_CNN, self).__init__()\n",
    "        self.cnn1 = tf.keras.layers.Convolution2D(feature_dim, kernel_size, padding='same')\n",
    "        self.cnn2 = tf.keras.layers.Convolution2D(feature_dim, kernel_size, padding='same')\n",
    "        self.cnn3 = tf.keras.layers.Convolution2D(feature_dim, kernel_size, padding='same')\n",
    "        self.norm = tf.keras.layers.BatchNormalization()\n",
    "        \n",
    "    def call(self, x):\n",
    "        x = self.cnn1(x)\n",
    "        x_identity = tf.identity(x)\n",
    "        x = self.cnn2(x)\n",
    "        x_identity2 = tf.identity(x)\n",
    "        x = self.cnn3(x + x_identity)\n",
    "        x = self.norm(x + x_identity2)\n",
    "        x = tf.nn.relu(x)\n",
    "        return x"
   ]
  },
  {
   "cell_type": "code",
   "execution_count": 14,
   "metadata": {},
   "outputs": [],
   "source": [
    "class CNN_Encoder(tf.keras.Model):\n",
    "    # This is essentially a CNN layer, \n",
    "    def __init__(self, embedding_dim):\n",
    "        super(CNN_Encoder, self).__init__()\n",
    "        self.res_cnn1 = Res_CNN(embedding_dim // 16, (3, 3))\n",
    "        self.pool1 = tf.keras.layers.MaxPool2D((2, 2))\n",
    "        self.res_cnn2 = Res_CNN(embedding_dim // 4, (3, 3))\n",
    "        self.pool2 = tf.keras.layers.MaxPool2D((2, 2))\n",
    "        self.res_cnn3 = Res_CNN(embedding_dim, (3, 3))\n",
    "        self.fc = tf.keras.layers.Dense(embedding_dim, activation='relu')\n",
    "\n",
    "    def call(self, x, training=True):\n",
    "        # x shape after cnn1 == (batch_size, 64, 64, embedding_dim // 16)\n",
    "        x = self.res_cnn1(x)\n",
    "        # x shape after pool1 == (batch_size, 32, 32, embedding_dim // 16)\n",
    "        x = self.pool1(x)\n",
    "        \n",
    "        # x shape after cnn2 == (batch_size, 32, 32, embedding_dim // 4)\n",
    "        x = self.res_cnn2(x)\n",
    "        # x shape after pool2 == (batch_size, 16, 16, embedding_dim // 4)\n",
    "        x = self.pool2(x)\n",
    "        \n",
    "        # x shape after cnn3 == (batch_size, 16, 16, embedding_dim)\n",
    "        x = self.res_cnn3(x)\n",
    "        # reshape from (batch_size, 16, 16, embedding_dim) to (batch_size, 256, embedding_dim)\n",
    "        x = tf.reshape(x, [x.shape[0], -1, x.shape[-1]])\n",
    "        # x shape after fc == (batch_size, 256, embedding_dim)\n",
    "        if training:\n",
    "            x = tf.nn.dropout(x, rate=0.4)\n",
    "        x = self.fc(x)\n",
    "        return x"
   ]
  },
  {
   "cell_type": "code",
   "execution_count": 15,
   "metadata": {},
   "outputs": [],
   "source": [
    "class Bahdanau_Attention(tf.keras.Model):\n",
    "    def __init__(self, attention_dim):\n",
    "        super(Bahdanau_Attention, self).__init__()\n",
    "        self.W1 = tf.keras.layers.Dense(attention_dim)\n",
    "        self.W2 = tf.keras.layers.Dense(attention_dim)\n",
    "        self.V = tf.keras.layers.Dense(1)\n",
    "\n",
    "    def call(self, features, hidden):\n",
    "        # features(CNN_Encoder output) shape == (batch_size, 256, embedding_dim)\n",
    "\n",
    "        # hidden shape == (batch_size, hidden_size)\n",
    "        # hidden_with_time_axis shape == (batch_size, 1, hidden_size)\n",
    "        hidden_with_time_axis = tf.expand_dims(hidden, 1)\n",
    "\n",
    "        # score shape == (batch_size, 256, attention_dim)\n",
    "        score = tf.nn.tanh(self.W1(features) + self.W2(hidden_with_time_axis))\n",
    "\n",
    "        # attention_weights shape == (batch_size, 256, 1)\n",
    "        # you get 1 at the last axis because you are applying score to self.V\n",
    "        attention_weights = tf.nn.softmax(self.V(score), axis=1)\n",
    "\n",
    "        # context_vector shape after sum == (batch_size, embedding_dim)\n",
    "        context_vector = attention_weights * features\n",
    "        context_vector = tf.reduce_sum(context_vector, axis=1)\n",
    "\n",
    "        return context_vector, attention_weights"
   ]
  },
  {
   "cell_type": "code",
   "execution_count": 16,
   "metadata": {},
   "outputs": [],
   "source": [
    "class Simple_Decoder(tf.keras.Model):\n",
    "    def __init__(self, embedding_dim, max_length, hidden_size, vocab_size):\n",
    "        super(Simple_Decoder, self).__init__()\n",
    "        self.embedding = tf.keras.layers.Embedding(vocab_size, embedding_dim)\n",
    "        self.attention = Bahdanau_Attention(hidden_size)\n",
    "        self.fc1 = tf.keras.layers.Dense(hidden_size, activation='relu')\n",
    "        self.fc2 = tf.keras.layers.Dense(vocab_size)\n",
    "        \n",
    "    def call(self, feature, position):\n",
    "        # y shape (batch_size, hidden_size)\n",
    "        y = self.embedding(position)\n",
    "        # x shape (batch_size, embedding_dim)\n",
    "        x, w = self.attention(feature, y)\n",
    "        # x shape (batch_size, hidden_size)\n",
    "        x = self.fc1(x)\n",
    "        # x shape (batch_size, vocab_size)\n",
    "        x = self.fc2(x)\n",
    "        return x, w"
   ]
  },
  {
   "cell_type": "code",
   "execution_count": 17,
   "metadata": {},
   "outputs": [],
   "source": [
    "class Length_Decoder(tf.keras.Model):\n",
    "    def __init__(self, max_length):\n",
    "        super(Length_Decoder, self).__init__()\n",
    "        self.pool = tf.keras.layers.MaxPool2D((2, 2))\n",
    "        self.fc1 = tf.keras.layers.Dense(max_length * 16, activation='relu')\n",
    "        self.fc2 = tf.keras.layers.Dense(max_length * 16, activation='relu')\n",
    "        self.fc3 = tf.keras.layers.Dense(max_length * 4, activation='relu')\n",
    "        self.fc4 = tf.keras.layers.Dense(max_length)\n",
    "        \n",
    "    def call(self, x, d_t=None, d_c=None):\n",
    "        x = tf.reshape(x, (x.shape[0], 16, 16, x.shape[-1]))\n",
    "        x = self.pool(x) # shape = (batch_size, 8, 8, embedding_dim)\n",
    "        x = self.fc1(x)\n",
    "        x = tf.reshape(x, (x.shape[0], -1))\n",
    "        if d_t != None and d_c != None:\n",
    "            d = tf.concat([tf.cast(d_t, 'float32'), tf.cast(d_c, 'float32')], axis=-1)\n",
    "            x = tf.concat([d, x], axis=-1)\n",
    "        x = self.fc2(x)\n",
    "        x = self.fc3(x)\n",
    "        x = self.fc4(x)\n",
    "        # shape = (batch_size, max_length)\n",
    "        return x"
   ]
  },
  {
   "cell_type": "code",
   "execution_count": 18,
   "metadata": {},
   "outputs": [],
   "source": [
    "class RNN_Decoder(tf.keras.Model):\n",
    "    def __init__(self, embedding_dim, hidden_size, vocab_size, max_length):\n",
    "        super(RNN_Decoder, self).__init__()\n",
    "        self.hidden_size = hidden_size\n",
    "        self.embedding = tf.keras.layers.Embedding(vocab_size, embedding_dim)\n",
    "        self.gru1 = tf.keras.layers.GRU(self.hidden_size, return_sequences=True,\n",
    "                                        return_state=True, recurrent_initializer='glorot_uniform', dropout=0.3)\n",
    "        self.gru2 = tf.keras.layers.GRU(self.hidden_size, return_sequences=True,\n",
    "                                        return_state=True, recurrent_initializer='glorot_uniform')\n",
    "        self.gru3 = tf.keras.layers.GRU(self.hidden_size, return_sequences=True,\n",
    "                                        return_state=True, recurrent_initializer='glorot_uniform', dropout=0.3)\n",
    "        self.fc1 = tf.keras.layers.Dense(hidden_size, activation='relu')\n",
    "        self.fc2 = tf.keras.layers.Dense(vocab_size)\n",
    "\n",
    "        self.attention = Bahdanau_Attention(hidden_size)\n",
    "\n",
    "    def call(self, x, l, d_t, d_c, features, hidden, training=True, teacher_forcing=True):\n",
    "        # x is forward direction, y is beckward direction\n",
    "        # defining attention as a separate model\n",
    "        l = tf.cast(l, 'float32')\n",
    "        hidden_0_with_length = tf.concat([l, hidden[0]], axis=-1)\n",
    "        context_vector, attention_weights = self.attention(features, hidden_0_with_length)\n",
    "        l = tf.expand_dims(l, 1)\n",
    "        d = tf.expand_dims(tf.concat([tf.cast(d_t, 'float32'), tf.cast(d_c, 'float32')], axis=-1), 1)\n",
    "\n",
    "        # x shape before is (batch_size, 1) since it is passed through one by one at a time\n",
    "        # x shape after passing through embedding == (batch_size, 1, embedding_dim)\n",
    "        if teacher_forcing:\n",
    "            x = self.embedding(x)\n",
    "        else:\n",
    "            x = tf.tensordot(x, self.embedding.weights[0], axes=[-1,0])\n",
    "        # context_vector shape is (batch_size, embedding_dim)\n",
    "        # x shape after concatenation == (batch_size, 1, embedding_dim + embedding_dim)\n",
    "        x = tf.concat([tf.expand_dims(context_vector, 1), x], axis=-1)\n",
    "\n",
    "        # passing the concatenated vector to the GRU\n",
    "        # x shape is (batch_size, 1, hidden_size)\n",
    "        # state is new hidden used in next step\n",
    "        x, state1 = self.gru1(x, initial_state = hidden[0], training=training)\n",
    "        x_identity = tf.identity(x)\n",
    "        x = tf.concat([d, l, x], axis=-1)\n",
    "        x, state2 = self.gru2(x, initial_state = hidden[1], training=training)\n",
    "        x_identity2 = tf.identity(x)\n",
    "        x, state3 = self.gru3(x + x_identity, initial_state = hidden[2], training=training)\n",
    "        # x shape (batch_size, 1, max_length + hidden_size)\n",
    "        x = tf.concat([d, l, x + x_identity2], axis=-1)\n",
    "        x = tf.reshape(x, (x.shape[0], -1))\n",
    "        # x shape (batch_size, hidden_size)\n",
    "        x = self.fc1(x)\n",
    "        # x shape (batch_size, vocab_size)\n",
    "        x = self.fc2(x)\n",
    "\n",
    "        return x, [state1, state2, state3], attention_weights\n",
    "\n",
    "    def reset_state(self, batch_size):\n",
    "        # generate new hidden layer with different batch size\n",
    "        return [tf.zeros((batch_size, self.hidden_size)) for _ in range(3)]"
   ]
  },
  {
   "cell_type": "markdown",
   "metadata": {},
   "source": [
    "## Graph"
   ]
  },
  {
   "cell_type": "code",
   "execution_count": 19,
   "metadata": {},
   "outputs": [],
   "source": [
    "optimizer_step1 = tf.keras.optimizers.Adam()\n",
    "optimizer_step2 = tf.keras.optimizers.Adam()\n",
    "optimizer_length = tf.keras.optimizers.Adam()\n",
    "optimizer_dups = tf.keras.optimizers.Adam()"
   ]
  },
  {
   "cell_type": "markdown",
   "metadata": {},
   "source": [
    "### Step 1"
   ]
  },
  {
   "cell_type": "code",
   "execution_count": 20,
   "metadata": {},
   "outputs": [],
   "source": [
    "loss_object = tf.keras.losses.SparseCategoricalCrossentropy(from_logits=True, reduction='none')\n",
    "\n",
    "def loss_function(real, pred):\n",
    "    loss_ = loss_object(real, pred)\n",
    "    return tf.reduce_mean(loss_)\n",
    "\n",
    "def accuracy_function(real, pred):\n",
    "    pred_index = tf.math.argmax(pred, axis=-1)\n",
    "    return tf.math.reduce_mean(tf.cast(pred_index == real, tf.float32))"
   ]
  },
  {
   "cell_type": "code",
   "execution_count": 21,
   "metadata": {},
   "outputs": [],
   "source": [
    "@tf.function\n",
    "def train_step1(glyph, target, length, total_dups, curr_dups):\n",
    "    loss = 0; accuracy = 0\n",
    "    with tf.GradientTape() as tape:\n",
    "        features = encoder(glyph)\n",
    "        for i in range(1, target.shape[1]):\n",
    "            position = tf.convert_to_tensor(np.repeat(i-1, target.shape[0]), dtype='int64')\n",
    "            prediction, weight = simple_decoder(features, position)\n",
    "            loss += loss_function(target[:, i], prediction)\n",
    "            accuracy += accuracy_function(target[:, i], prediction)\n",
    "\n",
    "    trainable_variables = simple_decoder.trainable_variables + encoder.trainable_variables\n",
    "    gradients = tape.gradient(loss, trainable_variables)\n",
    "    optimizer_step1.apply_gradients(zip(gradients, trainable_variables))\n",
    "    \n",
    "    with tf.GradientTape() as tape_length:\n",
    "        length_pred = length_decoder(features, total_dups, curr_dups)\n",
    "        loss_length = loss_function(tf.math.argmax(length, axis=-1), length_pred)\n",
    "\n",
    "    gradients_length = tape_length.gradient(loss_length, length_decoder.trainable_variables)\n",
    "    optimizer_length.apply_gradients(zip(gradients_length, length_decoder.trainable_variables))\n",
    "    \n",
    "    with tf.GradientTape() as tape_dups:\n",
    "        dups_pred = dup_decoder(features)\n",
    "        loss_dups = loss_function(tf.math.argmax(total_dups, axis=-1), dups_pred)\n",
    "\n",
    "    gradients_dups = tape_dups.gradient(loss_dups, dup_decoder.trainable_variables)\n",
    "    optimizer_dups.apply_gradients(zip(gradients_dups, dup_decoder.trainable_variables))\n",
    "    \n",
    "    return loss / (target.shape[1] - 1), accuracy / (target.shape[1] - 1)"
   ]
  },
  {
   "cell_type": "code",
   "execution_count": 22,
   "metadata": {},
   "outputs": [],
   "source": [
    "@tf.function\n",
    "def validation_step1(glyph, target):\n",
    "    loss = 0; accuracy = 0\n",
    "    feature = encoder(glyph, training=False)\n",
    "    for i in range(1, target.shape[1]):\n",
    "        position = tf.convert_to_tensor(np.repeat(i-1, target.shape[0]), dtype='int64')\n",
    "        prediction, weight = simple_decoder(feature, position)\n",
    "        loss += loss_function(target[:, i], prediction)\n",
    "        accuracy += accuracy_function(target[:, i], prediction)\n",
    "    return loss / (target.shape[1] - 1), accuracy / (target.shape[1] - 1)"
   ]
  },
  {
   "cell_type": "code",
   "execution_count": 23,
   "metadata": {
    "scrolled": true
   },
   "outputs": [],
   "source": [
    "def step1(epoch):\n",
    "    start = time.time()\n",
    "    total_loss = 0; val_loss = 0\n",
    "    total_accuracy = 0; val_accuracy = 0\n",
    "\n",
    "    for (batch, (glyph_tensor, target, length, total_dups, curr_dups)) in enumerate(dataset):\n",
    "        t_loss, accuracy = train_step1(glyph_tensor, target, length, total_dups, curr_dups)\n",
    "        total_loss += t_loss\n",
    "        total_accuracy += accuracy\n",
    "        print('Epoch {}, Train Loss {:.4f}, Accuracy {:.2%}; progress {:.1%}, taken {:.0f} sec'.format(\n",
    "            epoch + 1, total_loss/batch, total_accuracy / batch, batch / num_steps, time.time() - start), end='\\r')\n",
    "    \n",
    "    for (glyph_tensor, target, _, _, _) in val_dataset:\n",
    "        t_loss, accuracy = validation_step1(glyph_tensor, target)\n",
    "        val_loss += t_loss\n",
    "        val_accuracy += accuracy\n",
    "   \n",
    "    # storing the epoch end loss value to plot later \n",
    "    ckpt_manager_step1.save()\n",
    "\n",
    "    print ('Epoch {}, Train Loss {:.4f}, Accuracy {:.2%} | Validation Loss {:.4f}, Accuracy {:.2%}; taken {:.0f} sec'.format(\n",
    "        epoch+1, total_loss/num_steps, total_accuracy/num_steps, val_loss/num_steps_val, val_accuracy/num_steps_val, time.time() - start))"
   ]
  },
  {
   "cell_type": "markdown",
   "metadata": {},
   "source": [
    "### Step 2"
   ]
  },
  {
   "cell_type": "code",
   "execution_count": 24,
   "metadata": {},
   "outputs": [],
   "source": [
    "def predict(features, max_length, length, total_dups, curr_dups):\n",
    "    # start with 0\n",
    "    dec_input = tf.constant([[[1] + [0] * (VOCAB - 1)]] * features.shape[0], dtype='float32')\n",
    "    hidden = decoder.reset_state(batch_size=features.shape[0])\n",
    "    probability = tf.convert_to_tensor([1]*features.shape[0], dtype='float32')\n",
    "    # iterate predictions, no teacher forcing here\n",
    "    for i in range(max_length):\n",
    "        prediction, hidden, attention_weights = decoder(\n",
    "            tf.expand_dims(dec_input[:, i, :], 1), length, total_dups, curr_dups, features, hidden, training=False, teacher_forcing=False)\n",
    "        # we need deterministic result\n",
    "        prediction = tf.math.softmax(prediction, axis=-1)\n",
    "        probability *= tf.math.reduce_max(prediction, axis=-1)\n",
    "        dec_input = tf.concat([dec_input, tf.expand_dims(prediction, 1)], axis=1)\n",
    "    return tf.math.argmax(dec_input, axis=-1), probability"
   ]
  },
  {
   "cell_type": "code",
   "execution_count": 25,
   "metadata": {},
   "outputs": [],
   "source": [
    "def predict_next(features, target, length, total_dups, curr_dups, training=True, teacher_forcing=True):\n",
    "    hidden = decoder.reset_state(batch_size=features.shape[0])\n",
    "    predictions = tf.constant(0, dtype='float32', shape=(features.shape[0], 1, VOCAB))\n",
    "    if not teacher_forcing:\n",
    "        previous = tf.constant([[[1] + [0] * (VOCAB - 1)]] * features.shape[0], dtype='float32')\n",
    "    for i in range(target.shape[1]-1):\n",
    "        if teacher_forcing:\n",
    "            previous = tf.expand_dims(target[:, i], 1)\n",
    "        prediction, hidden, attention_weights = decoder(\n",
    "            previous, length, total_dups, curr_dups, features, hidden, training=training, teacher_forcing=teacher_forcing)\n",
    "        predictions = tf.concat([predictions, tf.expand_dims(prediction, 1)], axis=1)\n",
    "        if not teacher_forcing:\n",
    "            previous = tf.expand_dims(tf.math.softmax(prediction, axis=-1), 1)\n",
    "    return predictions[:, 1:, :]"
   ]
  },
  {
   "cell_type": "code",
   "execution_count": 26,
   "metadata": {},
   "outputs": [],
   "source": [
    "def loss_function_step2(real, pred):\n",
    "    mask = tf.math.logical_not(tf.math.equal(real, 0))\n",
    "    loss_ = loss_object(real, pred)\n",
    "    mask = tf.cast(mask, dtype=loss_.dtype)\n",
    "    loss_ *= mask\n",
    "    loss_ = tf.reduce_mean(loss_, axis=0)\n",
    "    return tf.reduce_sum(loss_)\n",
    "\n",
    "def accuracy_function_step2(real, pred):\n",
    "    accuracy = tf.math.reduce_all(pred == real, 1)\n",
    "    return tf.math.reduce_mean(tf.cast(accuracy, tf.float32))"
   ]
  },
  {
   "cell_type": "code",
   "execution_count": 27,
   "metadata": {},
   "outputs": [],
   "source": [
    "@tf.function\n",
    "def train_step2(glyph_tensor, target, length, total_dups, curr_dups, teacher_forcing=True):\n",
    "\n",
    "    with tf.GradientTape() as tape:\n",
    "        features = encoder(glyph_tensor)\n",
    "        \n",
    "        with tf.GradientTape() as tape_dups:\n",
    "            dups_pred = dup_decoder(features)\n",
    "            loss_dups = loss_function(tf.math.argmax(total_dups, axis=-1), dups_pred)\n",
    "        dups_pred = tf.nn.softmax(dups_pred, axis=-1)\n",
    "        \n",
    "        with tf.GradientTape() as tape_length:\n",
    "            if teacher_forcing:\n",
    "                length_pred = length_decoder(features, d_t=total_dups, d_c=curr_dups)\n",
    "            else:\n",
    "                length_pred = length_decoder(features, d_t=dups_pred, d_c=curr_dups)\n",
    "            loss_length = loss_function(tf.math.argmax(length, axis=-1), length_pred)\n",
    "        length_pred = tf.nn.softmax(length_pred, axis=-1)\n",
    "        \n",
    "        if teacher_forcing:\n",
    "            predictions = predict_next(features, target, length, total_dups, curr_dups)\n",
    "        else:\n",
    "            predictions = predict_next(features, target, length_pred, dups_pred, curr_dups, teacher_forcing=teacher_forcing)\n",
    "        loss = loss_function_step2(target[:, 1:], predictions)\n",
    "    \n",
    "    \n",
    "    trainable_variables = decoder.trainable_variables + encoder.trainable_variables\n",
    "    gradients = tape.gradient(loss, trainable_variables)\n",
    "    optimizer_step2.apply_gradients(zip(gradients, trainable_variables))\n",
    "\n",
    "    gradients_length = tape_length.gradient(loss_length, length_decoder.trainable_variables)\n",
    "    optimizer_length.apply_gradients(zip(gradients_length, length_decoder.trainable_variables))\n",
    "    \n",
    "    gradients_dups = tape_dups.gradient(loss_dups, dup_decoder.trainable_variables)\n",
    "    optimizer_dups.apply_gradients(zip(gradients_dups, dup_decoder.trainable_variables))\n",
    "    \n",
    "    # calculate accuracy based on the code's whole string\n",
    "    predictions_id, _ = predict(features, MAX_LEN, length_pred, dups_pred, curr_dups)\n",
    "    accuracy = accuracy_function_step2(predictions_id, target)\n",
    "    accuracy_length = accuracy_function(tf.math.argmax(length, axis=-1), length_pred)\n",
    "    accuracy_dups = accuracy_function(tf.math.argmax(total_dups, axis=-1), dups_pred)\n",
    "\n",
    "    return loss / (target.shape[1] - 1), accuracy, accuracy_length, accuracy_dups"
   ]
  },
  {
   "cell_type": "code",
   "execution_count": 28,
   "metadata": {},
   "outputs": [],
   "source": [
    "@tf.function\n",
    "def validation_step2(glyph_tensor, target, length, total_dups, curr_dups):\n",
    "    features = encoder(glyph_tensor, training=False)\n",
    "    dups_pred = tf.nn.softmax(dup_decoder(features), axis=-1)\n",
    "    length_pred = tf.nn.softmax(length_decoder(features, d_t=dups_pred, d_c=curr_dups), axis=-1)\n",
    "    predictions = predict_next(features, target, length_pred, dups_pred, curr_dups, training=False, teacher_forcing=False)\n",
    "    loss = loss_function_step2(target[:, 1:], predictions)\n",
    "\n",
    "    # calculate accuracy based on the code's whole string\n",
    "    predictions_id, _ = predict(features, MAX_LEN, length_pred, dups_pred, curr_dups)\n",
    "    accuracy = accuracy_function_step2(predictions_id, target)\n",
    "    accuracy_length = accuracy_function(tf.math.argmax(length, axis=-1), length_pred)\n",
    "    accuracy_dups = accuracy_function(tf.math.argmax(total_dups, axis=-1), dups_pred)\n",
    "    \n",
    "    return loss / (target.shape[1] - 1), accuracy, accuracy_length, accuracy_dups"
   ]
  },
  {
   "cell_type": "code",
   "execution_count": 29,
   "metadata": {
    "scrolled": true
   },
   "outputs": [],
   "source": [
    "def step2(epoch, teacher_forcing=True):\n",
    "    start = time.time()\n",
    "    total_loss = 0; val_loss = 0; dups_accu = 0; val_dups_accu = 0\n",
    "    total_accuracy = 0; val_accuracy = 0; len_accu = 0; val_len_accu = 0\n",
    "\n",
    "    for (batch, (glyph_tensor, target, length, total_dups, curr_dups)) in enumerate(dataset):\n",
    "#        if batch == 0:\n",
    "#            tf.summary.trace_on(graph=True, profiler=True)\n",
    "        t_loss, accuracy, accuracy_length, accuracy_dups = train_step2(glyph_tensor, target, length, total_dups, curr_dups, teacher_forcing=teacher_forcing)\n",
    "#        if batch == 0:\n",
    "#            with graph_summary_writer.as_default():\n",
    "#                tf.summary.trace_export(name=\"train_trace\", step=epoch, profiler_outdir=graph_log_dir)\n",
    "#            tf.summary.trace_off()\n",
    "        total_loss += t_loss; total_accuracy += accuracy\n",
    "        len_accu += accuracy_length; dups_accu += accuracy_dups\n",
    "        \n",
    "        print('Epoch {}, Train Loss {:.4f}, Accuracy {:.2%}; Length Accuracy {:.2%}, Dups Accuracy {:.2%}; progress {:.1%}, taken {:.0f} sec'.format(\n",
    "            epoch + 1, total_loss/batch, total_accuracy/batch, len_accu/batch, dups_accu/batch, batch/num_steps, time.time() - start), end='\\r')\n",
    "    \n",
    "    for (glyph_tensor, target, length, total_dups, curr_dups) in val_dataset:\n",
    "        t_loss, accuracy, accuracy_length, accuracy_dups = validation_step2(glyph_tensor, target, length, total_dups, curr_dups)\n",
    "        val_loss += t_loss; val_accuracy += accuracy\n",
    "        val_len_accu += accuracy_length; val_dups_accu += accuracy_dups\n",
    "   \n",
    "    # storing the epoch end loss value to plot later\n",
    "    with train_summary_writer.as_default():\n",
    "        tf.summary.scalar('loss', (total_loss / num_steps), step=epoch)\n",
    "        tf.summary.scalar('accuracy', (total_accuracy / num_steps), step=epoch)\n",
    "        tf.summary.scalar('length_accuracy', (len_accu / num_steps), step=epoch)\n",
    "        tf.summary.scalar('duplication_accuracy', (dups_accu / num_steps), step=epoch)\n",
    "    with test_summary_writer.as_default():\n",
    "        tf.summary.scalar('loss', val_loss / num_steps_val, step=epoch)\n",
    "        tf.summary.scalar('accuracy', val_accuracy / num_steps_val, step=epoch)\n",
    "        tf.summary.scalar('length_accuracy', val_len_accu / num_steps_val, step=epoch)\n",
    "        tf.summary.scalar('duplication_accuracy', val_dups_accu / num_steps_val, step=epoch)\n",
    "    \n",
    "    ckpt_manager_step2.save()\n",
    "\n",
    "    print('Epoch {}, Train Loss {:.4f}, Accuracy {:.2%}; Length Accuracy {:.2%}, Dups Accuracy {:.2%} | Validation Loss {:.4f}, Accuracy {:.2%}; Length Accuracy {:.2%}, Dups Accuracy {:.2%}; taken {:.0f} sec'.format(\n",
    "        epoch + 1, total_loss/num_steps, total_accuracy/num_steps, len_accu/num_steps, dups_accu/num_steps, \n",
    "        val_loss/num_steps_val, val_accuracy/num_steps_val, val_len_accu/num_steps_val, val_dups_accu/num_steps_val, time.time() - start))"
   ]
  },
  {
   "cell_type": "markdown",
   "metadata": {},
   "source": [
    "## Training"
   ]
  },
  {
   "cell_type": "code",
   "execution_count": 30,
   "metadata": {},
   "outputs": [],
   "source": [
    "encoder = CNN_Encoder(embedding_dim = EBD_DIM)\n",
    "simple_decoder = Simple_Decoder(embedding_dim = EBD_DIM, max_length = MAX_LEN, hidden_size = UNIT_DIM, vocab_size = VOCAB)\n",
    "length_decoder = Length_Decoder(max_length = MAX_LEN)\n",
    "dup_decoder = Length_Decoder(max_length = MAX_DUP)\n",
    "decoder = RNN_Decoder(embedding_dim=EBD_DIM, hidden_size=UNIT_DIM, max_length = MAX_LEN, vocab_size=VOCAB)"
   ]
  },
  {
   "cell_type": "code",
   "execution_count": 31,
   "metadata": {},
   "outputs": [],
   "source": [
    "# use a checkpoint to store weights\n",
    "checkpoint_path_step1 = './checkpoints/train_step1'\n",
    "ckpt_step1 = tf.train.Checkpoint(encoder=encoder, decoder=simple_decoder, length_decoder=length_decoder,\n",
    "    dup_decoder=dup_decoder, optimizer=optimizer_step1, optimizer_length=optimizer_length, optimizer_dups=optimizer_dups)\n",
    "ckpt_manager_step1 = tf.train.CheckpointManager(ckpt_step1, checkpoint_path_step1, max_to_keep=5)"
   ]
  },
  {
   "cell_type": "code",
   "execution_count": 32,
   "metadata": {},
   "outputs": [],
   "source": [
    "# use a checkpoint to store weights\n",
    "checkpoint_path_step2 = \"./checkpoints/train_step2\"\n",
    "ckpt_step2 = tf.train.Checkpoint(encoder=encoder, decoder=decoder, length_decoder=length_decoder,\n",
    "    dup_decoder=dup_decoder, optimizer=optimizer_step2, optimizer_length=optimizer_length, optimizer_dups=optimizer_dups)\n",
    "ckpt_manager_step2 = tf.train.CheckpointManager(ckpt_step2, checkpoint_path_step2, max_to_keep=5)"
   ]
  },
  {
   "cell_type": "code",
   "execution_count": 33,
   "metadata": {},
   "outputs": [],
   "source": [
    "current_time = datetime.datetime.now().strftime(\"%Y%m%d-%H%M%S\")\n",
    "train_log_dir = 'logs/gradient_tape/' + current_time + '/train'\n",
    "test_log_dir = 'logs/gradient_tape/' + current_time + '/test'\n",
    "#graph_log_dir = 'logs/gradient_tape/' + current_time + '/func'\n",
    "train_summary_writer = tf.summary.create_file_writer(train_log_dir)\n",
    "test_summary_writer = tf.summary.create_file_writer(test_log_dir)\n",
    "#graph_summary_writer = tf.summary.create_file_writer(graph_log_dir)"
   ]
  },
  {
   "cell_type": "markdown",
   "metadata": {},
   "source": [
    "### Step 1"
   ]
  },
  {
   "cell_type": "code",
   "execution_count": 34,
   "metadata": {},
   "outputs": [],
   "source": [
    "EPOCHS_STEP1 = 20\n",
    "\n",
    "epoch_step1 = 0\n",
    "if ckpt_manager_step1.latest_checkpoint:\n",
    "    epoch_step1 = int(ckpt_manager_step1.latest_checkpoint.split('-')[-1])\n",
    "    ckpt_step1.restore(ckpt_manager_step1.latest_checkpoint)"
   ]
  },
  {
   "cell_type": "code",
   "execution_count": 35,
   "metadata": {
    "scrolled": true
   },
   "outputs": [
    {
     "name": "stdout",
     "output_type": "stream",
     "text": [
      "Epoch 1, Train Loss 2.8708, Accuracy 20.49% | Validation Loss 2.5070, Accuracy 31.04%; taken 92 sec\n",
      "Epoch 2, Train Loss 1.7768, Accuracy 48.47% | Validation Loss 1.3149, Accuracy 64.21%; taken 79 sec\n",
      "Epoch 3, Train Loss 1.1622, Accuracy 65.67% | Validation Loss 0.9238, Accuracy 75.28%; taken 78 sec\n",
      "Epoch 4, Train Loss 0.9092, Accuracy 72.87% | Validation Loss 0.7718, Accuracy 79.65%; taken 78 sec\n",
      "Epoch 5, Train Loss 0.7747, Accuracy 76.71% | Validation Loss 0.6806, Accuracy 82.36%; taken 78 sec\n",
      "Epoch 6, Train Loss 0.6876, Accuracy 79.26% | Validation Loss 0.6158, Accuracy 84.05%; taken 78 sec\n",
      "Epoch 7, Train Loss 0.6279, Accuracy 80.96% | Validation Loss 0.5577, Accuracy 86.00%; taken 79 sec\n",
      "Epoch 8, Train Loss 0.5785, Accuracy 82.51% | Validation Loss 0.5404, Accuracy 86.33%; taken 79 sec\n",
      "Epoch 9, Train Loss 0.5439, Accuracy 83.42% | Validation Loss 0.4994, Accuracy 87.60%; taken 79 sec\n",
      "Epoch 12, Train Loss 0.4708, Accuracy 85.54% | Validation Loss 0.4768, Accuracy 87.96%; taken 78 sec\n",
      "Epoch 13, Train Loss 0.4559, Accuracy 86.01% | Validation Loss 0.4447, Accuracy 88.87%; taken 78 sec\n",
      "Epoch 14, Train Loss 0.4381, Accuracy 86.51% | Validation Loss 0.4379, Accuracy 89.09%; taken 78 sec\n",
      "Epoch 15, Train Loss 0.4275, Accuracy 86.76% | Validation Loss 0.4156, Accuracy 89.75%; taken 78 sec\n",
      "Epoch 16, Train Loss 0.4151, Accuracy 87.12% | Validation Loss 0.4334, Accuracy 89.23%; taken 78 sec\n",
      "Epoch 17, Train Loss 0.4059, Accuracy 87.47% | Validation Loss 0.4005, Accuracy 90.24%; taken 78 sec\n",
      "Epoch 18, Train Loss 0.3931, Accuracy 87.84% | Validation Loss 0.3964, Accuracy 90.17%; taken 78 sec\n",
      "Epoch 19, Train Loss 0.3875, Accuracy 87.93% | Validation Loss 0.3908, Accuracy 90.51%; taken 78 sec\n",
      "Epoch 20, Train Loss 0.3793, Accuracy 88.20% | Validation Loss 0.3828, Accuracy 90.86%; taken 78 sec\n"
     ]
    }
   ],
   "source": [
    "while epoch_step1 < EPOCHS_STEP1:\n",
    "    step1(epoch_step1)\n",
    "    epoch_step1 += 1"
   ]
  },
  {
   "cell_type": "markdown",
   "metadata": {},
   "source": [
    "### Step 2"
   ]
  },
  {
   "cell_type": "code",
   "execution_count": 36,
   "metadata": {},
   "outputs": [],
   "source": [
    "EPOCHS_STEP2 = 120\n",
    "\n",
    "epoch_step2 = 0\n",
    "if ckpt_manager_step2.latest_checkpoint:\n",
    "    epoch_step2 = int(ckpt_manager_step2.latest_checkpoint.split('-')[-1])\n",
    "    ckpt_step2.restore(ckpt_manager_step2.latest_checkpoint)"
   ]
  },
  {
   "cell_type": "code",
   "execution_count": 37,
   "metadata": {
    "scrolled": true
   },
   "outputs": [
    {
     "name": "stdout",
     "output_type": "stream",
     "text": [
      "Epoch 1, Train Loss 1.4044, Accuracy 21.30%; Length Accuracy 88.10%, Dups Accuracy 91.19% | Validation Loss 0.6228, Accuracy 52.03%; Length Accuracy 93.00%, Dups Accuracy 94.96%; taken 126 sec\n",
      "Epoch 2, Train Loss 0.4880, Accuracy 54.24%; Length Accuracy 91.89%, Dups Accuracy 93.88% | Validation Loss 0.5192, Accuracy 62.06%; Length Accuracy 92.94%, Dups Accuracy 95.66%; taken 89 sec\n",
      "Epoch 3, Train Loss 0.3897, Accuracy 61.67%; Length Accuracy 92.51%, Dups Accuracy 94.41% | Validation Loss 0.5496, Accuracy 65.29%; Length Accuracy 92.32%, Dups Accuracy 95.84%; taken 89 sec\n",
      "Epoch 4, Train Loss 0.3390, Accuracy 65.58%; Length Accuracy 92.56%, Dups Accuracy 94.61% | Validation Loss 0.4519, Accuracy 69.69%; Length Accuracy 94.62%, Dups Accuracy 95.72%; taken 89 sec\n",
      "Epoch 5, Train Loss 0.3046, Accuracy 68.33%; Length Accuracy 92.81%, Dups Accuracy 94.86% | Validation Loss 0.4348, Accuracy 72.54%; Length Accuracy 94.57%, Dups Accuracy 96.17%; taken 89 sec\n",
      "Epoch 6, Train Loss 0.2807, Accuracy 70.60%; Length Accuracy 93.04%, Dups Accuracy 95.29% | Validation Loss 0.4330, Accuracy 73.31%; Length Accuracy 95.06%, Dups Accuracy 96.39%; taken 89 sec\n",
      "Epoch 7, Train Loss 0.2630, Accuracy 72.24%; Length Accuracy 93.38%, Dups Accuracy 95.34% | Validation Loss 0.4203, Accuracy 75.22%; Length Accuracy 94.79%, Dups Accuracy 96.88%; taken 89 sec\n",
      "Epoch 8, Train Loss 0.2488, Accuracy 73.54%; Length Accuracy 93.35%, Dups Accuracy 95.72% | Validation Loss 0.4280, Accuracy 75.10%; Length Accuracy 94.56%, Dups Accuracy 96.76%; taken 89 sec\n",
      "Epoch 9, Train Loss 0.2368, Accuracy 74.64%; Length Accuracy 93.53%, Dups Accuracy 95.72% | Validation Loss 0.4367, Accuracy 75.88%; Length Accuracy 94.60%, Dups Accuracy 96.93%; taken 89 sec\n",
      "Epoch 10, Train Loss 0.2253, Accuracy 75.68%; Length Accuracy 93.72%, Dups Accuracy 95.99% | Validation Loss 0.4034, Accuracy 76.99%; Length Accuracy 94.44%, Dups Accuracy 97.10%; taken 89 sec\n",
      "Epoch 11, Train Loss 0.2166, Accuracy 76.39%; Length Accuracy 93.83%, Dups Accuracy 95.98% | Validation Loss 0.4451, Accuracy 76.47%; Length Accuracy 94.29%, Dups Accuracy 97.25%; taken 89 sec\n",
      "Epoch 12, Train Loss 0.2076, Accuracy 77.36%; Length Accuracy 94.04%, Dups Accuracy 96.19% | Validation Loss 0.3991, Accuracy 77.71%; Length Accuracy 94.99%, Dups Accuracy 97.45%; taken 88 sec\n",
      "Epoch 13, Train Loss 0.2021, Accuracy 77.98%; Length Accuracy 94.18%, Dups Accuracy 96.27% | Validation Loss 0.4047, Accuracy 78.39%; Length Accuracy 95.61%, Dups Accuracy 97.27%; taken 89 sec\n",
      "Epoch 14, Train Loss 0.1938, Accuracy 78.97%; Length Accuracy 94.33%, Dups Accuracy 96.55% | Validation Loss 0.4107, Accuracy 79.70%; Length Accuracy 94.76%, Dups Accuracy 97.74%; taken 89 sec\n",
      "Epoch 15, Train Loss 0.1863, Accuracy 79.54%; Length Accuracy 94.34%, Dups Accuracy 96.68% | Validation Loss 0.3899, Accuracy 79.99%; Length Accuracy 95.55%, Dups Accuracy 97.82%; taken 89 sec\n",
      "Epoch 16, Train Loss 0.1829, Accuracy 79.95%; Length Accuracy 94.56%, Dups Accuracy 96.75% | Validation Loss 0.3968, Accuracy 80.52%; Length Accuracy 95.87%, Dups Accuracy 97.75%; taken 89 sec\n",
      "Epoch 17, Train Loss 0.1784, Accuracy 80.13%; Length Accuracy 94.46%, Dups Accuracy 96.74% | Validation Loss 0.3716, Accuracy 80.95%; Length Accuracy 96.18%, Dups Accuracy 97.81%; taken 88 sec\n",
      "Epoch 18, Train Loss 0.1723, Accuracy 80.90%; Length Accuracy 94.57%, Dups Accuracy 96.83% | Validation Loss 0.3771, Accuracy 81.14%; Length Accuracy 95.86%, Dups Accuracy 97.74%; taken 88 sec\n",
      "Epoch 19, Train Loss 0.1685, Accuracy 81.36%; Length Accuracy 94.93%, Dups Accuracy 97.03% | Validation Loss 0.3769, Accuracy 81.00%; Length Accuracy 95.85%, Dups Accuracy 97.97%; taken 88 sec\n",
      "Epoch 20, Train Loss 0.1647, Accuracy 81.66%; Length Accuracy 94.87%, Dups Accuracy 97.18% | Validation Loss 0.3662, Accuracy 81.54%; Length Accuracy 96.35%, Dups Accuracy 98.07%; taken 89 sec\n",
      "Epoch 21, Train Loss 0.1612, Accuracy 82.08%; Length Accuracy 95.00%, Dups Accuracy 97.14% | Validation Loss 0.3921, Accuracy 82.02%; Length Accuracy 96.09%, Dups Accuracy 98.09%; taken 88 sec\n",
      "Epoch 22, Train Loss 0.1587, Accuracy 82.28%; Length Accuracy 95.06%, Dups Accuracy 97.22% | Validation Loss 0.3877, Accuracy 81.46%; Length Accuracy 95.91%, Dups Accuracy 98.17%; taken 89 sec\n",
      "Epoch 23, Train Loss 0.1531, Accuracy 83.08%; Length Accuracy 95.25%, Dups Accuracy 97.34% | Validation Loss 0.3990, Accuracy 81.69%; Length Accuracy 95.90%, Dups Accuracy 98.41%; taken 89 sec\n",
      "Epoch 24, Train Loss 0.1518, Accuracy 83.10%; Length Accuracy 95.21%, Dups Accuracy 97.34% | Validation Loss 0.4116, Accuracy 82.10%; Length Accuracy 95.38%, Dups Accuracy 98.09%; taken 88 sec\n",
      "Epoch 25, Train Loss 0.1491, Accuracy 83.31%; Length Accuracy 95.37%, Dups Accuracy 97.40% | Validation Loss 0.3943, Accuracy 81.70%; Length Accuracy 96.11%, Dups Accuracy 98.28%; taken 89 sec\n",
      "Epoch 26, Train Loss 0.1476, Accuracy 83.54%; Length Accuracy 95.27%, Dups Accuracy 97.46% | Validation Loss 0.3806, Accuracy 81.46%; Length Accuracy 96.16%, Dups Accuracy 97.99%; taken 88 sec\n",
      "Epoch 27, Train Loss 0.1410, Accuracy 84.21%; Length Accuracy 95.39%, Dups Accuracy 97.57% | Validation Loss 0.4420, Accuracy 81.75%; Length Accuracy 95.45%, Dups Accuracy 98.76%; taken 89 sec\n",
      "Epoch 28, Train Loss 0.1394, Accuracy 84.41%; Length Accuracy 95.60%, Dups Accuracy 97.62% | Validation Loss 0.3888, Accuracy 82.87%; Length Accuracy 94.95%, Dups Accuracy 98.71%; taken 88 sec\n",
      "Epoch 29, Train Loss 0.1369, Accuracy 84.67%; Length Accuracy 95.58%, Dups Accuracy 97.69% | Validation Loss 0.4094, Accuracy 82.04%; Length Accuracy 96.26%, Dups Accuracy 98.60%; taken 88 sec\n",
      "Epoch 30, Train Loss 0.1369, Accuracy 84.65%; Length Accuracy 95.48%, Dups Accuracy 97.70% | Validation Loss 0.4015, Accuracy 82.65%; Length Accuracy 96.08%, Dups Accuracy 98.94%; taken 89 sec\n",
      "Epoch 31, Train Loss 0.1305, Accuracy 85.21%; Length Accuracy 95.61%, Dups Accuracy 97.84% | Validation Loss 0.3988, Accuracy 83.38%; Length Accuracy 95.87%, Dups Accuracy 99.07%; taken 88 sec\n",
      "Epoch 32, Train Loss 0.1332, Accuracy 85.36%; Length Accuracy 95.81%, Dups Accuracy 97.91% | Validation Loss 0.3951, Accuracy 83.63%; Length Accuracy 96.02%, Dups Accuracy 98.87%; taken 89 sec\n",
      "Epoch 33, Train Loss 0.1280, Accuracy 85.56%; Length Accuracy 95.76%, Dups Accuracy 97.84% | Validation Loss 0.4738, Accuracy 81.94%; Length Accuracy 94.63%, Dups Accuracy 98.82%; taken 89 sec\n",
      "Epoch 34, Train Loss 0.1286, Accuracy 85.80%; Length Accuracy 95.82%, Dups Accuracy 97.91% | Validation Loss 0.3935, Accuracy 83.91%; Length Accuracy 96.41%, Dups Accuracy 98.99%; taken 89 sec\n",
      "Epoch 35, Train Loss 0.1249, Accuracy 86.05%; Length Accuracy 96.03%, Dups Accuracy 97.98% | Validation Loss 0.3675, Accuracy 83.63%; Length Accuracy 96.87%, Dups Accuracy 99.08%; taken 89 sec\n",
      "Epoch 36, Train Loss 0.1231, Accuracy 86.30%; Length Accuracy 96.11%, Dups Accuracy 97.97% | Validation Loss 0.4188, Accuracy 83.56%; Length Accuracy 96.03%, Dups Accuracy 99.15%; taken 89 sec\n",
      "Epoch 37, Train Loss 0.1206, Accuracy 86.49%; Length Accuracy 96.11%, Dups Accuracy 97.96% | Validation Loss 0.3929, Accuracy 83.74%; Length Accuracy 96.55%, Dups Accuracy 98.98%; taken 89 sec\n",
      "Epoch 38, Train Loss 0.1193, Accuracy 86.69%; Length Accuracy 96.12%, Dups Accuracy 98.13% | Validation Loss 0.4569, Accuracy 83.21%; Length Accuracy 95.13%, Dups Accuracy 99.54%; taken 89 sec\n",
      "Epoch 39, Train Loss 0.1178, Accuracy 86.81%; Length Accuracy 96.03%, Dups Accuracy 98.21% | Validation Loss 0.3872, Accuracy 84.27%; Length Accuracy 96.60%, Dups Accuracy 99.11%; taken 88 sec\n",
      "Epoch 40, Train Loss 0.1170, Accuracy 87.05%; Length Accuracy 96.06%, Dups Accuracy 98.16% | Validation Loss 0.4045, Accuracy 83.99%; Length Accuracy 96.16%, Dups Accuracy 99.02%; taken 89 sec\n",
      "Epoch 41, Train Loss 0.1166, Accuracy 87.12%; Length Accuracy 96.24%, Dups Accuracy 98.24% | Validation Loss 0.3819, Accuracy 84.23%; Length Accuracy 96.71%, Dups Accuracy 99.16%; taken 89 sec\n",
      "Epoch 42, Train Loss 0.1109, Accuracy 87.49%; Length Accuracy 96.26%, Dups Accuracy 98.22% | Validation Loss 0.5243, Accuracy 82.33%; Length Accuracy 94.23%, Dups Accuracy 99.39%; taken 88 sec\n",
      "Epoch 43, Train Loss 0.1113, Accuracy 87.71%; Length Accuracy 96.31%, Dups Accuracy 98.34% | Validation Loss 0.3826, Accuracy 84.58%; Length Accuracy 97.18%, Dups Accuracy 99.36%; taken 89 sec\n",
      "Epoch 44, Train Loss 0.1103, Accuracy 87.69%; Length Accuracy 96.35%, Dups Accuracy 98.45% | Validation Loss 0.4152, Accuracy 84.80%; Length Accuracy 95.95%, Dups Accuracy 99.30%; taken 89 sec\n",
      "Epoch 46, Train Loss 0.1087, Accuracy 87.83%; Length Accuracy 96.33%, Dups Accuracy 98.38% | Validation Loss 0.3947, Accuracy 84.95%; Length Accuracy 96.63%, Dups Accuracy 99.46%; taken 89 sec\n",
      "Epoch 47, Train Loss 0.1081, Accuracy 87.99%; Length Accuracy 96.39%, Dups Accuracy 98.32% | Validation Loss 0.3970, Accuracy 84.05%; Length Accuracy 96.79%, Dups Accuracy 98.99%; taken 88 sec\n",
      "Epoch 48, Train Loss 0.1047, Accuracy 88.53%; Length Accuracy 96.68%, Dups Accuracy 98.50% | Validation Loss 0.4099, Accuracy 85.21%; Length Accuracy 96.46%, Dups Accuracy 99.57%; taken 89 sec\n",
      "Epoch 49, Train Loss 0.1021, Accuracy 88.72%; Length Accuracy 96.70%, Dups Accuracy 98.50% | Validation Loss 0.4445, Accuracy 84.24%; Length Accuracy 96.20%, Dups Accuracy 99.71%; taken 89 sec\n",
      "Epoch 50, Train Loss 0.1036, Accuracy 88.70%; Length Accuracy 96.60%, Dups Accuracy 98.53% | Validation Loss 0.3955, Accuracy 85.58%; Length Accuracy 97.01%, Dups Accuracy 99.69%; taken 88 sec\n",
      "Epoch 51, Train Loss 0.1007, Accuracy 89.03%; Length Accuracy 96.77%, Dups Accuracy 98.56% | Validation Loss 0.4388, Accuracy 84.64%; Length Accuracy 95.63%, Dups Accuracy 99.60%; taken 88 sec\n",
      "Epoch 53, Train Loss 0.1000, Accuracy 89.03%; Length Accuracy 96.69%, Dups Accuracy 98.66% | Validation Loss 0.4158, Accuracy 85.20%; Length Accuracy 96.74%, Dups Accuracy 99.77%; taken 89 sec\n",
      "Epoch 54, Train Loss 0.0976, Accuracy 89.22%; Length Accuracy 96.65%, Dups Accuracy 98.64% | Validation Loss 0.4052, Accuracy 85.23%; Length Accuracy 96.70%, Dups Accuracy 100.02%; taken 89 sec\n",
      "Epoch 55, Train Loss 0.0970, Accuracy 89.29%; Length Accuracy 96.84%, Dups Accuracy 98.69% | Validation Loss 0.4371, Accuracy 85.38%; Length Accuracy 96.05%, Dups Accuracy 100.12%; taken 88 sec\n",
      "Epoch 56, Train Loss 0.0954, Accuracy 89.49%; Length Accuracy 96.75%, Dups Accuracy 98.69% | Validation Loss 0.3771, Accuracy 85.89%; Length Accuracy 97.25%, Dups Accuracy 99.60%; taken 88 sec\n",
      "Epoch 57, Train Loss 0.0940, Accuracy 89.58%; Length Accuracy 96.79%, Dups Accuracy 98.74% | Validation Loss 0.4357, Accuracy 84.78%; Length Accuracy 96.05%, Dups Accuracy 99.72%; taken 89 sec\n",
      "Epoch 58, Train Loss 0.0934, Accuracy 89.69%; Length Accuracy 96.84%, Dups Accuracy 98.72% | Validation Loss 0.4195, Accuracy 85.53%; Length Accuracy 95.88%, Dups Accuracy 99.88%; taken 89 sec\n",
      "Epoch 60, Train Loss 0.0917, Accuracy 90.10%; Length Accuracy 96.99%, Dups Accuracy 98.80% | Validation Loss 0.4050, Accuracy 86.57%; Length Accuracy 96.95%, Dups Accuracy 100.08%; taken 89 sec\n",
      "Epoch 61, Train Loss 0.3018, Accuracy 79.74%; Length Accuracy 95.06%, Dups Accuracy 97.33% | Validation Loss 0.2456, Accuracy 83.29%; Length Accuracy 96.58%, Dups Accuracy 99.07%; taken 111 sec\n",
      "Epoch 62, Train Loss 0.1926, Accuracy 87.00%; Length Accuracy 96.73%, Dups Accuracy 98.45% | Validation Loss 0.2280, Accuracy 83.95%; Length Accuracy 95.95%, Dups Accuracy 99.48%; taken 90 sec\n",
      "Epoch 63, Train Loss 0.1649, Accuracy 88.74%; Length Accuracy 97.26%, Dups Accuracy 98.76% | Validation Loss 0.2138, Accuracy 85.43%; Length Accuracy 96.76%, Dups Accuracy 99.84%; taken 89 sec\n",
      "Epoch 64, Train Loss 0.1580, Accuracy 89.17%; Length Accuracy 97.35%, Dups Accuracy 98.82% | Validation Loss 0.2102, Accuracy 85.99%; Length Accuracy 97.20%, Dups Accuracy 99.98%; taken 90 sec\n",
      "Epoch 65, Train Loss 0.1521, Accuracy 89.60%; Length Accuracy 97.48%, Dups Accuracy 98.89% | Validation Loss 0.2180, Accuracy 85.53%; Length Accuracy 96.93%, Dups Accuracy 99.70%; taken 90 sec\n",
      "Epoch 66, Train Loss 0.1555, Accuracy 89.30%; Length Accuracy 97.39%, Dups Accuracy 98.94% | Validation Loss 0.2111, Accuracy 86.27%; Length Accuracy 97.20%, Dups Accuracy 100.18%; taken 90 sec\n",
      "Epoch 67, Train Loss 0.1461, Accuracy 90.05%; Length Accuracy 97.67%, Dups Accuracy 99.03% | Validation Loss 0.2099, Accuracy 86.00%; Length Accuracy 97.33%, Dups Accuracy 100.01%; taken 90 sec\n",
      "Epoch 68, Train Loss 0.1437, Accuracy 90.20%; Length Accuracy 97.77%, Dups Accuracy 98.93% | Validation Loss 0.2133, Accuracy 85.51%; Length Accuracy 96.71%, Dups Accuracy 99.87%; taken 90 sec\n",
      "Epoch 69, Train Loss 0.1484, Accuracy 89.86%; Length Accuracy 97.72%, Dups Accuracy 98.86% | Validation Loss 0.1993, Accuracy 87.17%; Length Accuracy 97.23%, Dups Accuracy 100.11%; taken 90 sec\n",
      "Epoch 71, Train Loss 0.1390, Accuracy 90.39%; Length Accuracy 97.91%, Dups Accuracy 99.05% | Validation Loss 0.2094, Accuracy 86.76%; Length Accuracy 97.14%, Dups Accuracy 100.06%; taken 90 sec\n",
      "Epoch 72, Train Loss 0.1377, Accuracy 90.52%; Length Accuracy 97.84%, Dups Accuracy 99.06% | Validation Loss 0.2039, Accuracy 86.63%; Length Accuracy 97.31%, Dups Accuracy 100.00%; taken 89 sec\n",
      "Epoch 73, Train Loss 0.1330, Accuracy 90.87%; Length Accuracy 97.97%, Dups Accuracy 99.16% | Validation Loss 0.2125, Accuracy 86.48%; Length Accuracy 97.35%, Dups Accuracy 100.09%; taken 90 sec\n",
      "Epoch 74, Train Loss 0.1389, Accuracy 90.48%; Length Accuracy 97.85%, Dups Accuracy 99.10% | Validation Loss 0.1972, Accuracy 87.14%; Length Accuracy 97.53%, Dups Accuracy 100.01%; taken 90 sec\n",
      "Epoch 75, Train Loss 0.1340, Accuracy 90.72%; Length Accuracy 98.04%, Dups Accuracy 99.02% | Validation Loss 0.2136, Accuracy 85.45%; Length Accuracy 96.81%, Dups Accuracy 99.63%; taken 90 sec\n",
      "Epoch 76, Train Loss 0.1273, Accuracy 91.26%; Length Accuracy 98.03%, Dups Accuracy 99.25% | Validation Loss 0.2034, Accuracy 87.35%; Length Accuracy 96.84%, Dups Accuracy 100.31%; taken 90 sec\n",
      "Epoch 77, Train Loss 0.1382, Accuracy 90.52%; Length Accuracy 97.85%, Dups Accuracy 99.10% | Validation Loss 0.2051, Accuracy 86.06%; Length Accuracy 97.41%, Dups Accuracy 100.01%; taken 90 sec\n",
      "Epoch 78, Train Loss 0.1364, Accuracy 90.69%; Length Accuracy 98.02%, Dups Accuracy 99.08% | Validation Loss 0.2031, Accuracy 87.25%; Length Accuracy 97.22%, Dups Accuracy 100.17%; taken 90 sec\n",
      "Epoch 79, Train Loss 0.1424, Accuracy 90.49%; Length Accuracy 97.87%, Dups Accuracy 99.16% | Validation Loss 0.2056, Accuracy 86.18%; Length Accuracy 96.75%, Dups Accuracy 99.78%; taken 90 sec\n",
      "Epoch 80, Train Loss 0.1353, Accuracy 90.80%; Length Accuracy 98.01%, Dups Accuracy 99.12% | Validation Loss 0.2040, Accuracy 87.30%; Length Accuracy 97.39%, Dups Accuracy 100.26%; taken 90 sec\n",
      "Epoch 82, Train Loss 0.1226, Accuracy 91.71%; Length Accuracy 98.20%, Dups Accuracy 99.30% | Validation Loss 0.1978, Accuracy 87.94%; Length Accuracy 97.50%, Dups Accuracy 100.35%; taken 89 sec\n",
      "Epoch 83, Train Loss 0.1165, Accuracy 92.16%; Length Accuracy 98.31%, Dups Accuracy 99.33% | Validation Loss 0.1999, Accuracy 87.93%; Length Accuracy 97.66%, Dups Accuracy 100.42%; taken 90 sec\n",
      "Epoch 84, Train Loss 0.1174, Accuracy 92.10%; Length Accuracy 98.40%, Dups Accuracy 99.33% | Validation Loss 0.2040, Accuracy 87.42%; Length Accuracy 97.39%, Dups Accuracy 100.11%; taken 90 sec\n",
      "Epoch 85, Train Loss 0.1170, Accuracy 92.24%; Length Accuracy 98.43%, Dups Accuracy 99.40% | Validation Loss 0.2000, Accuracy 86.75%; Length Accuracy 97.96%, Dups Accuracy 100.10%; taken 90 sec\n",
      "Epoch 87, Train Loss 0.1250, Accuracy 91.61%; Length Accuracy 98.15%, Dups Accuracy 99.22% | Validation Loss 0.2118, Accuracy 87.40%; Length Accuracy 97.08%, Dups Accuracy 100.40%; taken 90 sec\n",
      "Epoch 88, Train Loss 0.1206, Accuracy 91.90%; Length Accuracy 98.31%, Dups Accuracy 99.29% | Validation Loss 0.2081, Accuracy 86.67%; Length Accuracy 97.39%, Dups Accuracy 100.36%; taken 90 sec\n",
      "Epoch 89, Train Loss 0.1179, Accuracy 92.06%; Length Accuracy 98.34%, Dups Accuracy 99.39% | Validation Loss 0.2018, Accuracy 87.63%; Length Accuracy 97.54%, Dups Accuracy 100.46%; taken 90 sec\n",
      "Epoch 90, Train Loss 0.1186, Accuracy 92.13%; Length Accuracy 98.39%, Dups Accuracy 99.39% | Validation Loss 0.2011, Accuracy 87.97%; Length Accuracy 97.43%, Dups Accuracy 100.54%; taken 90 sec\n",
      "Epoch 91, Train Loss 0.1138, Accuracy 92.39%; Length Accuracy 98.39%, Dups Accuracy 99.46% | Validation Loss 0.2032, Accuracy 87.86%; Length Accuracy 97.49%, Dups Accuracy 100.46%; taken 90 sec\n",
      "Epoch 92, Train Loss 0.1105, Accuracy 92.59%; Length Accuracy 98.57%, Dups Accuracy 99.41% | Validation Loss 0.1981, Accuracy 88.10%; Length Accuracy 97.35%, Dups Accuracy 100.54%; taken 90 sec\n",
      "Epoch 93, Train Loss 0.1099, Accuracy 92.55%; Length Accuracy 98.59%, Dups Accuracy 99.46% | Validation Loss 0.1988, Accuracy 87.80%; Length Accuracy 97.50%, Dups Accuracy 100.34%; taken 90 sec\n",
      "Epoch 94, Train Loss 0.1117, Accuracy 92.67%; Length Accuracy 98.58%, Dups Accuracy 99.45% | Validation Loss 0.2060, Accuracy 87.15%; Length Accuracy 97.26%, Dups Accuracy 100.20%; taken 90 sec\n",
      "Epoch 95, Train Loss 0.1137, Accuracy 92.57%; Length Accuracy 98.46%, Dups Accuracy 99.36% | Validation Loss 0.1974, Accuracy 87.70%; Length Accuracy 97.98%, Dups Accuracy 100.21%; taken 90 sec\n",
      "Epoch 96, Train Loss 0.1128, Accuracy 92.47%; Length Accuracy 98.46%, Dups Accuracy 99.46% | Validation Loss 0.2060, Accuracy 88.24%; Length Accuracy 97.62%, Dups Accuracy 100.68%; taken 90 sec\n",
      "Epoch 97, Train Loss 0.1092, Accuracy 92.71%; Length Accuracy 98.59%, Dups Accuracy 99.55% | Validation Loss 0.2083, Accuracy 87.63%; Length Accuracy 97.15%, Dups Accuracy 100.51%; taken 90 sec\n",
      "Epoch 98, Train Loss 0.1134, Accuracy 92.39%; Length Accuracy 98.54%, Dups Accuracy 99.40% | Validation Loss 0.2093, Accuracy 87.45%; Length Accuracy 97.04%, Dups Accuracy 100.34%; taken 90 sec\n",
      "Epoch 99, Train Loss 0.1120, Accuracy 92.73%; Length Accuracy 98.59%, Dups Accuracy 99.45% | Validation Loss 0.2117, Accuracy 87.53%; Length Accuracy 97.22%, Dups Accuracy 100.04%; taken 90 sec\n",
      "Epoch 100, Train Loss 0.1066, Accuracy 93.03%; Length Accuracy 98.70%, Dups Accuracy 99.50% | Validation Loss 0.2068, Accuracy 87.53%; Length Accuracy 97.39%, Dups Accuracy 100.42%; taken 90 sec\n",
      "Epoch 101, Train Loss 0.1101, Accuracy 92.78%; Length Accuracy 98.67%, Dups Accuracy 99.43% | Validation Loss 0.2000, Accuracy 87.50%; Length Accuracy 97.59%, Dups Accuracy 100.49%; taken 90 sec\n",
      "Epoch 102, Train Loss 0.1057, Accuracy 93.00%; Length Accuracy 98.57%, Dups Accuracy 99.50% | Validation Loss 0.1992, Accuracy 88.29%; Length Accuracy 97.65%, Dups Accuracy 100.61%; taken 90 sec\n",
      "Epoch 103, Train Loss 0.1089, Accuracy 92.86%; Length Accuracy 98.59%, Dups Accuracy 99.52% | Validation Loss 0.2150, Accuracy 87.75%; Length Accuracy 97.20%, Dups Accuracy 100.66%; taken 90 sec\n",
      "Epoch 104, Train Loss 0.1076, Accuracy 92.95%; Length Accuracy 98.75%, Dups Accuracy 99.51% | Validation Loss 0.2159, Accuracy 87.92%; Length Accuracy 96.94%, Dups Accuracy 100.45%; taken 90 sec\n",
      "Epoch 105, Train Loss 0.1052, Accuracy 92.94%; Length Accuracy 98.70%, Dups Accuracy 99.51% | Validation Loss 0.2053, Accuracy 88.09%; Length Accuracy 97.63%, Dups Accuracy 100.64%; taken 90 sec\n",
      "Epoch 106, Train Loss 0.1024, Accuracy 93.29%; Length Accuracy 98.73%, Dups Accuracy 99.56% | Validation Loss 0.2192, Accuracy 87.47%; Length Accuracy 96.77%, Dups Accuracy 100.59%; taken 90 sec\n",
      "Epoch 107, Train Loss 0.1022, Accuracy 93.42%; Length Accuracy 98.78%, Dups Accuracy 99.56% | Validation Loss 0.2153, Accuracy 87.19%; Length Accuracy 96.96%, Dups Accuracy 100.28%; taken 90 sec\n",
      "Epoch 108, Train Loss 0.1001, Accuracy 93.51%; Length Accuracy 98.74%, Dups Accuracy 99.57% | Validation Loss 0.2045, Accuracy 87.64%; Length Accuracy 97.19%, Dups Accuracy 100.11%; taken 90 sec\n",
      "Epoch 109, Train Loss 0.1026, Accuracy 93.45%; Length Accuracy 98.78%, Dups Accuracy 99.55% | Validation Loss 0.2082, Accuracy 87.88%; Length Accuracy 97.37%, Dups Accuracy 100.43%; taken 90 sec\n",
      "Epoch 110, Train Loss 0.0984, Accuracy 93.52%; Length Accuracy 98.79%, Dups Accuracy 99.64% | Validation Loss 0.2055, Accuracy 88.51%; Length Accuracy 97.74%, Dups Accuracy 100.68%; taken 90 sec\n",
      "Epoch 111, Train Loss 0.1041, Accuracy 93.21%; Length Accuracy 98.66%, Dups Accuracy 99.52% | Validation Loss 0.2009, Accuracy 88.58%; Length Accuracy 97.86%, Dups Accuracy 100.57%; taken 89 sec\n",
      "Epoch 112, Train Loss 0.1024, Accuracy 93.42%; Length Accuracy 98.73%, Dups Accuracy 99.54% | Validation Loss 0.2010, Accuracy 88.93%; Length Accuracy 97.40%, Dups Accuracy 100.66%; taken 90 sec\n",
      "Epoch 113, Train Loss 0.1136, Accuracy 92.52%; Length Accuracy 98.60%, Dups Accuracy 99.40% | Validation Loss 0.1956, Accuracy 88.21%; Length Accuracy 97.93%, Dups Accuracy 100.46%; taken 89 sec\n",
      "Epoch 114, Train Loss 0.1005, Accuracy 93.53%; Length Accuracy 98.85%, Dups Accuracy 99.58% | Validation Loss 0.2169, Accuracy 87.82%; Length Accuracy 97.34%, Dups Accuracy 100.33%; taken 90 sec\n",
      "Epoch 115, Train Loss 0.1020, Accuracy 93.36%; Length Accuracy 98.80%, Dups Accuracy 99.62% | Validation Loss 0.2003, Accuracy 88.00%; Length Accuracy 97.63%, Dups Accuracy 100.58%; taken 90 sec\n",
      "Epoch 116, Train Loss 0.0960, Accuracy 93.70%; Length Accuracy 98.85%, Dups Accuracy 99.65% | Validation Loss 0.2018, Accuracy 88.11%; Length Accuracy 97.64%, Dups Accuracy 100.45%; taken 89 sec\n",
      "Epoch 117, Train Loss 0.1094, Accuracy 92.99%; Length Accuracy 98.60%, Dups Accuracy 99.49% | Validation Loss 0.2082, Accuracy 88.26%; Length Accuracy 97.36%, Dups Accuracy 100.86%; taken 89 sec\n",
      "Epoch 118, Train Loss 0.0957, Accuracy 93.75%; Length Accuracy 98.93%, Dups Accuracy 99.63% | Validation Loss 0.2051, Accuracy 88.64%; Length Accuracy 97.83%, Dups Accuracy 100.64%; taken 90 sec\n",
      "Epoch 119, Train Loss 0.0972, Accuracy 93.65%; Length Accuracy 98.89%, Dups Accuracy 99.67% | Validation Loss 0.2055, Accuracy 88.60%; Length Accuracy 97.72%, Dups Accuracy 100.71%; taken 90 sec\n",
      "Epoch 120, Train Loss 0.0998, Accuracy 93.53%; Length Accuracy 98.82%, Dups Accuracy 99.59% | Validation Loss 0.2002, Accuracy 88.68%; Length Accuracy 97.40%, Dups Accuracy 100.78%; taken 90 sec\n"
     ]
    }
   ],
   "source": [
    "while epoch_step2 < EPOCHS_STEP2:\n",
    "    if epoch_step2 < EPOCHS_STEP2 // 2:\n",
    "        step2(epoch_step2)\n",
    "    else:\n",
    "        step2(epoch_step2, teacher_forcing=False)\n",
    "    epoch_step2 += 1"
   ]
  },
  {
   "cell_type": "markdown",
   "metadata": {},
   "source": [
    "## Testing"
   ]
  },
  {
   "cell_type": "markdown",
   "metadata": {},
   "source": [
    "### Whether prediction probability a good indicator of correctness?"
   ]
  },
  {
   "cell_type": "code",
   "execution_count": 38,
   "metadata": {},
   "outputs": [],
   "source": [
    "@tf.function\n",
    "def correctness_probs(glyph_tensor, target, length, total_dups, curr_dups):\n",
    "    features = encoder(glyph_tensor, training=False)\n",
    "    dups_pred = tf.nn.softmax(dup_decoder(features), axis=-1)\n",
    "    length_pred = tf.nn.softmax(length_decoder(features, d_t=dups_pred, d_c=curr_dups), axis=-1)\n",
    "\n",
    "    # calculate accuracy based on the code's whole string\n",
    "    predictions_id, probabilities = predict(features, MAX_LEN, length_pred, dups_pred, curr_dups)\n",
    "    correctness = tf.math.reduce_all(predictions_id == target, 1)\n",
    "    true_probs = tf.boolean_mask(probabilities, correctness)\n",
    "    false_probs = tf.boolean_mask(probabilities, tf.math.logical_not(correctness))\n",
    "    \n",
    "    return true_probs, false_probs"
   ]
  },
  {
   "cell_type": "code",
   "execution_count": 39,
   "metadata": {},
   "outputs": [],
   "source": [
    "correct_probs = np.array([])\n",
    "wrong_probs = np.array([])\n",
    "for (glyph_tensor, target, length, total_dups, curr_dups) in val_dataset:\n",
    "    t_p, f_p = correctness_probs(glyph_tensor, target, length, total_dups, curr_dups)\n",
    "    correct_probs = np.append(correct_probs, t_p.numpy())\n",
    "    wrong_probs = np.append(wrong_probs, f_p.numpy())"
   ]
  },
  {
   "cell_type": "code",
   "execution_count": 40,
   "metadata": {},
   "outputs": [
    {
     "name": "stdout",
     "output_type": "stream",
     "text": [
      "10th percentile: correct predictions 84.82%, wrong predictions 28.65%\n",
      "20th percentile: correct predictions 95.11%, wrong predictions 39.88%\n",
      "30th percentile: correct predictions 97.69%, wrong predictions 48.79%\n",
      "40th percentile: correct predictions 98.71%, wrong predictions 55.86%\n",
      "50th percentile: correct predictions 99.20%, wrong predictions 64.77%\n",
      "60th percentile: correct predictions 99.49%, wrong predictions 73.52%\n",
      "70th percentile: correct predictions 99.69%, wrong predictions 81.87%\n",
      "80th percentile: correct predictions 99.82%, wrong predictions 90.05%\n",
      "90th percentile: correct predictions 99.90%, wrong predictions 97.07%\n"
     ]
    }
   ],
   "source": [
    "for i in range(1, 10):\n",
    "    print('{}th percentile: correct predictions {:.2%}, wrong predictions {:.2%}'.format(\n",
    "        10*i, np.percentile(correct_probs, 10*i), np.percentile(wrong_probs, 10*i)))"
   ]
  },
  {
   "cell_type": "markdown",
   "metadata": {},
   "source": [
    "### Have a look at the actual use"
   ]
  },
  {
   "cell_type": "code",
   "execution_count": 41,
   "metadata": {},
   "outputs": [],
   "source": [
    "@tf.function\n",
    "def test(glyph):\n",
    "    features = encoder(glyph, training=False)\n",
    "    total_dups = tf.nn.softmax(dup_decoder(features), axis=-1)\n",
    "    dups_dict = tf.math.argmax(total_dups, axis=-1)\n",
    "    max_dup = tf.math.reduce_max(dups_dict) + 1\n",
    "    \n",
    "    results = tf.zeros((glyph.shape[0], max_dup, MAX_LEN + 1), dtype='int64')\n",
    "    probs = tf.zeros((glyph.shape[0], max_dup), dtype='float32')\n",
    "    identity_matrix = tf.convert_to_tensor(np.identity(MAX_DUP), dtype='int64')\n",
    "    \n",
    "    for i in range(max_dup):\n",
    "        curr_dups = tf.math.minimum(tf.math.argmax(total_dups, axis=-1), i)\n",
    "        curr_dups = tf.nn.embedding_lookup(identity_matrix, curr_dups)\n",
    "        length = tf.nn.softmax(length_decoder(features, total_dups, curr_dups), axis=-1)\n",
    "        test_result, prob = predict(features, MAX_LEN, length, total_dups, curr_dups)\n",
    "        results = tf.concat([results[:, :i, :], tf.expand_dims(test_result, axis=1), tf.zeros((glyph.shape[0], max_dup - i - 1, MAX_LEN + 1), dtype='int64')], axis=1)\n",
    "        probs = tf.concat([probs[:, :i], tf.expand_dims(prob, axis=1), tf.zeros((glyph.shape[0], max_dup - i - 1), dtype='float32')], axis=1)\n",
    "    return results, probs, dups_dict"
   ]
  },
  {
   "cell_type": "code",
   "execution_count": 42,
   "metadata": {},
   "outputs": [],
   "source": [
    "def evaluate(word):\n",
    "    test_input = []\n",
    "    for char in word:\n",
    "        glyph = glyphbook.draw(char)\n",
    "        if glyph is not None:\n",
    "            test_input.append(glyph)\n",
    "        else:\n",
    "            raise ValueError('Character {} unsupported.'.format(char))\n",
    "    test_input = np.expand_dims(test_input, -1)\n",
    "    \n",
    "    def decode(indexes):\n",
    "        code = ''\n",
    "        for i in indexes:\n",
    "            if i <= 0:\n",
    "                continue\n",
    "            elif i >= 27:\n",
    "                break\n",
    "            else:\n",
    "                code += chr(i + 96)\n",
    "        return code\n",
    "    \n",
    "    results, probs, dups_dict = test(test_input)\n",
    "    results = results.numpy()\n",
    "    probs = probs.numpy()\n",
    "    dups_dict = dups_dict.numpy()\n",
    "    \n",
    "    final_result = []\n",
    "    for i in range(results.shape[0]):\n",
    "        final_result.append([])\n",
    "        for j in range(results.shape[1]):\n",
    "            if j <= dups_dict[i]:\n",
    "                final_result[-1].append([decode(results[i, j, :]), probs[i, j]])\n",
    "    \n",
    "    return final_result"
   ]
  },
  {
   "cell_type": "code",
   "execution_count": null,
   "metadata": {},
   "outputs": [
    {
     "data": {
      "text/plain": [
       "[[['omm', 0.9523368]],\n",
       " [['tghi', 0.8739416]],\n",
       " [['iftwt', 0.99626595], ['mftwt', 0.99561006]],\n",
       " [['ora', 0.98931175]],\n",
       " [['oymr', 0.99481773]],\n",
       " [['eabt', 0.99797684]],\n",
       " [['iav', 0.9749448]],\n",
       " [['tcp', 0.99844986]],\n",
       " [['ooro', 0.9937146]],\n",
       " [['yryrv', 0.9985458]]]"
      ]
     },
     "execution_count": 43,
     "metadata": {},
     "output_type": "execute_result"
    }
   ],
   "source": [
    "evaluate('仁義禮智信温良恭儉讓')"
   ]
  }
 ],
 "metadata": {
  "hide_input": false,
  "jupytext": {
   "encoding": "# -*- coding: utf-8 -*-"
  },
  "kernelspec": {
   "display_name": "Python 3",
   "language": "python",
   "name": "python3"
  },
  "language_info": {
   "codemirror_mode": {
    "name": "ipython",
    "version": 3
   },
   "file_extension": ".py",
   "mimetype": "text/x-python",
   "name": "python",
   "nbconvert_exporter": "python",
   "pygments_lexer": "ipython3",
   "version": "3.7.5"
  }
 },
 "nbformat": 4,
 "nbformat_minor": 4
}
