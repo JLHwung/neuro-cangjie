{
 "cells": [
  {
   "cell_type": "code",
   "execution_count": 1,
   "metadata": {},
   "outputs": [],
   "source": [
    "from PIL import ImageFont, ImageDraw, Image\n",
    "from fontTools.ttLib import TTFont\n",
    "\n",
    "import numpy as np\n",
    "import pandas as pd\n",
    "import tensorflow as tf\n",
    "from sklearn.model_selection import train_test_split\n",
    "\n",
    "import time\n",
    "import datetime\n",
    "import multiprocessing"
   ]
  },
  {
   "cell_type": "code",
   "execution_count": 2,
   "metadata": {},
   "outputs": [],
   "source": [
    "VOCAB = 28; EBD_DIM = 256; UNIT_DIM = 256; BATCH_SIZE = 256"
   ]
  },
  {
   "cell_type": "markdown",
   "metadata": {},
   "source": [
    "## Load Data"
   ]
  },
  {
   "cell_type": "code",
   "execution_count": 3,
   "metadata": {},
   "outputs": [],
   "source": [
    "class Glyph(object):\n",
    "    # transform character to bitmap\n",
    "    def __init__(self, fonts, size=64):\n",
    "        # load fonts, size. We will use 2 fonts for all CJK characters, so keep 2 codepoint books.\n",
    "        self.codepoints = [set() for _ in fonts]\n",
    "        self.size = int(size * 0.8)\n",
    "        self.size_img = size\n",
    "        self.pad = (size - self.size) // 2\n",
    "        self.fonts = [ImageFont.truetype(f, self.size) for f in fonts]\n",
    "        # use a cache to reduce computation if duplicated characters encountered.\n",
    "        self.cache = {}\n",
    "        for cp, font in zip(self.codepoints, fonts):\n",
    "            font = TTFont(font)\n",
    "            # store codepoints in font cmap into self.codepoints\n",
    "            for cmap in font['cmap'].tables:\n",
    "                if not cmap.isUnicode():\n",
    "                    continue\n",
    "                for k in cmap.cmap:\n",
    "                    cp.add(k)\n",
    "    \n",
    "    def draw(self, ch):\n",
    "        if ch in self.cache:\n",
    "            return self.cache[ch]\n",
    "        # search among fonts, use the first found\n",
    "        exist = False\n",
    "        for i in range(len(self.codepoints)):\n",
    "            if ord(ch) in self.codepoints[i]:\n",
    "                font = self.fonts[i]\n",
    "                exist = True\n",
    "                break\n",
    "        if not exist:\n",
    "            return None\n",
    "\n",
    "        img = Image.new('L', (self.size_img, self.size_img), 0)\n",
    "        draw = ImageDraw.Draw(img)\n",
    "        (width, baseline), (offset_x, offset_y) = font.font.getsize(ch)\n",
    "        draw.text((self.pad - offset_x, self.pad - offset_y + 4), ch, font=font, fill=255, stroke_fill=255) \n",
    "        img_array = np.array(img.getdata(), dtype='float32').reshape((self.size_img, self.size_img)) / 255\n",
    "        self.cache[ch] = img_array\n",
    "\n",
    "        return img_array"
   ]
  },
  {
   "cell_type": "code",
   "execution_count": 4,
   "metadata": {},
   "outputs": [],
   "source": [
    "glyphbook = Glyph(['data/fonts/HanaMinA.otf', 'data/fonts/HanaMinB.otf'])\n",
    "\n",
    "def _mapping(item):\n",
    "    char, code, dup_total, dup_curr = item\n",
    "    glyph = glyphbook.draw(char)\n",
    "    if glyph is not None:\n",
    "        return glyph, code, dup_total, dup_curr\n",
    "\n",
    "def preprocess_chart(chart, cores=multiprocessing.cpu_count()):\n",
    "    glyphs = []; codes = []\n",
    "    dup_total = []; dup_curr = []\n",
    "    with multiprocessing.Pool(processes=cores) as pool:\n",
    "        for item in pool.map(_mapping, chart.values):\n",
    "            if item is not None:\n",
    "                glyphs.append(item[0])\n",
    "                codes.append(item[1])\n",
    "                dup_total.append(item[2])\n",
    "                dup_curr.append(item[3])\n",
    "    return np.expand_dims(np.array(glyphs), -1), np.array(codes), np.array(dup_total), np.array(dup_curr)"
   ]
  },
  {
   "cell_type": "code",
   "execution_count": 5,
   "metadata": {},
   "outputs": [],
   "source": [
    "def tokenizer(code_table):\n",
    "    # Cangjie code consists only of a-z, with maximum length of 5, minimum of 1\n",
    "    # start with 0, a-z are 1-26, end and padding are 27\n",
    "    tokens = np.zeros((*code_table.shape, 1), dtype='int64')\n",
    "    code_index = list(map(lambda x: list(map(lambda y: ord(y) - 96, list(x))) + [27] * (5-len(x)), code_table))\n",
    "    tokens = np.append(tokens, np.array(code_index), axis=-1)\n",
    "    return tokens"
   ]
  },
  {
   "cell_type": "code",
   "execution_count": 6,
   "metadata": {},
   "outputs": [],
   "source": [
    "code_chart = pd.read_csv('data/cangjie6.txt', delimiter='\\t', header=None, names=['Char', 'Code'], keep_default_na=False)"
   ]
  },
  {
   "cell_type": "code",
   "execution_count": 7,
   "metadata": {},
   "outputs": [],
   "source": [
    "count = {}\n",
    "for char, code in code_chart.values:\n",
    "    if char in count:\n",
    "        count[char].append(code)\n",
    "        count[char].sort(key=len)\n",
    "        count[char].sort(key=lambda x: (len(x), x))\n",
    "    else:\n",
    "        count[char] = [code]"
   ]
  },
  {
   "cell_type": "code",
   "execution_count": 8,
   "metadata": {},
   "outputs": [],
   "source": [
    "MAX_LEN = code_chart.Code.map(len).max()\n",
    "MAX_DUP = max(map(lambda x: len(x), count.values()))"
   ]
  },
  {
   "cell_type": "code",
   "execution_count": 9,
   "metadata": {},
   "outputs": [],
   "source": [
    "code_chart['DuplicateTotal'] = code_chart['Char'].map(count).map(len).copy()\n",
    "code_chart['DuplicateCurrent'] = code_chart.apply(lambda x: count[x['Char']].index(x['Code']) + 1, axis=1).copy()"
   ]
  },
  {
   "cell_type": "code",
   "execution_count": 10,
   "metadata": {},
   "outputs": [],
   "source": [
    "glyphs, codes, dups_total, dups_curr = preprocess_chart(code_chart)\n",
    "tokens = tokenizer(codes)\n",
    "lengths = np.array([len(list(filter(lambda i: i < VOCAB - 1 and i > 0, x))) for x in tokens])\n",
    "lengths = np.array([np.identity(MAX_LEN)[i-1] for i in lengths], dtype='int64')\n",
    "dups_total = np.array([np.identity(MAX_DUP)[i-1] for i in dups_total], dtype='int64')\n",
    "dups_curr = np.array([np.identity(MAX_DUP)[i-1] for i in dups_curr], dtype='int64')\n",
    "del code_chart, codes, count"
   ]
  },
  {
   "cell_type": "code",
   "execution_count": 11,
   "metadata": {},
   "outputs": [],
   "source": [
    "(train_glyphs, validation_glyphs,\n",
    " train_tokens, validation_tokens,\n",
    " train_lengths, validation_lengths,\n",
    " train_dups_total, validation_dups_total,\n",
    " train_dups_curr, validation_dups_curr) = train_test_split(\n",
    "    glyphs, tokens, lengths, dups_total, dups_curr, test_size=0.1, random_state=1225)\n",
    "del glyphs, tokens, lengths, dups_total, dups_curr"
   ]
  },
  {
   "cell_type": "code",
   "execution_count": 12,
   "metadata": {},
   "outputs": [],
   "source": [
    "num_steps = train_glyphs.shape[0] // BATCH_SIZE + min(1, train_glyphs.shape[0] % BATCH_SIZE)\n",
    "num_steps_val = validation_glyphs.shape[0] // BATCH_SIZE + min(1, validation_glyphs.shape[0] % BATCH_SIZE)\n",
    "\n",
    "dataset = tf.data.Dataset.from_tensor_slices((train_glyphs, train_tokens, train_lengths, train_dups_total, train_dups_curr))\n",
    "dataset = dataset.shuffle(train_glyphs.shape[0]).batch(BATCH_SIZE)\n",
    "dataset = dataset.prefetch(buffer_size=tf.data.experimental.AUTOTUNE)\n",
    "\n",
    "val_dataset = tf.data.Dataset.from_tensor_slices((validation_glyphs, validation_tokens, validation_lengths, validation_dups_total, validation_dups_curr))\n",
    "val_dataset = val_dataset.shuffle(validation_glyphs.shape[0]).batch(BATCH_SIZE)\n",
    "val_dataset = val_dataset.prefetch(buffer_size=tf.data.experimental.AUTOTUNE)\n",
    "\n",
    "del train_glyphs, validation_glyphs, train_tokens, validation_tokens, train_lengths, validation_lengths\n",
    "del train_dups_total, validation_dups_total, train_dups_curr, validation_dups_curr"
   ]
  },
  {
   "cell_type": "markdown",
   "metadata": {},
   "source": [
    "## Model"
   ]
  },
  {
   "cell_type": "code",
   "execution_count": 13,
   "metadata": {},
   "outputs": [],
   "source": [
    "class Res_CNN(tf.keras.layers.Layer):\n",
    "    def __init__(self, feature_dim, kernel_size):\n",
    "        super(Res_CNN, self).__init__()\n",
    "        self.cnn1 = tf.keras.layers.Convolution2D(feature_dim, kernel_size, padding='same')\n",
    "        self.cnn2 = tf.keras.layers.Convolution2D(feature_dim, kernel_size, padding='same')\n",
    "        self.cnn3 = tf.keras.layers.Convolution2D(feature_dim, kernel_size, padding='same')\n",
    "        self.norm = tf.keras.layers.BatchNormalization()\n",
    "        \n",
    "    def call(self, x):\n",
    "        x = self.cnn1(x)\n",
    "        x_identity = tf.identity(x)\n",
    "        x = self.cnn2(x)\n",
    "        x_identity2 = tf.identity(x)\n",
    "        x = self.cnn3(x + x_identity)\n",
    "        x = self.norm(x + x_identity2)\n",
    "        x = tf.nn.relu(x)\n",
    "        return x"
   ]
  },
  {
   "cell_type": "code",
   "execution_count": 14,
   "metadata": {},
   "outputs": [],
   "source": [
    "class CNN_Encoder(tf.keras.layers.Layer):\n",
    "    # This is essentially a CNN layer, \n",
    "    def __init__(self, embedding_dim):\n",
    "        super(CNN_Encoder, self).__init__()\n",
    "        self.res_cnn1 = Res_CNN(embedding_dim // 16, (3, 3))\n",
    "        self.pool1 = tf.keras.layers.MaxPool2D((2, 2))\n",
    "        self.res_cnn2 = Res_CNN(embedding_dim // 4, (3, 3))\n",
    "        self.pool2 = tf.keras.layers.MaxPool2D((2, 2))\n",
    "        self.res_cnn3 = Res_CNN(embedding_dim, (3, 3))\n",
    "        self.fc = tf.keras.layers.Dense(embedding_dim, activation='relu')\n",
    "\n",
    "    def call(self, x, training=True):\n",
    "        # x shape after cnn1 == (batch_size, 64, 64, embedding_dim // 16)\n",
    "        x = self.res_cnn1(x)\n",
    "        # x shape after pool1 == (batch_size, 32, 32, embedding_dim // 16)\n",
    "        x = self.pool1(x)\n",
    "        \n",
    "        # x shape after cnn2 == (batch_size, 32, 32, embedding_dim // 4)\n",
    "        x = self.res_cnn2(x)\n",
    "        # x shape after pool2 == (batch_size, 16, 16, embedding_dim // 4)\n",
    "        x = self.pool2(x)\n",
    "        \n",
    "        # x shape after cnn3 == (batch_size, 16, 16, embedding_dim)\n",
    "        x = self.res_cnn3(x)\n",
    "        \n",
    "        # x shape after fc == (batch_size, 16, 16, embedding_dim)\n",
    "        if training:\n",
    "            x = tf.nn.dropout(x, rate=0.5)\n",
    "        x = self.fc(x)\n",
    "        return x"
   ]
  },
  {
   "cell_type": "code",
   "execution_count": 15,
   "metadata": {},
   "outputs": [],
   "source": [
    "class Bahdanau_Attention(tf.keras.layers.Layer):\n",
    "    def __init__(self, attention_dim):\n",
    "        super(Bahdanau_Attention, self).__init__()\n",
    "        self.W1 = tf.keras.layers.Dense(attention_dim)\n",
    "        self.W2 = tf.keras.layers.Dense(attention_dim)\n",
    "        self.V = tf.keras.layers.Dense(1)\n",
    "\n",
    "    def call(self, features, hidden):\n",
    "        # features(CNN_Encoder output) shape == (batch_size, 256, embedding_dim)\n",
    "        features = tf.reshape(features, [tf.shape(features)[0], -1, features.shape[-1]])\n",
    "        \n",
    "        # hidden shape == (batch_size, hidden_size)\n",
    "        # hidden_with_time_axis shape == (batch_size, 1, hidden_size)\n",
    "        hidden_with_time_axis = tf.expand_dims(hidden, 1)\n",
    "\n",
    "        # score shape == (batch_size, 256, attention_dim)\n",
    "        score = tf.nn.tanh(self.W1(features) + self.W2(hidden_with_time_axis))\n",
    "\n",
    "        # attention_weights shape == (batch_size, 256, 1)\n",
    "        # you get 1 at the last axis because you are applying score to self.V\n",
    "        attention_weights = tf.nn.softmax(self.V(score), axis=1)\n",
    "\n",
    "        # context_vector shape after sum == (batch_size, embedding_dim)\n",
    "        context_vector = attention_weights * features\n",
    "        context_vector = tf.reduce_sum(context_vector, axis=1)\n",
    "\n",
    "        return context_vector, attention_weights"
   ]
  },
  {
   "cell_type": "code",
   "execution_count": 16,
   "metadata": {},
   "outputs": [],
   "source": [
    "class Simple_Decoder(tf.keras.layers.Layer):\n",
    "    def __init__(self, embedding_dim, max_length, hidden_size, vocab_size):\n",
    "        super(Simple_Decoder, self).__init__()\n",
    "        self.embedding = tf.keras.layers.Embedding(vocab_size, embedding_dim)\n",
    "        self.attention = Bahdanau_Attention(embedding_dim)\n",
    "        self.fc1 = tf.keras.layers.Dense(hidden_size, activation='relu')\n",
    "        self.fc2 = tf.keras.layers.Dense(vocab_size)\n",
    "        \n",
    "    def call(self, features, position):\n",
    "        # y shape (batch_size, hidden_size)\n",
    "        y = self.embedding(position)\n",
    "        # x shape (batch_size, embedding_dim)\n",
    "        x, w = self.attention(features, y)\n",
    "        # x shape (batch_size, hidden_size)\n",
    "        x = self.fc1(x)\n",
    "        # x shape (batch_size, vocab_size)\n",
    "        x = self.fc2(x)\n",
    "        return x, w"
   ]
  },
  {
   "cell_type": "code",
   "execution_count": 17,
   "metadata": {},
   "outputs": [],
   "source": [
    "class Dense_Decoder(tf.keras.layers.Layer):\n",
    "    def __init__(self, max_length):\n",
    "        super(Dense_Decoder, self).__init__()\n",
    "        self.pool = tf.keras.layers.MaxPool2D((2, 2))\n",
    "        self.fc1 = tf.keras.layers.Dense(max_length * 16, activation='relu')\n",
    "        self.fc2 = tf.keras.layers.Dense(max_length * 16, activation='relu')\n",
    "        self.fc3 = tf.keras.layers.Dense(max_length * 4, activation='relu')\n",
    "        self.fc4 = tf.keras.layers.Dense(max_length)\n",
    "        \n",
    "    def call(self, x, d_t=None, d_c=None):\n",
    "        # shape after pool == (batch_size, 8, 8, embedding_dim)\n",
    "        x = self.pool(x)\n",
    "        x = self.fc1(x)\n",
    "        x = tf.reshape(x, [tf.shape(x)[0], tf.math.reduce_prod(x.shape[1:])])\n",
    "        if d_t != None and d_c != None:\n",
    "            d = tf.concat([tf.cast(d_t, 'float32'), tf.cast(d_c, 'float32')], axis=-1)\n",
    "            x = tf.concat([d, x], axis=-1)\n",
    "        x = self.fc2(x)\n",
    "        x = self.fc3(x)\n",
    "        x = self.fc4(x)\n",
    "        # shape = (batch_size, max_length)\n",
    "        return x"
   ]
  },
  {
   "cell_type": "code",
   "execution_count": 18,
   "metadata": {},
   "outputs": [],
   "source": [
    "class RNN_Decoder(tf.keras.layers.Layer):\n",
    "    def __init__(self, embedding_dim, hidden_size, vocab_size, max_length):\n",
    "        super(RNN_Decoder, self).__init__()\n",
    "        self.hidden_size = hidden_size\n",
    "        self.embedding = tf.keras.layers.Embedding(vocab_size, embedding_dim)\n",
    "        self.gru1 = tf.keras.layers.GRU(self.hidden_size, return_sequences=True,\n",
    "                                        return_state=True, recurrent_initializer='glorot_uniform')\n",
    "        self.gru2 = tf.keras.layers.GRU(self.hidden_size, return_sequences=True,\n",
    "                                        return_state=True, recurrent_initializer='glorot_uniform')\n",
    "        self.gru3 = tf.keras.layers.GRU(self.hidden_size, return_sequences=True,\n",
    "                                        return_state=True, recurrent_initializer='glorot_uniform')\n",
    "        self.fc1 = tf.keras.layers.Dense(hidden_size, activation='relu')\n",
    "        self.fc2 = tf.keras.layers.Dense(vocab_size)\n",
    "\n",
    "        self.attention = Bahdanau_Attention(hidden_size)\n",
    "\n",
    "    def call(self, x, l, d_t, d_c, features, hidden, training=True, teacher_forcing=True):\n",
    "        # x is forward direction, y is beckward direction\n",
    "        # defining attention as a separate model\n",
    "        l = tf.cast(l, 'float32')\n",
    "        hidden_0_with_length = tf.concat([l, hidden[0]], axis=-1)\n",
    "        context_vector, attention_weights = self.attention(features, hidden_0_with_length)\n",
    "        l = tf.expand_dims(l, 1)\n",
    "        d = tf.expand_dims(tf.concat([tf.cast(d_t, 'float32'), tf.cast(d_c, 'float32')], axis=-1), 1)\n",
    "\n",
    "        # x shape before is (batch_size, 1) since it is passed through one by one at a time\n",
    "        # x shape after passing through embedding == (batch_size, 1, embedding_dim)\n",
    "        if teacher_forcing:\n",
    "            x = self.embedding(x)\n",
    "        else:\n",
    "            if not self.embedding.built:\n",
    "                self.embedding(x)\n",
    "            x = tf.tensordot(x, self.embedding.weights[0], axes=[-1,0])\n",
    "        # context_vector shape is (batch_size, embedding_dim)\n",
    "        # x shape after concatenation == (batch_size, 1, embedding_dim + embedding_dim)\n",
    "        x = tf.concat([tf.expand_dims(context_vector, 1), x], axis=-1)\n",
    "\n",
    "        # passing the concatenated vector to the GRU\n",
    "        # x shape is (batch_size, 1, hidden_size)\n",
    "        # state is new hidden used in next step\n",
    "        if training:\n",
    "            x = tf.nn.dropout(x, rate=0.3)\n",
    "        x, state1 = self.gru1(x, initial_state = hidden[0], training=training)\n",
    "        x_identity = tf.identity(x)\n",
    "        x = tf.concat([d, l, x], axis=-1)\n",
    "        x, state2 = self.gru2(x, initial_state = hidden[1], training=training)\n",
    "        x_identity2 = tf.identity(x)\n",
    "        \n",
    "        x = x + x_identity\n",
    "        if training:\n",
    "            x = tf.nn.dropout(x, rate=0.3)\n",
    "        x, state3 = self.gru3(x, initial_state = hidden[2], training=training)\n",
    "        # x shape (batch_size, 1, max_length + hidden_size)\n",
    "        x = tf.concat([d, l, x + x_identity2], axis=-1)\n",
    "        x = tf.reshape(x, [tf.shape(x)[0], tf.math.reduce_prod(x.shape[1:])])\n",
    "        # x shape (batch_size, hidden_size)\n",
    "        x = self.fc1(x)\n",
    "        # x shape (batch_size, vocab_size)\n",
    "        x = self.fc2(x)\n",
    "\n",
    "        return x, [state1, state2, state3], attention_weights\n",
    "\n",
    "    def reset_state(self, batch_size):\n",
    "        # generate new hidden layer with different batch size\n",
    "        return [tf.zeros([batch_size, self.hidden_size]) for _ in range(3)]"
   ]
  },
  {
   "cell_type": "code",
   "execution_count": 19,
   "metadata": {},
   "outputs": [],
   "source": [
    "class Cangjie(tf.keras.Model):\n",
    "    def __init__(self, encoder, decoder, length, duplicate):\n",
    "        super(Cangjie, self).__init__()\n",
    "        self.encoder = encoder\n",
    "        self.decoder = decoder\n",
    "        self.length = length\n",
    "        self.duplicate = duplicate\n",
    "    \n",
    "    @tf.function(input_signature=[tf.TensorSpec(shape=[None, 64, 64, 1], dtype=tf.float32)])\n",
    "    def encode(self, glyph):\n",
    "        return self.encoder(glyph, training=False)\n",
    "\n",
    "    @tf.function(input_signature=[tf.TensorSpec(shape=[None, 16, 16, EBD_DIM], dtype=tf.float32)])\n",
    "    def predict_duplicates(self, features):\n",
    "        return tf.nn.softmax(self.duplicate(features), axis=-1)\n",
    "    \n",
    "    @tf.function(input_signature=[tf.TensorSpec(shape=[None, 16, 16, EBD_DIM], dtype=tf.float32),\n",
    "                                 tf.TensorSpec(shape=[None, MAX_DUP], dtype=tf.float32),\n",
    "                                 tf.TensorSpec(shape=[None, MAX_DUP], dtype=tf.int64)])\n",
    "    def predict_length(self, features, total_dups, curr_dups):\n",
    "        return tf.nn.softmax(self.length(features, total_dups, curr_dups), axis=-1)\n",
    "    \n",
    "    @tf.function(input_signature=[tf.TensorSpec(shape=[None, 16, 16, EBD_DIM], dtype=tf.float32),\n",
    "                                  tf.TensorSpec(shape=[None, MAX_LEN], dtype=tf.float32),\n",
    "                                  tf.TensorSpec(shape=[None, MAX_DUP], dtype=tf.float32),\n",
    "                                  tf.TensorSpec(shape=[None, MAX_DUP], dtype=tf.int64)])\n",
    "    def decode(self, features, length, total_dups, curr_dups):\n",
    "        # start with 0\n",
    "        dec_input = tf.repeat(tf.constant([[[1] + [0] * (VOCAB - 1)]], dtype='float32'), tf.shape(features)[0], axis=0)\n",
    "        hidden = self.decoder.reset_state(batch_size=tf.shape(features)[0])\n",
    "        probability = tf.ones([tf.shape(features)[0]], dtype='float32')\n",
    "        # iterate predictions, no teacher forcing here\n",
    "        for i in range(MAX_LEN):\n",
    "            prediction, hidden, attention_weights = self.decoder(tf.expand_dims(dec_input[:, i, :], 1), length, total_dups, curr_dups, features, hidden, training=False, teacher_forcing=False)\n",
    "            # we need deterministic result\n",
    "            prediction = tf.math.softmax(prediction, axis=-1)\n",
    "            probability *= tf.math.reduce_max(prediction, axis=-1)\n",
    "            dec_input = tf.concat([dec_input, tf.expand_dims(prediction, 1)], axis=1)\n",
    "        return tf.math.argmax(dec_input, axis=-1), probability   \n",
    "\n",
    "    @tf.function(input_signature=[tf.TensorSpec(shape=[None, 64, 64, 1], dtype=tf.float32)])\n",
    "    def __call__(self, glyph):\n",
    "        features = self.encode(glyph)\n",
    "        total_dups = self.predict_duplicates(features)\n",
    "        dups_dict = tf.math.argmax(total_dups, axis=-1)\n",
    "        max_dup = tf.math.reduce_max(dups_dict) + 1\n",
    "\n",
    "        results = tf.zeros([tf.shape(glyph, out_type=tf.int64)[0], max_dup, MAX_LEN + 1], dtype='int64')\n",
    "        probs = tf.zeros([tf.shape(glyph, out_type=tf.int64)[0], max_dup], dtype='float32')\n",
    "        identity_matrix = tf.convert_to_tensor(np.identity(MAX_DUP), dtype='int64')\n",
    "\n",
    "        for i in range(max_dup):\n",
    "            curr_dups = tf.math.minimum(tf.math.argmax(total_dups, axis=-1), i)\n",
    "            curr_dups = tf.nn.embedding_lookup(identity_matrix, curr_dups)\n",
    "            length = self.predict_length(features, total_dups, curr_dups)\n",
    "            test_result, prob = self.decode(features, length, total_dups, curr_dups)\n",
    "            results = tf.concat([results[:, :i, :], tf.expand_dims(test_result, axis=1), tf.zeros([tf.shape(glyph, out_type=tf.int64)[0], max_dup - i - 1, MAX_LEN + 1], dtype='int64')], axis=1)\n",
    "            probs = tf.concat([probs[:, :i], tf.expand_dims(prob, axis=1), tf.zeros([tf.shape(glyph, out_type=tf.int64)[0], max_dup - i - 1], dtype='float32')], axis=1)\n",
    "        return results, probs, dups_dict"
   ]
  },
  {
   "cell_type": "markdown",
   "metadata": {},
   "source": [
    "## Graph"
   ]
  },
  {
   "cell_type": "code",
   "execution_count": 20,
   "metadata": {},
   "outputs": [],
   "source": [
    "optimizer_step1 = tf.keras.optimizers.Adam()\n",
    "optimizer_step2 = tf.keras.optimizers.Adam()\n",
    "optimizer_length = tf.keras.optimizers.Adam()\n",
    "optimizer_dups = tf.keras.optimizers.Adam()"
   ]
  },
  {
   "cell_type": "markdown",
   "metadata": {},
   "source": [
    "### Step 1"
   ]
  },
  {
   "cell_type": "code",
   "execution_count": 21,
   "metadata": {},
   "outputs": [],
   "source": [
    "loss_object = tf.keras.losses.SparseCategoricalCrossentropy(from_logits=True, reduction='none')\n",
    "\n",
    "def loss_function(real, pred):\n",
    "    loss_ = loss_object(real, pred)\n",
    "    return tf.reduce_mean(loss_)\n",
    "\n",
    "def accuracy_function(real, pred):\n",
    "    pred_index = tf.math.argmax(pred, axis=-1)\n",
    "    return tf.math.reduce_mean(tf.cast(pred_index == real, tf.float32))"
   ]
  },
  {
   "cell_type": "code",
   "execution_count": 22,
   "metadata": {},
   "outputs": [],
   "source": [
    "@tf.function\n",
    "def train_step1(glyph, target, length, total_dups, curr_dups):\n",
    "    loss = 0; accuracy = 0\n",
    "    with tf.GradientTape() as tape:\n",
    "        features = encoder(glyph)\n",
    "        for i in range(1, target.shape[1]):\n",
    "            position = tf.constant(i-1, dtype='int64', shape=[target.shape[0]])\n",
    "            prediction, weight = simple_decoder(features, position)\n",
    "            loss += loss_function(target[:, i], prediction)\n",
    "            accuracy += accuracy_function(target[:, i], prediction)\n",
    "\n",
    "    trainable_variables = simple_decoder.trainable_variables + encoder.trainable_variables\n",
    "    gradients = tape.gradient(loss, trainable_variables)\n",
    "    optimizer_step1.apply_gradients(zip(gradients, trainable_variables))\n",
    "    \n",
    "    with tf.GradientTape() as tape_length:\n",
    "        length_pred = length_decoder(features, total_dups, curr_dups)\n",
    "        loss_length = loss_function(tf.math.argmax(length, axis=-1), length_pred)\n",
    "\n",
    "    gradients_length = tape_length.gradient(loss_length, length_decoder.trainable_variables)\n",
    "    optimizer_length.apply_gradients(zip(gradients_length, length_decoder.trainable_variables))\n",
    "    \n",
    "    with tf.GradientTape() as tape_dups:\n",
    "        dups_pred = dup_decoder(features)\n",
    "        loss_dups = loss_function(tf.math.argmax(total_dups, axis=-1), dups_pred)\n",
    "\n",
    "    gradients_dups = tape_dups.gradient(loss_dups, dup_decoder.trainable_variables)\n",
    "    optimizer_dups.apply_gradients(zip(gradients_dups, dup_decoder.trainable_variables))\n",
    "    \n",
    "    return loss / (target.shape[1] - 1), accuracy / (target.shape[1] - 1)"
   ]
  },
  {
   "cell_type": "code",
   "execution_count": 23,
   "metadata": {},
   "outputs": [],
   "source": [
    "@tf.function\n",
    "def validation_step1(glyph, target):\n",
    "    loss = 0; accuracy = 0\n",
    "    feature = encoder(glyph, training=False)\n",
    "    for i in range(1, target.shape[1]):\n",
    "        position = tf.constant(i-1, dtype='int64', shape=[target.shape[0]])\n",
    "        prediction, weight = simple_decoder(feature, position)\n",
    "        loss += loss_function(target[:, i], prediction)\n",
    "        accuracy += accuracy_function(target[:, i], prediction)\n",
    "    return loss / (target.shape[1] - 1), accuracy / (target.shape[1] - 1)"
   ]
  },
  {
   "cell_type": "code",
   "execution_count": 24,
   "metadata": {
    "scrolled": true
   },
   "outputs": [],
   "source": [
    "def step1(epoch):\n",
    "    start = time.time()\n",
    "    total_loss = 0; val_loss = 0\n",
    "    total_accuracy = 0; val_accuracy = 0\n",
    "\n",
    "    for (batch, (glyph_tensor, target, length, total_dups, curr_dups)) in enumerate(dataset, start=1):\n",
    "        t_loss, accuracy = train_step1(glyph_tensor, target, length, total_dups, curr_dups)\n",
    "        total_loss += t_loss\n",
    "        total_accuracy += accuracy\n",
    "        print('Epoch {}, Train Loss {:.4f}, Accuracy {:.2%}; progress {:.1%}, taken {:.0f} sec'.format(\n",
    "            epoch + 1, total_loss/batch, total_accuracy / batch, batch / num_steps, time.time() - start), end='\\r')\n",
    "    \n",
    "    for (glyph_tensor, target, _, _, _) in val_dataset:\n",
    "        t_loss, accuracy = validation_step1(glyph_tensor, target)\n",
    "        val_loss += t_loss\n",
    "        val_accuracy += accuracy\n",
    "   \n",
    "    # storing the epoch end loss value to plot later \n",
    "    ckpt_manager_step1.save()\n",
    "\n",
    "    print ('Epoch {}, Train Loss {:.4f}, Accuracy {:.2%} | Validation Loss {:.4f}, Accuracy {:.2%}; taken {:.0f} sec'.format(\n",
    "        epoch+1, total_loss/num_steps, total_accuracy/num_steps, val_loss/num_steps_val, val_accuracy/num_steps_val, time.time() - start))"
   ]
  },
  {
   "cell_type": "markdown",
   "metadata": {},
   "source": [
    "### Step 2"
   ]
  },
  {
   "cell_type": "code",
   "execution_count": 25,
   "metadata": {},
   "outputs": [],
   "source": [
    "def predict(features, max_length, length, total_dups, curr_dups):\n",
    "    # start with 0\n",
    "    dec_input = tf.constant([[[1] + [0] * (VOCAB - 1)]] * features.shape[0], dtype='float32')\n",
    "    hidden = decoder.reset_state(batch_size=features.shape[0])\n",
    "    probability = tf.ones([features.shape[0]], dtype='float32')\n",
    "    # iterate predictions, no teacher forcing here\n",
    "    for i in range(max_length):\n",
    "        prediction, hidden, attention_weights = decoder(\n",
    "            tf.expand_dims(dec_input[:, i, :], 1), length, total_dups, curr_dups, features, hidden, training=False, teacher_forcing=False)\n",
    "        # we need deterministic result\n",
    "        prediction = tf.math.softmax(prediction, axis=-1)\n",
    "        probability *= tf.math.reduce_max(prediction, axis=-1)\n",
    "        dec_input = tf.concat([dec_input, tf.expand_dims(prediction, 1)], axis=1)\n",
    "    return tf.math.argmax(dec_input, axis=-1), probability"
   ]
  },
  {
   "cell_type": "code",
   "execution_count": 26,
   "metadata": {},
   "outputs": [],
   "source": [
    "def predict_next(features, target, length, total_dups, curr_dups, training=True, teacher_forcing=True):\n",
    "    hidden = decoder.reset_state(batch_size=features.shape[0])\n",
    "    predictions = tf.zeros([features.shape[0], 1, VOCAB], dtype='float32')\n",
    "    if not teacher_forcing:\n",
    "        previous = tf.constant([[[1] + [0] * (VOCAB - 1)]] * features.shape[0], dtype='float32')\n",
    "    for i in range(target.shape[1]-1):\n",
    "        if teacher_forcing:\n",
    "            previous = tf.expand_dims(target[:, i], 1)\n",
    "        prediction, hidden, attention_weights = decoder(\n",
    "            previous, length, total_dups, curr_dups, features, hidden, training=training, teacher_forcing=teacher_forcing)\n",
    "        predictions = tf.concat([predictions, tf.expand_dims(prediction, 1)], axis=1)\n",
    "        if not teacher_forcing:\n",
    "            previous = tf.expand_dims(tf.math.softmax(prediction, axis=-1), 1)\n",
    "    return predictions[:, 1:, :]"
   ]
  },
  {
   "cell_type": "code",
   "execution_count": 27,
   "metadata": {},
   "outputs": [],
   "source": [
    "def loss_function_step2(real, pred):\n",
    "    mask = tf.math.logical_not(tf.math.equal(real, 0))\n",
    "    loss_ = loss_object(real, pred)\n",
    "    mask = tf.cast(mask, dtype=loss_.dtype)\n",
    "    loss_ *= mask\n",
    "    loss_ = tf.reduce_mean(loss_, axis=0)\n",
    "    return tf.reduce_sum(loss_)\n",
    "\n",
    "def accuracy_function_step2(real, pred):\n",
    "    accuracy = tf.math.reduce_all(pred == real, 1)\n",
    "    return tf.math.reduce_mean(tf.cast(accuracy, tf.float32))"
   ]
  },
  {
   "cell_type": "code",
   "execution_count": 28,
   "metadata": {},
   "outputs": [],
   "source": [
    "@tf.function\n",
    "def train_step2(glyph_tensor, target, length, total_dups, curr_dups, teacher_forcing=True):\n",
    "\n",
    "    with tf.GradientTape() as tape:\n",
    "        features = encoder(glyph_tensor)\n",
    "        \n",
    "        with tf.GradientTape() as tape_dups:\n",
    "            dups_pred = dup_decoder(features)\n",
    "            loss_dups = loss_function(tf.math.argmax(total_dups, axis=-1), dups_pred)\n",
    "        dups_pred = tf.nn.softmax(dups_pred, axis=-1)\n",
    "        \n",
    "        with tf.GradientTape() as tape_length:\n",
    "            if teacher_forcing:\n",
    "                length_pred = length_decoder(features, d_t=total_dups, d_c=curr_dups)\n",
    "            else:\n",
    "                length_pred = length_decoder(features, d_t=dups_pred, d_c=curr_dups)\n",
    "            loss_length = loss_function(tf.math.argmax(length, axis=-1), length_pred)\n",
    "        length_pred = tf.nn.softmax(length_pred, axis=-1)\n",
    "        \n",
    "        if teacher_forcing:\n",
    "            predictions = predict_next(features, target, length, total_dups, curr_dups)\n",
    "        else:\n",
    "            predictions = predict_next(features, target, length_pred, dups_pred, curr_dups, teacher_forcing=teacher_forcing)\n",
    "        loss = loss_function_step2(target[:, 1:], predictions)\n",
    "    \n",
    "    \n",
    "    trainable_variables = decoder.trainable_variables + encoder.trainable_variables\n",
    "    gradients = tape.gradient(loss, trainable_variables)\n",
    "    optimizer_step2.apply_gradients(zip(gradients, trainable_variables))\n",
    "\n",
    "    gradients_length = tape_length.gradient(loss_length, length_decoder.trainable_variables)\n",
    "    optimizer_length.apply_gradients(zip(gradients_length, length_decoder.trainable_variables))\n",
    "    \n",
    "    gradients_dups = tape_dups.gradient(loss_dups, dup_decoder.trainable_variables)\n",
    "    optimizer_dups.apply_gradients(zip(gradients_dups, dup_decoder.trainable_variables))\n",
    "    \n",
    "    # calculate accuracy based on the code's whole string\n",
    "    predictions_id, _ = predict(features, MAX_LEN, length_pred, dups_pred, curr_dups)\n",
    "    accuracy = accuracy_function_step2(predictions_id, target)\n",
    "    accuracy_length = accuracy_function(tf.math.argmax(length, axis=-1), length_pred)\n",
    "    accuracy_dups = accuracy_function(tf.math.argmax(total_dups, axis=-1), dups_pred)\n",
    "\n",
    "    return loss / (target.shape[1] - 1), accuracy, accuracy_length, accuracy_dups"
   ]
  },
  {
   "cell_type": "code",
   "execution_count": 29,
   "metadata": {},
   "outputs": [],
   "source": [
    "@tf.function\n",
    "def validation_step2(glyph_tensor, target, length, total_dups, curr_dups):\n",
    "    features = encoder(glyph_tensor, training=False)\n",
    "    dups_pred = tf.nn.softmax(dup_decoder(features), axis=-1)\n",
    "    length_pred = tf.nn.softmax(length_decoder(features, d_t=dups_pred, d_c=curr_dups), axis=-1)\n",
    "    predictions = predict_next(features, target, length_pred, dups_pred, curr_dups, training=False, teacher_forcing=False)\n",
    "    loss = loss_function_step2(target[:, 1:], predictions)\n",
    "\n",
    "    # calculate accuracy based on the code's whole string\n",
    "    predictions_id, _ = predict(features, MAX_LEN, length_pred, dups_pred, curr_dups)\n",
    "    accuracy = accuracy_function_step2(predictions_id, target)\n",
    "    accuracy_length = accuracy_function(tf.math.argmax(length, axis=-1), length_pred)\n",
    "    accuracy_dups = accuracy_function(tf.math.argmax(total_dups, axis=-1), dups_pred)\n",
    "    \n",
    "    return loss / (target.shape[1] - 1), accuracy, accuracy_length, accuracy_dups"
   ]
  },
  {
   "cell_type": "code",
   "execution_count": 30,
   "metadata": {
    "scrolled": true
   },
   "outputs": [],
   "source": [
    "def step2(epoch, EPOCH):\n",
    "    start = time.time()\n",
    "    total_loss = 0; val_loss = 0; dups_accu = 0; val_dups_accu = 0\n",
    "    total_accuracy = 0; val_accuracy = 0; len_accu = 0; val_len_accu = 0\n",
    "    \n",
    "    counts = int(num_steps * max(min(2 * epoch / EPOCH - 0.5, 1.0), 0.0))\n",
    "    choices = np.random.choice(range(1, num_steps+1), counts, replace=False)\n",
    "    \n",
    "    for (batch, (glyph_tensor, target, length, total_dups, curr_dups)) in enumerate(dataset, start=1):\n",
    "        teacher_forcing = not batch in choices\n",
    "\n",
    "        t_loss, accuracy, accuracy_length, accuracy_dups = train_step2(glyph_tensor, target, length, total_dups, curr_dups, teacher_forcing=teacher_forcing)\n",
    "        total_loss += t_loss; total_accuracy += accuracy\n",
    "        len_accu += accuracy_length; dups_accu += accuracy_dups\n",
    "        \n",
    "        print('Epoch {}, Train Loss {:.4f}, Accuracy {:.2%}; Length Accuracy {:.2%}, Dups Accuracy {:.2%}; progress {:.1%}, taken {:.0f} sec'.format(\n",
    "            epoch + 1, total_loss/batch, total_accuracy/batch, len_accu/batch, dups_accu/batch, batch/num_steps, time.time() - start), end='\\r')\n",
    "    \n",
    "    for (glyph_tensor, target, length, total_dups, curr_dups) in val_dataset:\n",
    "        t_loss, accuracy, accuracy_length, accuracy_dups = validation_step2(glyph_tensor, target, length, total_dups, curr_dups)\n",
    "        val_loss += t_loss; val_accuracy += accuracy\n",
    "        val_len_accu += accuracy_length; val_dups_accu += accuracy_dups\n",
    "   \n",
    "    # storing the epoch end loss value to plot later\n",
    "    with train_summary_writer.as_default():\n",
    "        tf.summary.scalar('loss', (total_loss / num_steps), step=epoch)\n",
    "        tf.summary.scalar('accuracy', (total_accuracy / num_steps), step=epoch)\n",
    "        tf.summary.scalar('length_accuracy', (len_accu / num_steps), step=epoch)\n",
    "        tf.summary.scalar('duplication_accuracy', (dups_accu / num_steps), step=epoch)\n",
    "    with test_summary_writer.as_default():\n",
    "        tf.summary.scalar('loss', val_loss / num_steps_val, step=epoch)\n",
    "        tf.summary.scalar('accuracy', val_accuracy / num_steps_val, step=epoch)\n",
    "        tf.summary.scalar('length_accuracy', val_len_accu / num_steps_val, step=epoch)\n",
    "        tf.summary.scalar('duplication_accuracy', val_dups_accu / num_steps_val, step=epoch)\n",
    "    \n",
    "    ckpt_manager_step2.save()\n",
    "\n",
    "    print('Epoch {}, Train Loss {:.4f}, Accuracy {:.2%}; Length Accuracy {:.2%}, Dups Accuracy {:.2%} | Validation Loss {:.4f}, Accuracy {:.2%}; Length Accuracy {:.2%}, Dups Accuracy {:.2%}; taken {:.0f} sec'.format(\n",
    "        epoch + 1, total_loss/num_steps, total_accuracy/num_steps, len_accu/num_steps, dups_accu/num_steps, \n",
    "        val_loss/num_steps_val, val_accuracy/num_steps_val, val_len_accu/num_steps_val, val_dups_accu/num_steps_val, time.time() - start))"
   ]
  },
  {
   "cell_type": "markdown",
   "metadata": {},
   "source": [
    "## Training"
   ]
  },
  {
   "cell_type": "code",
   "execution_count": 31,
   "metadata": {},
   "outputs": [],
   "source": [
    "encoder = CNN_Encoder(embedding_dim = EBD_DIM)\n",
    "simple_decoder = Simple_Decoder(embedding_dim = EBD_DIM, max_length = MAX_LEN, hidden_size = UNIT_DIM, vocab_size = VOCAB)\n",
    "length_decoder = Dense_Decoder(max_length = MAX_LEN)\n",
    "dup_decoder = Dense_Decoder(max_length = MAX_DUP)\n",
    "decoder = RNN_Decoder(embedding_dim=EBD_DIM, hidden_size=UNIT_DIM, max_length = MAX_LEN, vocab_size=VOCAB)"
   ]
  },
  {
   "cell_type": "code",
   "execution_count": 32,
   "metadata": {},
   "outputs": [],
   "source": [
    "# use a checkpoint to store weights\n",
    "checkpoint_path_step1 = './checkpoints/train_step1'\n",
    "ckpt_step1 = tf.train.Checkpoint(encoder=encoder, decoder=simple_decoder, length_decoder=length_decoder,\n",
    "    dup_decoder=dup_decoder, optimizer=optimizer_step1, optimizer_length=optimizer_length, optimizer_dups=optimizer_dups)\n",
    "ckpt_manager_step1 = tf.train.CheckpointManager(ckpt_step1, checkpoint_path_step1, max_to_keep=5)"
   ]
  },
  {
   "cell_type": "code",
   "execution_count": 33,
   "metadata": {},
   "outputs": [],
   "source": [
    "# use a checkpoint to store weights\n",
    "checkpoint_path_step2 = \"./checkpoints/train_step2\"\n",
    "ckpt_step2 = tf.train.Checkpoint(encoder=encoder, decoder=decoder, length_decoder=length_decoder,\n",
    "    dup_decoder=dup_decoder, optimizer=optimizer_step2, optimizer_length=optimizer_length, optimizer_dups=optimizer_dups)\n",
    "ckpt_manager_step2 = tf.train.CheckpointManager(ckpt_step2, checkpoint_path_step2, max_to_keep=5)"
   ]
  },
  {
   "cell_type": "code",
   "execution_count": 34,
   "metadata": {},
   "outputs": [],
   "source": [
    "current_time = datetime.datetime.now().strftime(\"%Y%m%d-%H%M%S\")\n",
    "train_log_dir = 'logs/gradient_tape/' + current_time + '/train'\n",
    "test_log_dir = 'logs/gradient_tape/' + current_time + '/test'\n",
    "#graph_log_dir = 'logs/gradient_tape/' + current_time + '/func'\n",
    "train_summary_writer = tf.summary.create_file_writer(train_log_dir)\n",
    "test_summary_writer = tf.summary.create_file_writer(test_log_dir)\n",
    "#graph_summary_writer = tf.summary.create_file_writer(graph_log_dir)"
   ]
  },
  {
   "cell_type": "markdown",
   "metadata": {},
   "source": [
    "### Step 1"
   ]
  },
  {
   "cell_type": "code",
   "execution_count": 35,
   "metadata": {},
   "outputs": [],
   "source": [
    "EPOCHS_STEP1 = 20\n",
    "\n",
    "epoch_step1 = 0\n",
    "if ckpt_manager_step1.latest_checkpoint:\n",
    "    epoch_step1 = int(ckpt_manager_step1.latest_checkpoint.split('-')[-1])\n",
    "    ckpt_step1.restore(ckpt_manager_step1.latest_checkpoint)"
   ]
  },
  {
   "cell_type": "code",
   "execution_count": 36,
   "metadata": {
    "scrolled": true
   },
   "outputs": [
    {
     "name": "stdout",
     "output_type": "stream",
     "text": [
      "Epoch 1, Train Loss 2.8759, Accuracy 19.87% | Validation Loss 2.4668, Accuracy 27.89%; taken 90 sec\n",
      "Epoch 2, Train Loss 1.8396, Accuracy 46.41% | Validation Loss 1.3665, Accuracy 60.62%; taken 50 sec\n",
      "Epoch 3, Train Loss 1.1883, Accuracy 64.91% | Validation Loss 0.9646, Accuracy 71.56%; taken 50 sec\n",
      "Epoch 4, Train Loss 0.9336, Accuracy 71.91% | Validation Loss 0.7576, Accuracy 77.27%; taken 50 sec\n",
      "Epoch 5, Train Loss 0.7928, Accuracy 75.89% | Validation Loss 0.6813, Accuracy 79.45%; taken 50 sec\n",
      "Epoch 6, Train Loss 0.6955, Accuracy 78.68% | Validation Loss 0.5896, Accuracy 82.22%; taken 50 sec\n",
      "Epoch 7, Train Loss 0.6289, Accuracy 80.59% | Validation Loss 0.5541, Accuracy 83.39%; taken 50 sec\n",
      "Epoch 8, Train Loss 0.5788, Accuracy 81.99% | Validation Loss 0.5127, Accuracy 84.40%; taken 50 sec\n",
      "Epoch 9, Train Loss 0.5454, Accuracy 82.99% | Validation Loss 0.5013, Accuracy 84.75%; taken 51 sec\n",
      "Epoch 10, Train Loss 0.5139, Accuracy 83.88% | Validation Loss 0.4681, Accuracy 85.58%; taken 51 sec\n",
      "Epoch 11, Train Loss 0.4906, Accuracy 84.52% | Validation Loss 0.4663, Accuracy 85.69%; taken 50 sec\n",
      "Epoch 12, Train Loss 0.4705, Accuracy 85.12% | Validation Loss 0.4693, Accuracy 85.35%; taken 50 sec\n",
      "Epoch 13, Train Loss 0.4559, Accuracy 85.57% | Validation Loss 0.4245, Accuracy 86.99%; taken 50 sec\n",
      "Epoch 14, Train Loss 0.4366, Accuracy 86.15% | Validation Loss 0.4106, Accuracy 87.29%; taken 50 sec\n",
      "Epoch 15, Train Loss 0.4241, Accuracy 86.54% | Validation Loss 0.4147, Accuracy 87.03%; taken 50 sec\n",
      "Epoch 16, Train Loss 0.4121, Accuracy 86.85% | Validation Loss 0.4116, Accuracy 87.47%; taken 51 sec\n",
      "Epoch 17, Train Loss 0.4030, Accuracy 87.14% | Validation Loss 0.3819, Accuracy 88.17%; taken 50 sec\n",
      "Epoch 18, Train Loss 0.3929, Accuracy 87.32% | Validation Loss 0.3870, Accuracy 88.06%; taken 50 sec\n",
      "Epoch 19, Train Loss 0.3835, Accuracy 87.70% | Validation Loss 0.3783, Accuracy 88.51%; taken 50 sec\n",
      "Epoch 20, Train Loss 0.3722, Accuracy 88.04% | Validation Loss 0.3870, Accuracy 87.79%; taken 50 sec\n"
     ]
    }
   ],
   "source": [
    "while epoch_step1 < EPOCHS_STEP1:\n",
    "    step1(epoch_step1)\n",
    "    epoch_step1 += 1"
   ]
  },
  {
   "cell_type": "markdown",
   "metadata": {},
   "source": [
    "### Step 2"
   ]
  },
  {
   "cell_type": "code",
   "execution_count": 37,
   "metadata": {},
   "outputs": [],
   "source": [
    "EPOCHS_STEP2 = 120\n",
    "\n",
    "epoch_step2 = 0\n",
    "if ckpt_manager_step2.latest_checkpoint:\n",
    "    epoch_step2 = int(ckpt_manager_step2.latest_checkpoint.split('-')[-1])\n",
    "    ckpt_step2.restore(ckpt_manager_step2.latest_checkpoint)"
   ]
  },
  {
   "cell_type": "code",
   "execution_count": 38,
   "metadata": {
    "scrolled": true
   },
   "outputs": [
    {
     "name": "stdout",
     "output_type": "stream",
     "text": [
      "Epoch 1, Train Loss 1.4046, Accuracy 19.92%; Length Accuracy 87.68%, Dups Accuracy 90.71% | Validation Loss 0.6877, Accuracy 46.91%; Length Accuracy 88.54%, Dups Accuracy 92.55%; taken 104 sec\n",
      "Epoch 2, Train Loss 0.4947, Accuracy 53.27%; Length Accuracy 91.49%, Dups Accuracy 93.14% | Validation Loss 0.5771, Accuracy 59.21%; Length Accuracy 91.05%, Dups Accuracy 91.16%; taken 57 sec\n",
      "Epoch 3, Train Loss 0.3901, Accuracy 61.40%; Length Accuracy 92.35%, Dups Accuracy 93.58% | Validation Loss 0.5767, Accuracy 62.30%; Length Accuracy 89.31%, Dups Accuracy 92.56%; taken 57 sec\n",
      "Epoch 4, Train Loss 0.3381, Accuracy 65.59%; Length Accuracy 92.51%, Dups Accuracy 93.90% | Validation Loss 0.5346, Accuracy 65.56%; Length Accuracy 89.37%, Dups Accuracy 92.46%; taken 57 sec\n",
      "Epoch 5, Train Loss 0.3066, Accuracy 67.95%; Length Accuracy 92.56%, Dups Accuracy 94.19% | Validation Loss 0.5423, Accuracy 67.28%; Length Accuracy 90.55%, Dups Accuracy 93.20%; taken 57 sec\n",
      "Epoch 6, Train Loss 0.2813, Accuracy 70.25%; Length Accuracy 92.80%, Dups Accuracy 94.32% | Validation Loss 0.4558, Accuracy 70.91%; Length Accuracy 91.69%, Dups Accuracy 93.52%; taken 57 sec\n",
      "Epoch 7, Train Loss 0.2637, Accuracy 71.95%; Length Accuracy 93.32%, Dups Accuracy 94.59% | Validation Loss 0.4453, Accuracy 72.42%; Length Accuracy 91.56%, Dups Accuracy 93.55%; taken 57 sec\n",
      "Epoch 8, Train Loss 0.2484, Accuracy 73.37%; Length Accuracy 93.33%, Dups Accuracy 94.80% | Validation Loss 0.5227, Accuracy 71.23%; Length Accuracy 90.27%, Dups Accuracy 93.55%; taken 57 sec\n",
      "Epoch 9, Train Loss 0.2316, Accuracy 74.45%; Length Accuracy 93.18%, Dups Accuracy 94.92% | Validation Loss 0.3843, Accuracy 74.65%; Length Accuracy 92.92%, Dups Accuracy 93.88%; taken 56 sec\n",
      "Epoch 10, Train Loss 0.2243, Accuracy 75.45%; Length Accuracy 93.28%, Dups Accuracy 95.03% | Validation Loss 0.4029, Accuracy 75.41%; Length Accuracy 93.16%, Dups Accuracy 93.97%; taken 57 sec\n",
      "Epoch 11, Train Loss 0.2139, Accuracy 76.42%; Length Accuracy 93.72%, Dups Accuracy 95.27% | Validation Loss 0.6080, Accuracy 71.55%; Length Accuracy 88.88%, Dups Accuracy 94.00%; taken 57 sec\n",
      "Epoch 12, Train Loss 0.2061, Accuracy 77.22%; Length Accuracy 93.88%, Dups Accuracy 95.40% | Validation Loss 0.3792, Accuracy 76.38%; Length Accuracy 93.00%, Dups Accuracy 93.82%; taken 57 sec\n",
      "Epoch 13, Train Loss 0.1992, Accuracy 77.92%; Length Accuracy 93.94%, Dups Accuracy 95.62% | Validation Loss 0.5041, Accuracy 73.95%; Length Accuracy 89.96%, Dups Accuracy 94.43%; taken 57 sec\n",
      "Epoch 14, Train Loss 0.1912, Accuracy 78.67%; Length Accuracy 94.18%, Dups Accuracy 95.60% | Validation Loss 0.3945, Accuracy 76.98%; Length Accuracy 93.52%, Dups Accuracy 94.48%; taken 57 sec\n",
      "Epoch 15, Train Loss 0.1846, Accuracy 79.26%; Length Accuracy 94.14%, Dups Accuracy 95.72% | Validation Loss 0.3982, Accuracy 78.22%; Length Accuracy 92.98%, Dups Accuracy 94.76%; taken 57 sec\n",
      "Epoch 16, Train Loss 0.1793, Accuracy 79.83%; Length Accuracy 94.22%, Dups Accuracy 95.92% | Validation Loss 0.4184, Accuracy 78.27%; Length Accuracy 91.43%, Dups Accuracy 94.97%; taken 57 sec\n",
      "Epoch 17, Train Loss 0.1745, Accuracy 80.45%; Length Accuracy 94.48%, Dups Accuracy 96.00% | Validation Loss 0.4989, Accuracy 75.86%; Length Accuracy 90.18%, Dups Accuracy 94.71%; taken 57 sec\n",
      "Epoch 18, Train Loss 0.1698, Accuracy 80.82%; Length Accuracy 94.45%, Dups Accuracy 95.99% | Validation Loss 0.4892, Accuracy 76.82%; Length Accuracy 91.51%, Dups Accuracy 94.93%; taken 57 sec\n",
      "Epoch 19, Train Loss 0.1666, Accuracy 81.07%; Length Accuracy 94.31%, Dups Accuracy 96.10% | Validation Loss 0.5454, Accuracy 74.95%; Length Accuracy 89.02%, Dups Accuracy 94.92%; taken 57 sec\n",
      "Epoch 20, Train Loss 0.1624, Accuracy 81.62%; Length Accuracy 94.65%, Dups Accuracy 96.25% | Validation Loss 0.4810, Accuracy 76.53%; Length Accuracy 90.44%, Dups Accuracy 95.00%; taken 57 sec\n",
      "Epoch 21, Train Loss 0.1575, Accuracy 82.01%; Length Accuracy 94.63%, Dups Accuracy 96.38% | Validation Loss 0.4061, Accuracy 78.92%; Length Accuracy 92.27%, Dups Accuracy 94.91%; taken 57 sec\n",
      "Epoch 22, Train Loss 0.1556, Accuracy 82.10%; Length Accuracy 94.61%, Dups Accuracy 96.48% | Validation Loss 0.3914, Accuracy 79.90%; Length Accuracy 92.97%, Dups Accuracy 95.39%; taken 57 sec\n",
      "Epoch 23, Train Loss 0.1535, Accuracy 82.66%; Length Accuracy 94.83%, Dups Accuracy 96.57% | Validation Loss 0.4353, Accuracy 78.29%; Length Accuracy 91.36%, Dups Accuracy 95.42%; taken 57 sec\n",
      "Epoch 24, Train Loss 0.1452, Accuracy 83.17%; Length Accuracy 94.94%, Dups Accuracy 96.61% | Validation Loss 0.4146, Accuracy 79.14%; Length Accuracy 92.94%, Dups Accuracy 95.13%; taken 57 sec\n",
      "Epoch 25, Train Loss 0.1462, Accuracy 83.09%; Length Accuracy 94.83%, Dups Accuracy 96.65% | Validation Loss 0.4084, Accuracy 79.89%; Length Accuracy 93.23%, Dups Accuracy 95.50%; taken 57 sec\n",
      "Epoch 26, Train Loss 0.1449, Accuracy 83.52%; Length Accuracy 95.08%, Dups Accuracy 96.71% | Validation Loss 0.4040, Accuracy 79.64%; Length Accuracy 92.64%, Dups Accuracy 95.73%; taken 57 sec\n",
      "Epoch 27, Train Loss 0.1414, Accuracy 83.56%; Length Accuracy 94.95%, Dups Accuracy 96.76% | Validation Loss 0.4610, Accuracy 78.45%; Length Accuracy 92.24%, Dups Accuracy 95.72%; taken 56 sec\n",
      "Epoch 28, Train Loss 0.1383, Accuracy 83.97%; Length Accuracy 95.05%, Dups Accuracy 96.73% | Validation Loss 0.4046, Accuracy 80.22%; Length Accuracy 92.76%, Dups Accuracy 95.52%; taken 57 sec\n",
      "Epoch 29, Train Loss 0.1354, Accuracy 84.44%; Length Accuracy 95.24%, Dups Accuracy 96.95% | Validation Loss 0.4637, Accuracy 79.14%; Length Accuracy 91.32%, Dups Accuracy 95.46%; taken 57 sec\n",
      "Epoch 30, Train Loss 0.1309, Accuracy 85.04%; Length Accuracy 95.41%, Dups Accuracy 96.98% | Validation Loss 0.4386, Accuracy 79.79%; Length Accuracy 91.73%, Dups Accuracy 95.67%; taken 57 sec\n",
      "Epoch 31, Train Loss 0.1303, Accuracy 84.76%; Length Accuracy 95.14%, Dups Accuracy 97.03% | Validation Loss 0.4300, Accuracy 79.81%; Length Accuracy 92.77%, Dups Accuracy 95.02%; taken 57 sec\n",
      "Epoch 32, Train Loss 0.1636, Accuracy 81.56%; Length Accuracy 94.22%, Dups Accuracy 96.34% | Validation Loss 0.4224, Accuracy 78.80%; Length Accuracy 91.68%, Dups Accuracy 95.04%; taken 70 sec\n",
      "Epoch 33, Train Loss 0.1533, Accuracy 82.54%; Length Accuracy 94.33%, Dups Accuracy 96.58% | Validation Loss 0.3277, Accuracy 79.25%; Length Accuracy 93.30%, Dups Accuracy 95.37%; taken 57 sec\n",
      "Epoch 34, Train Loss 0.1476, Accuracy 83.65%; Length Accuracy 94.85%, Dups Accuracy 96.90% | Validation Loss 0.2865, Accuracy 81.22%; Length Accuracy 93.46%, Dups Accuracy 95.42%; taken 57 sec\n",
      "Epoch 35, Train Loss 0.1496, Accuracy 83.80%; Length Accuracy 94.87%, Dups Accuracy 96.88% | Validation Loss 0.2675, Accuracy 80.27%; Length Accuracy 93.36%, Dups Accuracy 95.60%; taken 56 sec\n",
      "Epoch 36, Train Loss 0.1447, Accuracy 84.69%; Length Accuracy 95.21%, Dups Accuracy 97.04% | Validation Loss 0.2757, Accuracy 80.49%; Length Accuracy 93.18%, Dups Accuracy 95.76%; taken 70 sec\n",
      "Epoch 37, Train Loss 0.1529, Accuracy 83.95%; Length Accuracy 95.10%, Dups Accuracy 97.00% | Validation Loss 0.2815, Accuracy 80.79%; Length Accuracy 92.91%, Dups Accuracy 95.72%; taken 57 sec\n",
      "Epoch 38, Train Loss 0.1470, Accuracy 84.85%; Length Accuracy 95.25%, Dups Accuracy 97.00% | Validation Loss 0.2581, Accuracy 81.73%; Length Accuracy 93.92%, Dups Accuracy 95.59%; taken 56 sec\n",
      "Epoch 39, Train Loss 0.1461, Accuracy 85.07%; Length Accuracy 95.40%, Dups Accuracy 97.21% | Validation Loss 0.2752, Accuracy 80.67%; Length Accuracy 92.50%, Dups Accuracy 95.97%; taken 57 sec\n",
      "Epoch 40, Train Loss 0.1431, Accuracy 85.84%; Length Accuracy 95.65%, Dups Accuracy 97.31% | Validation Loss 0.2746, Accuracy 79.48%; Length Accuracy 93.80%, Dups Accuracy 95.44%; taken 57 sec\n",
      "Epoch 41, Train Loss 0.1476, Accuracy 85.51%; Length Accuracy 95.57%, Dups Accuracy 97.35% | Validation Loss 0.2665, Accuracy 79.21%; Length Accuracy 93.12%, Dups Accuracy 95.60%; taken 57 sec\n",
      "Epoch 42, Train Loss 0.1407, Accuracy 86.19%; Length Accuracy 95.78%, Dups Accuracy 97.45% | Validation Loss 0.2533, Accuracy 80.50%; Length Accuracy 93.58%, Dups Accuracy 95.71%; taken 57 sec\n",
      "Epoch 43, Train Loss 0.1474, Accuracy 85.87%; Length Accuracy 95.79%, Dups Accuracy 97.31% | Validation Loss 0.2393, Accuracy 82.10%; Length Accuracy 94.12%, Dups Accuracy 95.87%; taken 57 sec\n",
      "Epoch 44, Train Loss 0.1427, Accuracy 86.36%; Length Accuracy 95.96%, Dups Accuracy 97.37% | Validation Loss 0.2327, Accuracy 81.59%; Length Accuracy 94.13%, Dups Accuracy 95.62%; taken 57 sec\n",
      "Epoch 45, Train Loss 0.1495, Accuracy 85.76%; Length Accuracy 95.78%, Dups Accuracy 97.33% | Validation Loss 0.2859, Accuracy 79.96%; Length Accuracy 92.20%, Dups Accuracy 96.20%; taken 57 sec\n",
      "Epoch 46, Train Loss 0.1465, Accuracy 86.28%; Length Accuracy 95.83%, Dups Accuracy 97.46% | Validation Loss 0.2581, Accuracy 81.23%; Length Accuracy 93.46%, Dups Accuracy 95.95%; taken 57 sec\n",
      "Epoch 47, Train Loss 0.1464, Accuracy 86.60%; Length Accuracy 96.06%, Dups Accuracy 97.57% | Validation Loss 0.2319, Accuracy 82.53%; Length Accuracy 94.45%, Dups Accuracy 96.02%; taken 57 sec\n",
      "Epoch 48, Train Loss 0.1415, Accuracy 86.78%; Length Accuracy 96.02%, Dups Accuracy 97.68% | Validation Loss 0.2384, Accuracy 81.80%; Length Accuracy 93.28%, Dups Accuracy 95.96%; taken 57 sec\n",
      "Epoch 49, Train Loss 0.1378, Accuracy 87.39%; Length Accuracy 96.18%, Dups Accuracy 97.80% | Validation Loss 0.2243, Accuracy 81.96%; Length Accuracy 94.66%, Dups Accuracy 95.74%; taken 57 sec\n",
      "Epoch 50, Train Loss 0.1432, Accuracy 87.00%; Length Accuracy 96.12%, Dups Accuracy 97.65% | Validation Loss 0.2464, Accuracy 81.78%; Length Accuracy 93.41%, Dups Accuracy 96.19%; taken 57 sec\n",
      "Epoch 51, Train Loss 0.1568, Accuracy 86.27%; Length Accuracy 96.09%, Dups Accuracy 97.58% | Validation Loss 0.2450, Accuracy 81.85%; Length Accuracy 93.41%, Dups Accuracy 96.25%; taken 57 sec\n",
      "Epoch 52, Train Loss 0.1383, Accuracy 87.87%; Length Accuracy 96.47%, Dups Accuracy 97.83% | Validation Loss 0.2223, Accuracy 82.43%; Length Accuracy 94.28%, Dups Accuracy 96.19%; taken 56 sec\n",
      "Epoch 53, Train Loss 0.1439, Accuracy 87.51%; Length Accuracy 96.41%, Dups Accuracy 97.83% | Validation Loss 0.2294, Accuracy 81.95%; Length Accuracy 94.02%, Dups Accuracy 96.19%; taken 57 sec\n",
      "Epoch 54, Train Loss 0.1379, Accuracy 87.95%; Length Accuracy 96.60%, Dups Accuracy 97.85% | Validation Loss 0.2203, Accuracy 82.36%; Length Accuracy 93.85%, Dups Accuracy 96.12%; taken 57 sec\n",
      "Epoch 55, Train Loss 0.1368, Accuracy 88.02%; Length Accuracy 96.70%, Dups Accuracy 97.93% | Validation Loss 0.2041, Accuracy 83.22%; Length Accuracy 94.88%, Dups Accuracy 96.33%; taken 57 sec\n",
      "Epoch 56, Train Loss 0.1366, Accuracy 88.49%; Length Accuracy 96.76%, Dups Accuracy 97.96% | Validation Loss 0.2201, Accuracy 83.83%; Length Accuracy 94.66%, Dups Accuracy 96.76%; taken 57 sec\n",
      "Epoch 57, Train Loss 0.1339, Accuracy 88.57%; Length Accuracy 96.81%, Dups Accuracy 98.06% | Validation Loss 0.2243, Accuracy 82.37%; Length Accuracy 93.75%, Dups Accuracy 96.56%; taken 57 sec\n",
      "Epoch 58, Train Loss 0.1370, Accuracy 88.41%; Length Accuracy 96.77%, Dups Accuracy 98.03% | Validation Loss 0.2194, Accuracy 82.81%; Length Accuracy 93.73%, Dups Accuracy 96.44%; taken 57 sec\n",
      "Epoch 59, Train Loss 0.1398, Accuracy 88.29%; Length Accuracy 96.80%, Dups Accuracy 98.11% | Validation Loss 0.2122, Accuracy 82.94%; Length Accuracy 94.64%, Dups Accuracy 96.56%; taken 57 sec\n",
      "Epoch 60, Train Loss 0.1375, Accuracy 88.60%; Length Accuracy 96.86%, Dups Accuracy 98.03% | Validation Loss 0.2137, Accuracy 83.05%; Length Accuracy 94.79%, Dups Accuracy 96.43%; taken 57 sec\n",
      "Epoch 61, Train Loss 0.1350, Accuracy 88.85%; Length Accuracy 96.90%, Dups Accuracy 98.19% | Validation Loss 0.2288, Accuracy 82.45%; Length Accuracy 93.25%, Dups Accuracy 96.45%; taken 58 sec\n",
      "Epoch 62, Train Loss 0.1332, Accuracy 89.05%; Length Accuracy 97.05%, Dups Accuracy 98.17% | Validation Loss 0.2222, Accuracy 82.41%; Length Accuracy 91.70%, Dups Accuracy 96.44%; taken 57 sec\n",
      "Epoch 63, Train Loss 0.1360, Accuracy 89.05%; Length Accuracy 97.02%, Dups Accuracy 98.21% | Validation Loss 0.2251, Accuracy 82.43%; Length Accuracy 93.12%, Dups Accuracy 96.49%; taken 57 sec\n",
      "Epoch 64, Train Loss 0.1342, Accuracy 89.27%; Length Accuracy 97.02%, Dups Accuracy 98.25% | Validation Loss 0.2043, Accuracy 83.71%; Length Accuracy 94.54%, Dups Accuracy 96.88%; taken 57 sec\n",
      "Epoch 65, Train Loss 0.1273, Accuracy 89.74%; Length Accuracy 97.18%, Dups Accuracy 98.24% | Validation Loss 0.2051, Accuracy 83.44%; Length Accuracy 94.89%, Dups Accuracy 96.52%; taken 57 sec\n",
      "Epoch 66, Train Loss 0.1341, Accuracy 89.26%; Length Accuracy 97.19%, Dups Accuracy 98.25% | Validation Loss 0.1975, Accuracy 84.18%; Length Accuracy 95.00%, Dups Accuracy 96.55%; taken 57 sec\n",
      "Epoch 67, Train Loss 0.1295, Accuracy 89.71%; Length Accuracy 97.26%, Dups Accuracy 98.38% | Validation Loss 0.2366, Accuracy 81.60%; Length Accuracy 94.31%, Dups Accuracy 96.08%; taken 57 sec\n",
      "Epoch 68, Train Loss 0.1359, Accuracy 89.25%; Length Accuracy 97.26%, Dups Accuracy 98.26% | Validation Loss 0.2089, Accuracy 83.68%; Length Accuracy 94.63%, Dups Accuracy 97.00%; taken 57 sec\n",
      "Epoch 69, Train Loss 0.1330, Accuracy 89.57%; Length Accuracy 97.21%, Dups Accuracy 98.38% | Validation Loss 0.2258, Accuracy 82.45%; Length Accuracy 94.17%, Dups Accuracy 96.92%; taken 58 sec\n",
      "Epoch 70, Train Loss 0.1255, Accuracy 90.17%; Length Accuracy 97.42%, Dups Accuracy 98.55% | Validation Loss 0.1987, Accuracy 84.41%; Length Accuracy 94.38%, Dups Accuracy 96.92%; taken 57 sec\n",
      "Epoch 71, Train Loss 0.1228, Accuracy 90.52%; Length Accuracy 97.53%, Dups Accuracy 98.54% | Validation Loss 0.2019, Accuracy 84.38%; Length Accuracy 94.37%, Dups Accuracy 97.18%; taken 57 sec\n",
      "Epoch 72, Train Loss 0.1261, Accuracy 90.22%; Length Accuracy 97.49%, Dups Accuracy 98.58% | Validation Loss 0.2062, Accuracy 84.26%; Length Accuracy 94.93%, Dups Accuracy 97.23%; taken 57 sec\n",
      "Epoch 73, Train Loss 0.1289, Accuracy 90.13%; Length Accuracy 97.51%, Dups Accuracy 98.51% | Validation Loss 0.2063, Accuracy 84.18%; Length Accuracy 94.80%, Dups Accuracy 97.15%; taken 57 sec\n",
      "Epoch 74, Train Loss 0.1208, Accuracy 90.87%; Length Accuracy 97.49%, Dups Accuracy 98.65% | Validation Loss 0.2186, Accuracy 83.37%; Length Accuracy 93.42%, Dups Accuracy 96.82%; taken 57 sec\n",
      "Epoch 75, Train Loss 0.1350, Accuracy 89.83%; Length Accuracy 97.31%, Dups Accuracy 98.42% | Validation Loss 0.2111, Accuracy 82.71%; Length Accuracy 94.41%, Dups Accuracy 96.60%; taken 57 sec\n",
      "Epoch 76, Train Loss 0.1268, Accuracy 90.40%; Length Accuracy 97.69%, Dups Accuracy 98.51% | Validation Loss 0.2026, Accuracy 83.84%; Length Accuracy 94.78%, Dups Accuracy 96.84%; taken 57 sec\n",
      "Epoch 77, Train Loss 0.1251, Accuracy 90.55%; Length Accuracy 97.54%, Dups Accuracy 98.57% | Validation Loss 0.1976, Accuracy 84.15%; Length Accuracy 94.95%, Dups Accuracy 97.00%; taken 58 sec\n",
      "Epoch 78, Train Loss 0.1257, Accuracy 90.57%; Length Accuracy 97.55%, Dups Accuracy 98.58% | Validation Loss 0.1917, Accuracy 83.94%; Length Accuracy 94.96%, Dups Accuracy 97.14%; taken 57 sec\n",
      "Epoch 79, Train Loss 0.1178, Accuracy 91.17%; Length Accuracy 97.79%, Dups Accuracy 98.67% | Validation Loss 0.1994, Accuracy 84.46%; Length Accuracy 94.42%, Dups Accuracy 97.17%; taken 57 sec\n",
      "Epoch 80, Train Loss 0.1229, Accuracy 90.88%; Length Accuracy 97.76%, Dups Accuracy 98.74% | Validation Loss 0.2089, Accuracy 83.77%; Length Accuracy 94.28%, Dups Accuracy 96.98%; taken 57 sec\n",
      "Epoch 81, Train Loss 0.1225, Accuracy 90.93%; Length Accuracy 97.77%, Dups Accuracy 98.69% | Validation Loss 0.2007, Accuracy 84.25%; Length Accuracy 94.65%, Dups Accuracy 97.03%; taken 57 sec\n",
      "Epoch 82, Train Loss 0.1217, Accuracy 91.10%; Length Accuracy 97.85%, Dups Accuracy 98.70% | Validation Loss 0.2100, Accuracy 83.77%; Length Accuracy 94.60%, Dups Accuracy 96.85%; taken 57 sec\n",
      "Epoch 83, Train Loss 0.1157, Accuracy 91.63%; Length Accuracy 97.98%, Dups Accuracy 98.77% | Validation Loss 0.1935, Accuracy 85.14%; Length Accuracy 94.86%, Dups Accuracy 97.25%; taken 58 sec\n",
      "Epoch 84, Train Loss 0.1145, Accuracy 91.71%; Length Accuracy 97.93%, Dups Accuracy 98.83% | Validation Loss 0.2142, Accuracy 83.66%; Length Accuracy 93.62%, Dups Accuracy 96.91%; taken 57 sec\n",
      "Epoch 85, Train Loss 0.1185, Accuracy 91.45%; Length Accuracy 97.95%, Dups Accuracy 98.72% | Validation Loss 0.2006, Accuracy 84.19%; Length Accuracy 94.26%, Dups Accuracy 97.10%; taken 57 sec\n",
      "Epoch 86, Train Loss 0.1231, Accuracy 91.16%; Length Accuracy 97.79%, Dups Accuracy 98.74% | Validation Loss 0.1852, Accuracy 85.43%; Length Accuracy 95.34%, Dups Accuracy 97.30%; taken 57 sec\n",
      "Epoch 87, Train Loss 0.1127, Accuracy 91.93%; Length Accuracy 98.06%, Dups Accuracy 98.87% | Validation Loss 0.1931, Accuracy 85.25%; Length Accuracy 94.87%, Dups Accuracy 97.21%; taken 57 sec\n",
      "Epoch 88, Train Loss 0.1182, Accuracy 91.68%; Length Accuracy 98.03%, Dups Accuracy 98.80% | Validation Loss 0.2015, Accuracy 84.24%; Length Accuracy 94.64%, Dups Accuracy 97.15%; taken 57 sec\n",
      "Epoch 89, Train Loss 0.1147, Accuracy 91.88%; Length Accuracy 98.01%, Dups Accuracy 98.87% | Validation Loss 0.1897, Accuracy 85.25%; Length Accuracy 95.45%, Dups Accuracy 97.03%; taken 58 sec\n",
      "Epoch 90, Train Loss 0.1138, Accuracy 92.15%; Length Accuracy 98.02%, Dups Accuracy 98.91% | Validation Loss 0.1804, Accuracy 85.27%; Length Accuracy 95.58%, Dups Accuracy 97.62%; taken 57 sec\n",
      "Epoch 91, Train Loss 0.1162, Accuracy 91.82%; Length Accuracy 98.09%, Dups Accuracy 98.84% | Validation Loss 0.2058, Accuracy 83.52%; Length Accuracy 94.67%, Dups Accuracy 96.99%; taken 57 sec\n",
      "Epoch 92, Train Loss 0.1168, Accuracy 91.79%; Length Accuracy 98.02%, Dups Accuracy 98.82% | Validation Loss 0.1998, Accuracy 84.57%; Length Accuracy 94.59%, Dups Accuracy 97.45%; taken 57 sec\n",
      "Epoch 93, Train Loss 0.1074, Accuracy 92.43%; Length Accuracy 98.28%, Dups Accuracy 98.94% | Validation Loss 0.2006, Accuracy 84.28%; Length Accuracy 93.83%, Dups Accuracy 97.07%; taken 57 sec\n",
      "Epoch 94, Train Loss 0.1080, Accuracy 92.52%; Length Accuracy 98.17%, Dups Accuracy 99.03% | Validation Loss 0.1908, Accuracy 85.53%; Length Accuracy 95.18%, Dups Accuracy 97.24%; taken 57 sec\n",
      "Epoch 95, Train Loss 0.1153, Accuracy 91.82%; Length Accuracy 98.09%, Dups Accuracy 98.92% | Validation Loss 0.2052, Accuracy 84.34%; Length Accuracy 94.51%, Dups Accuracy 97.49%; taken 58 sec\n",
      "Epoch 96, Train Loss 0.1057, Accuracy 92.64%; Length Accuracy 98.31%, Dups Accuracy 99.02% | Validation Loss 0.1907, Accuracy 85.48%; Length Accuracy 95.50%, Dups Accuracy 97.39%; taken 57 sec\n",
      "Epoch 97, Train Loss 0.1064, Accuracy 92.58%; Length Accuracy 98.32%, Dups Accuracy 98.99% | Validation Loss 0.1925, Accuracy 85.68%; Length Accuracy 95.05%, Dups Accuracy 97.50%; taken 58 sec\n",
      "Epoch 98, Train Loss 0.1065, Accuracy 92.55%; Length Accuracy 98.25%, Dups Accuracy 98.99% | Validation Loss 0.2042, Accuracy 84.32%; Length Accuracy 94.22%, Dups Accuracy 97.36%; taken 57 sec\n",
      "Epoch 99, Train Loss 0.1047, Accuracy 92.77%; Length Accuracy 98.31%, Dups Accuracy 98.97% | Validation Loss 0.2049, Accuracy 84.52%; Length Accuracy 94.61%, Dups Accuracy 97.34%; taken 58 sec\n",
      "Epoch 100, Train Loss 0.1027, Accuracy 92.75%; Length Accuracy 98.25%, Dups Accuracy 99.00% | Validation Loss 0.2072, Accuracy 84.78%; Length Accuracy 94.13%, Dups Accuracy 97.18%; taken 58 sec\n",
      "Epoch 101, Train Loss 0.1086, Accuracy 92.43%; Length Accuracy 98.21%, Dups Accuracy 99.02% | Validation Loss 0.1877, Accuracy 85.87%; Length Accuracy 95.60%, Dups Accuracy 97.58%; taken 58 sec\n",
      "Epoch 102, Train Loss 0.1028, Accuracy 92.92%; Length Accuracy 98.32%, Dups Accuracy 99.08% | Validation Loss 0.1996, Accuracy 84.87%; Length Accuracy 94.53%, Dups Accuracy 97.19%; taken 57 sec\n",
      "Epoch 103, Train Loss 0.1029, Accuracy 92.91%; Length Accuracy 98.31%, Dups Accuracy 99.03% | Validation Loss 0.1995, Accuracy 85.09%; Length Accuracy 94.72%, Dups Accuracy 97.37%; taken 57 sec\n",
      "Epoch 104, Train Loss 0.1066, Accuracy 92.59%; Length Accuracy 98.24%, Dups Accuracy 99.06% | Validation Loss 0.2019, Accuracy 85.47%; Length Accuracy 94.51%, Dups Accuracy 97.46%; taken 57 sec\n",
      "Epoch 105, Train Loss 0.1085, Accuracy 92.53%; Length Accuracy 98.24%, Dups Accuracy 98.92% | Validation Loss 0.1917, Accuracy 85.67%; Length Accuracy 95.05%, Dups Accuracy 97.25%; taken 57 sec\n",
      "Epoch 106, Train Loss 0.1033, Accuracy 92.74%; Length Accuracy 98.33%, Dups Accuracy 99.03% | Validation Loss 0.2006, Accuracy 84.41%; Length Accuracy 94.28%, Dups Accuracy 97.19%; taken 57 sec\n",
      "Epoch 107, Train Loss 0.0968, Accuracy 93.27%; Length Accuracy 98.53%, Dups Accuracy 99.10% | Validation Loss 0.1889, Accuracy 86.19%; Length Accuracy 95.51%, Dups Accuracy 97.51%; taken 57 sec\n",
      "Epoch 108, Train Loss 0.0943, Accuracy 93.48%; Length Accuracy 98.48%, Dups Accuracy 99.17% | Validation Loss 0.2170, Accuracy 84.22%; Length Accuracy 93.92%, Dups Accuracy 97.66%; taken 57 sec\n",
      "Epoch 109, Train Loss 0.0992, Accuracy 93.20%; Length Accuracy 98.47%, Dups Accuracy 99.11% | Validation Loss 0.1929, Accuracy 85.46%; Length Accuracy 95.04%, Dups Accuracy 97.44%; taken 57 sec\n",
      "Epoch 110, Train Loss 0.1010, Accuracy 93.09%; Length Accuracy 98.35%, Dups Accuracy 99.13% | Validation Loss 0.1999, Accuracy 85.11%; Length Accuracy 94.84%, Dups Accuracy 97.12%; taken 57 sec\n",
      "Epoch 111, Train Loss 0.0987, Accuracy 93.13%; Length Accuracy 98.41%, Dups Accuracy 99.15% | Validation Loss 0.1932, Accuracy 85.95%; Length Accuracy 95.12%, Dups Accuracy 97.48%; taken 57 sec\n",
      "Epoch 112, Train Loss 0.0987, Accuracy 93.25%; Length Accuracy 98.45%, Dups Accuracy 99.14% | Validation Loss 0.2197, Accuracy 84.44%; Length Accuracy 93.50%, Dups Accuracy 97.73%; taken 58 sec\n",
      "Epoch 113, Train Loss 0.0966, Accuracy 93.39%; Length Accuracy 98.47%, Dups Accuracy 99.18% | Validation Loss 0.1947, Accuracy 85.36%; Length Accuracy 95.29%, Dups Accuracy 97.32%; taken 58 sec\n",
      "Epoch 114, Train Loss 0.0982, Accuracy 93.29%; Length Accuracy 98.47%, Dups Accuracy 99.05% | Validation Loss 0.1988, Accuracy 85.09%; Length Accuracy 95.00%, Dups Accuracy 97.19%; taken 58 sec\n",
      "Epoch 115, Train Loss 0.0982, Accuracy 93.24%; Length Accuracy 98.41%, Dups Accuracy 99.15% | Validation Loss 0.2011, Accuracy 85.70%; Length Accuracy 95.24%, Dups Accuracy 97.29%; taken 57 sec\n",
      "Epoch 116, Train Loss 0.0883, Accuracy 94.06%; Length Accuracy 98.68%, Dups Accuracy 99.25% | Validation Loss 0.1919, Accuracy 85.77%; Length Accuracy 95.10%, Dups Accuracy 97.63%; taken 58 sec\n",
      "Epoch 117, Train Loss 0.0920, Accuracy 93.78%; Length Accuracy 98.62%, Dups Accuracy 99.22% | Validation Loss 0.2050, Accuracy 84.89%; Length Accuracy 94.49%, Dups Accuracy 97.37%; taken 57 sec\n",
      "Epoch 118, Train Loss 0.0899, Accuracy 93.92%; Length Accuracy 98.64%, Dups Accuracy 99.19% | Validation Loss 0.1980, Accuracy 84.58%; Length Accuracy 94.68%, Dups Accuracy 97.62%; taken 58 sec\n",
      "Epoch 119, Train Loss 0.0950, Accuracy 93.55%; Length Accuracy 98.51%, Dups Accuracy 99.13% | Validation Loss 0.1959, Accuracy 85.38%; Length Accuracy 95.13%, Dups Accuracy 97.44%; taken 58 sec\n",
      "Epoch 120, Train Loss 0.0945, Accuracy 93.58%; Length Accuracy 98.51%, Dups Accuracy 99.19% | Validation Loss 0.2068, Accuracy 85.54%; Length Accuracy 94.86%, Dups Accuracy 97.36%; taken 58 sec\n"
     ]
    }
   ],
   "source": [
    "while epoch_step2 < EPOCHS_STEP2:\n",
    "    step2(epoch_step2, EPOCHS_STEP2)\n",
    "    epoch_step2 += 1"
   ]
  },
  {
   "cell_type": "markdown",
   "metadata": {},
   "source": [
    "## Save Model"
   ]
  },
  {
   "cell_type": "code",
   "execution_count": 39,
   "metadata": {},
   "outputs": [],
   "source": [
    "cangjie = Cangjie(encoder, decoder, length_decoder, dup_decoder)\n",
    "_ = cangjie(val_dataset.as_numpy_iterator().next()[0])"
   ]
  },
  {
   "cell_type": "code",
   "execution_count": 40,
   "metadata": {},
   "outputs": [
    {
     "data": {
      "text/plain": [
       "WARNING:tensorflow:Skipping full serialization of Keras model <__main__.Cangjie object at 0x14f10f810>, because its inputs are not defined.\n",
       "INFO:tensorflow:Assets written to: ./Cangjie_Model/assets\n"
      ]
     },
     "execution_count": 40,
     "metadata": {},
     "output_type": "execute_result"
    }
   ],
   "source": [
    "tf.saved_model.save(cangjie, './Cangjie_Model/')"
   ]
  }
 ],
 "metadata": {
  "hide_input": false,
  "jupytext": {
   "encoding": "# -*- coding: utf-8 -*-"
  },
  "kernelspec": {
   "display_name": "Python 3",
   "language": "python",
   "name": "python3"
  },
  "language_info": {
   "codemirror_mode": {
    "name": "ipython",
    "version": 3
   },
   "file_extension": ".py",
   "mimetype": "text/x-python",
   "name": "python",
   "nbconvert_exporter": "python",
   "pygments_lexer": "ipython3",
   "version": "3.7.6"
  }
 },
 "nbformat": 4,
 "nbformat_minor": 4
}
