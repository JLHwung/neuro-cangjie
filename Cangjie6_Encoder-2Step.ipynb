{
 "cells": [
  {
   "cell_type": "code",
   "execution_count": 1,
   "metadata": {},
   "outputs": [],
   "source": [
    "from PIL import ImageFont, ImageDraw, Image\n",
    "from fontTools.ttLib import TTFont\n",
    "\n",
    "import numpy as np\n",
    "import pandas as pd\n",
    "import tensorflow as tf\n",
    "from sklearn.model_selection import train_test_split\n",
    "\n",
    "import time\n",
    "import datetime\n",
    "import multiprocessing"
   ]
  },
  {
   "cell_type": "code",
   "execution_count": 2,
   "metadata": {},
   "outputs": [],
   "source": [
    "VOCAB = 28; EBD_DIM = 256; UNIT_DIM = 128; BATCH_SIZE = 256"
   ]
  },
  {
   "cell_type": "markdown",
   "metadata": {},
   "source": [
    "## Load Data"
   ]
  },
  {
   "cell_type": "code",
   "execution_count": 3,
   "metadata": {},
   "outputs": [],
   "source": [
    "class Glyph(object):\n",
    "    # transform character to bitmap\n",
    "    def __init__(self, fonts, size=64):\n",
    "        # load fonts, size. We will use 2 fonts for all CJK characters, so keep 2 codepoint books.\n",
    "        self.codepoints = [set() for _ in fonts]\n",
    "        self.size = int(size * 0.8)\n",
    "        self.size_img = size\n",
    "        self.pad = (size - self.size) // 2\n",
    "        self.fonts = [ImageFont.truetype(f, self.size) for f in fonts]\n",
    "        # use a cache to reduce computation if duplicated characters encountered.\n",
    "        self.cache = {}\n",
    "        for cp, font in zip(self.codepoints, fonts):\n",
    "            font = TTFont(font)\n",
    "            # store codepoints in font cmap into self.codepoints\n",
    "            for cmap in font['cmap'].tables:\n",
    "                if not cmap.isUnicode():\n",
    "                    continue\n",
    "                for k in cmap.cmap:\n",
    "                    cp.add(k)\n",
    "    \n",
    "    def draw(self, ch):\n",
    "        if ch in self.cache:\n",
    "            return self.cache[ch]\n",
    "        # search among fonts, use the first found\n",
    "        exist = False\n",
    "        for i in range(len(self.codepoints)):\n",
    "            if ord(ch) in self.codepoints[i]:\n",
    "                font = self.fonts[i]\n",
    "                exist = True\n",
    "                break\n",
    "        if not exist:\n",
    "            return None\n",
    "\n",
    "        img = Image.new('L', (self.size_img, self.size_img), 0)\n",
    "        draw = ImageDraw.Draw(img)\n",
    "        (width, baseline), (offset_x, offset_y) = font.font.getsize(ch)\n",
    "        draw.text((self.pad - offset_x, self.pad - offset_y + 4), ch, font=font, fill=255, stroke_fill=255) \n",
    "        img_array = np.array(img.getdata(), dtype='float32').reshape((self.size_img, self.size_img)) / 255\n",
    "        self.cache[ch] = img_array\n",
    "\n",
    "        return img_array"
   ]
  },
  {
   "cell_type": "code",
   "execution_count": 4,
   "metadata": {},
   "outputs": [],
   "source": [
    "glyphbook = Glyph(['data/fonts/HanaMinA.otf', 'data/fonts/HanaMinB.otf'])\n",
    "\n",
    "def _mapping(item):\n",
    "    char, code, dup_total, dup_curr = item\n",
    "    glyph = glyphbook.draw(char)\n",
    "    if glyph is not None:\n",
    "        return glyph, code, dup_total, dup_curr\n",
    "\n",
    "def preprocess_chart(chart, cores=multiprocessing.cpu_count()):\n",
    "    glyphs = []; codes = []\n",
    "    dup_total = []; dup_curr = []\n",
    "    with multiprocessing.Pool(processes=cores) as pool:\n",
    "        for item in pool.map(_mapping, chart.values):\n",
    "            if item is not None:\n",
    "                glyphs.append(item[0])\n",
    "                codes.append(item[1])\n",
    "                dup_total.append(item[2])\n",
    "                dup_curr.append(item[3])\n",
    "    return np.expand_dims(np.array(glyphs), -1), np.array(codes), np.array(dup_total), np.array(dup_curr)"
   ]
  },
  {
   "cell_type": "code",
   "execution_count": 5,
   "metadata": {},
   "outputs": [],
   "source": [
    "def tokenizer(code_table):\n",
    "    # Cangjie code consists only of a-z, with maximum length of 5, minimum of 1\n",
    "    # start with 0, a-z are 1-26, end and padding are 27\n",
    "    tokens = np.expand_dims(np.zeros(code_table.shape, dtype='int64'), -1)\n",
    "    code_index = list(map(lambda x: list(map(lambda y: ord(y) - 96, list(x))) + [27] * (5-len(x)), code_table))\n",
    "    tokens = np.append(tokens, np.array(code_index), axis=-1)\n",
    "    return tokens"
   ]
  },
  {
   "cell_type": "code",
   "execution_count": 6,
   "metadata": {},
   "outputs": [],
   "source": [
    "code_chart = pd.read_csv('data/cangjie6.txt', delimiter='\\t', header=None, names=['Char', 'Code'], keep_default_na=False)"
   ]
  },
  {
   "cell_type": "code",
   "execution_count": 7,
   "metadata": {},
   "outputs": [],
   "source": [
    "count = {}\n",
    "for char, code in code_chart.values:\n",
    "    if char in count:\n",
    "        count[char].append(code)\n",
    "        count[char].sort(key=len)\n",
    "        count[char].sort(key=lambda x: (len(x), x))\n",
    "    else:\n",
    "        count[char] = [code]"
   ]
  },
  {
   "cell_type": "code",
   "execution_count": 8,
   "metadata": {},
   "outputs": [],
   "source": [
    "MAX_LEN = code_chart.Code.map(len).max()\n",
    "MAX_DUP = max(map(lambda x: len(x), count.values()))"
   ]
  },
  {
   "cell_type": "code",
   "execution_count": 9,
   "metadata": {},
   "outputs": [],
   "source": [
    "code_chart['DuplicateTotal'] = code_chart['Char'].map(count).map(len).copy()\n",
    "code_chart['DuplicateCurrent'] = code_chart.apply(lambda x: count[x['Char']].index(x['Code']) + 1, axis=1).copy()"
   ]
  },
  {
   "cell_type": "code",
   "execution_count": 10,
   "metadata": {},
   "outputs": [],
   "source": [
    "glyphs, codes, dups_total, dups_curr = preprocess_chart(code_chart)\n",
    "tokens = tokenizer(codes)\n",
    "lengths = np.array([len(list(filter(lambda i: i < VOCAB - 1 and i > 0, x))) for x in tokens])\n",
    "lengths = np.array([np.identity(MAX_LEN)[i-1] for i in lengths], dtype='int64')\n",
    "dups_total = np.array([np.identity(MAX_DUP)[i-1] for i in dups_total], dtype='int64')\n",
    "dups_curr = np.array([np.identity(MAX_DUP)[i-1] for i in dups_curr], dtype='int64')\n",
    "del code_chart, codes, count"
   ]
  },
  {
   "cell_type": "code",
   "execution_count": 11,
   "metadata": {},
   "outputs": [],
   "source": [
    "(train_glyphs, validation_glyphs,\n",
    " train_tokens, validation_tokens,\n",
    " train_lengths, validation_lengths,\n",
    " train_dups_total, validation_dups_total,\n",
    " train_dups_curr, validation_dups_curr) = train_test_split(\n",
    "    glyphs, tokens, lengths, dups_total, dups_curr, test_size=0.1, random_state=1225)\n",
    "del glyphs, tokens, lengths, dups_total, dups_curr"
   ]
  },
  {
   "cell_type": "code",
   "execution_count": 12,
   "metadata": {},
   "outputs": [],
   "source": [
    "num_steps = train_glyphs.shape[0] // BATCH_SIZE + min(1, train_glyphs.shape[0] % BATCH_SIZE)\n",
    "num_steps_val = validation_glyphs.shape[0] // BATCH_SIZE + min(1, validation_glyphs.shape[0] % BATCH_SIZE)\n",
    "\n",
    "dataset = tf.data.Dataset.from_tensor_slices((train_glyphs, train_tokens, train_lengths, train_dups_total, train_dups_curr))\n",
    "dataset = dataset.shuffle(train_glyphs.shape[0]).batch(BATCH_SIZE)\n",
    "dataset = dataset.prefetch(buffer_size=tf.data.experimental.AUTOTUNE)\n",
    "\n",
    "val_dataset = tf.data.Dataset.from_tensor_slices((validation_glyphs, validation_tokens, validation_lengths, validation_dups_total, validation_dups_curr))\n",
    "val_dataset = val_dataset.shuffle(validation_glyphs.shape[0]).batch(BATCH_SIZE)\n",
    "val_dataset = val_dataset.prefetch(buffer_size=tf.data.experimental.AUTOTUNE)\n",
    "\n",
    "del train_glyphs, validation_glyphs, train_tokens, validation_tokens, train_lengths, validation_lengths\n",
    "del train_dups_total, validation_dups_total, train_dups_curr, validation_dups_curr"
   ]
  },
  {
   "cell_type": "markdown",
   "metadata": {},
   "source": [
    "## Model"
   ]
  },
  {
   "cell_type": "code",
   "execution_count": 13,
   "metadata": {},
   "outputs": [],
   "source": [
    "class Res_CNN(tf.keras.Model):\n",
    "    def __init__(self, feature_dim, kernel_size):\n",
    "        super(Res_CNN, self).__init__()\n",
    "        self.cnn1 = tf.keras.layers.Convolution2D(feature_dim, kernel_size, padding='same')\n",
    "        self.cnn2 = tf.keras.layers.Convolution2D(feature_dim, kernel_size, padding='same')\n",
    "        self.cnn3 = tf.keras.layers.Convolution2D(feature_dim, kernel_size, padding='same')\n",
    "        self.norm = tf.keras.layers.BatchNormalization()\n",
    "        \n",
    "    def call(self, x):\n",
    "        x = self.cnn1(x)\n",
    "        x_identity = tf.identity(x)\n",
    "        x = self.cnn2(x)\n",
    "        x_identity2 = tf.identity(x)\n",
    "        x = self.cnn3(x + x_identity)\n",
    "        x = self.norm(x + x_identity2)\n",
    "        x = tf.nn.relu(x)\n",
    "        return x"
   ]
  },
  {
   "cell_type": "code",
   "execution_count": 14,
   "metadata": {},
   "outputs": [],
   "source": [
    "class CNN_Encoder(tf.keras.Model):\n",
    "    # This is essentially a CNN layer, \n",
    "    def __init__(self, embedding_dim):\n",
    "        super(CNN_Encoder, self).__init__()\n",
    "        self.res_cnn1 = Res_CNN(embedding_dim // 16, (3, 3))\n",
    "        self.pool1 = tf.keras.layers.MaxPool2D((2, 2))\n",
    "        self.res_cnn2 = Res_CNN(embedding_dim // 4, (3, 3))\n",
    "        self.pool2 = tf.keras.layers.MaxPool2D((2, 2))\n",
    "        self.res_cnn3 = Res_CNN(embedding_dim, (3, 3))\n",
    "        self.fc = tf.keras.layers.Dense(embedding_dim, activation='relu')\n",
    "\n",
    "    def call(self, x, training=True):\n",
    "        # x shape after cnn1 == (batch_size, 64, 64, embedding_dim // 16)\n",
    "        x = self.res_cnn1(x)\n",
    "        # x shape after pool1 == (batch_size, 32, 32, embedding_dim // 16)\n",
    "        x = self.pool1(x)\n",
    "        \n",
    "        # x shape after cnn2 == (batch_size, 32, 32, embedding_dim // 4)\n",
    "        x = self.res_cnn2(x)\n",
    "        # x shape after pool2 == (batch_size, 16, 16, embedding_dim // 4)\n",
    "        x = self.pool2(x)\n",
    "        \n",
    "        # x shape after cnn3 == (batch_size, 16, 16, embedding_dim)\n",
    "        x = self.res_cnn3(x)\n",
    "        # reshape from (batch_size, 16, 16, embedding_dim) to (batch_size, 256, embedding_dim)\n",
    "        x = tf.reshape(x, [x.shape[0], -1, x.shape[-1]])\n",
    "        # x shape after fc == (batch_size, 256, embedding_dim)\n",
    "        if training:\n",
    "            x = tf.nn.dropout(x, rate=0.4)\n",
    "        x = self.fc(x)\n",
    "        return x"
   ]
  },
  {
   "cell_type": "code",
   "execution_count": 15,
   "metadata": {},
   "outputs": [],
   "source": [
    "class Bahdanau_Attention(tf.keras.Model):\n",
    "    def __init__(self, attention_dim):\n",
    "        super(Bahdanau_Attention, self).__init__()\n",
    "        self.W1 = tf.keras.layers.Dense(attention_dim)\n",
    "        self.W2 = tf.keras.layers.Dense(attention_dim)\n",
    "        self.V = tf.keras.layers.Dense(1)\n",
    "\n",
    "    def call(self, features, hidden):\n",
    "        # features(CNN_Encoder output) shape == (batch_size, 256, embedding_dim)\n",
    "\n",
    "        # hidden shape == (batch_size, hidden_size)\n",
    "        # hidden_with_time_axis shape == (batch_size, 1, hidden_size)\n",
    "        hidden_with_time_axis = tf.expand_dims(hidden, 1)\n",
    "\n",
    "        # score shape == (batch_size, 256, attention_dim)\n",
    "        score = tf.nn.tanh(self.W1(features) + self.W2(hidden_with_time_axis))\n",
    "\n",
    "        # attention_weights shape == (batch_size, 256, 1)\n",
    "        # you get 1 at the last axis because you are applying score to self.V\n",
    "        attention_weights = tf.nn.softmax(self.V(score), axis=1)\n",
    "\n",
    "        # context_vector shape after sum == (batch_size, embedding_dim)\n",
    "        context_vector = attention_weights * features\n",
    "        context_vector = tf.reduce_sum(context_vector, axis=1)\n",
    "\n",
    "        return context_vector, attention_weights"
   ]
  },
  {
   "cell_type": "code",
   "execution_count": 16,
   "metadata": {},
   "outputs": [],
   "source": [
    "class Simple_Decoder(tf.keras.Model):\n",
    "    def __init__(self, embedding_dim, max_length, hidden_size, vocab_size):\n",
    "        super(Simple_Decoder, self).__init__()\n",
    "        self.embedding = tf.keras.layers.Embedding(vocab_size, embedding_dim)\n",
    "        self.attention = Bahdanau_Attention(hidden_size)\n",
    "        self.fc1 = tf.keras.layers.Dense(hidden_size, activation='relu')\n",
    "        self.fc2 = tf.keras.layers.Dense(vocab_size)\n",
    "        \n",
    "    def call(self, feature, position):\n",
    "        # y shape (batch_size, hidden_size)\n",
    "        y = self.embedding(position)\n",
    "        # x shape (batch_size, embedding_dim)\n",
    "        x, w = self.attention(feature, y)\n",
    "        # x shape (batch_size, hidden_size)\n",
    "        x = self.fc1(x)\n",
    "        # x shape (batch_size, vocab_size)\n",
    "        x = self.fc2(x)\n",
    "        return x, w"
   ]
  },
  {
   "cell_type": "code",
   "execution_count": 17,
   "metadata": {},
   "outputs": [],
   "source": [
    "class Length_Decoder(tf.keras.Model):\n",
    "    def __init__(self, max_length):\n",
    "        super(Length_Decoder, self).__init__()\n",
    "        self.pool = tf.keras.layers.MaxPool2D((2, 2))\n",
    "        self.fc1 = tf.keras.layers.Dense(max_length * 16, activation='relu')\n",
    "        self.fc2 = tf.keras.layers.Dense(max_length * 16, activation='relu')\n",
    "        self.fc3 = tf.keras.layers.Dense(max_length * 4, activation='relu')\n",
    "        self.fc4 = tf.keras.layers.Dense(max_length)\n",
    "        \n",
    "    def call(self, x, d_t=None, d_c=None):\n",
    "        x = tf.reshape(x, (x.shape[0], 16, 16, x.shape[-1]))\n",
    "        x = self.pool(x) # shape = (batch_size, 8, 8, embedding_dim)\n",
    "        x = self.fc1(x)\n",
    "        x = tf.reshape(x, (x.shape[0], -1))\n",
    "        if d_t != None and d_c != None:\n",
    "            d = tf.concat([tf.cast(d_t, 'float32'), tf.cast(d_c, 'float32')], axis=-1)\n",
    "            x = tf.concat([d, x], axis=-1)\n",
    "        x = self.fc2(x)\n",
    "        x = self.fc3(x)\n",
    "        x = self.fc4(x)\n",
    "        # shape = (batch_size, max_length)\n",
    "        return x"
   ]
  },
  {
   "cell_type": "code",
   "execution_count": 18,
   "metadata": {},
   "outputs": [],
   "source": [
    "class RNN_Decoder(tf.keras.Model):\n",
    "    def __init__(self, embedding_dim, hidden_size, vocab_size, max_length):\n",
    "        super(RNN_Decoder, self).__init__()\n",
    "        self.hidden_size = hidden_size\n",
    "        self.embedding = tf.keras.layers.Embedding(vocab_size, embedding_dim)\n",
    "        self.gru1 = tf.keras.layers.GRU(self.hidden_size, return_sequences=True,\n",
    "                                        return_state=True, recurrent_initializer='glorot_uniform', dropout=0.3)\n",
    "        self.gru2 = tf.keras.layers.GRU(self.hidden_size, return_sequences=True,\n",
    "                                        return_state=True, recurrent_initializer='glorot_uniform')\n",
    "        self.gru3 = tf.keras.layers.GRU(self.hidden_size, return_sequences=True,\n",
    "                                        return_state=True, recurrent_initializer='glorot_uniform', dropout=0.3)\n",
    "        self.fc1 = tf.keras.layers.Dense(hidden_size, activation='relu')\n",
    "        self.fc2 = tf.keras.layers.Dense(vocab_size)\n",
    "\n",
    "        self.attention = Bahdanau_Attention(hidden_size)\n",
    "\n",
    "    def call(self, x, l, d_t, d_c, features, hidden, training=True, teacher_forcing=True):\n",
    "        # x is forward direction, y is beckward direction\n",
    "        # defining attention as a separate model\n",
    "        l = tf.cast(l, 'float32')\n",
    "        hidden_0_with_length = tf.concat([l, hidden[0]], axis=-1)\n",
    "        context_vector, attention_weights = self.attention(features, hidden_0_with_length)\n",
    "        l = tf.expand_dims(l, 1)\n",
    "        d = tf.expand_dims(tf.concat([tf.cast(d_t, 'float32'), tf.cast(d_c, 'float32')], axis=-1), 1)\n",
    "\n",
    "        # x shape before is (batch_size, 1) since it is passed through one by one at a time\n",
    "        # x shape after passing through embedding == (batch_size, 1, embedding_dim)\n",
    "        if teacher_forcing:\n",
    "            x = self.embedding(x)\n",
    "        else:\n",
    "            if not self.embedding.built:\n",
    "                self.embedding.build(x.shape)\n",
    "            x = tf.tensordot(x, self.embedding.weights[0], axes=[-1,0])\n",
    "        # context_vector shape is (batch_size, embedding_dim)\n",
    "        # x shape after concatenation == (batch_size, 1, embedding_dim + embedding_dim)\n",
    "        x = tf.concat([tf.expand_dims(context_vector, 1), x], axis=-1)\n",
    "\n",
    "        # passing the concatenated vector to the GRU\n",
    "        # x shape is (batch_size, 1, hidden_size)\n",
    "        # state is new hidden used in next step\n",
    "        x, state1 = self.gru1(x, initial_state = hidden[0], training=training)\n",
    "        x_identity = tf.identity(x)\n",
    "        x = tf.concat([d, l, x], axis=-1)\n",
    "        x, state2 = self.gru2(x, initial_state = hidden[1], training=training)\n",
    "        x_identity2 = tf.identity(x)\n",
    "        x, state3 = self.gru3(x + x_identity, initial_state = hidden[2], training=training)\n",
    "        # x shape (batch_size, 1, max_length + hidden_size)\n",
    "        x = tf.concat([d, l, x + x_identity2], axis=-1)\n",
    "        x = tf.reshape(x, (x.shape[0], -1))\n",
    "        # x shape (batch_size, hidden_size)\n",
    "        x = self.fc1(x)\n",
    "        # x shape (batch_size, vocab_size)\n",
    "        x = self.fc2(x)\n",
    "\n",
    "        return x, [state1, state2, state3], attention_weights\n",
    "\n",
    "    def reset_state(self, batch_size):\n",
    "        # generate new hidden layer with different batch size\n",
    "        return [tf.zeros((batch_size, self.hidden_size)) for _ in range(3)]"
   ]
  },
  {
   "cell_type": "markdown",
   "metadata": {},
   "source": [
    "## Graph"
   ]
  },
  {
   "cell_type": "code",
   "execution_count": 19,
   "metadata": {},
   "outputs": [],
   "source": [
    "optimizer_step1 = tf.keras.optimizers.Adam()\n",
    "optimizer_step2 = tf.keras.optimizers.Adam()\n",
    "optimizer_length = tf.keras.optimizers.Adam()\n",
    "optimizer_dups = tf.keras.optimizers.Adam()"
   ]
  },
  {
   "cell_type": "markdown",
   "metadata": {},
   "source": [
    "### Step 1"
   ]
  },
  {
   "cell_type": "code",
   "execution_count": 20,
   "metadata": {},
   "outputs": [],
   "source": [
    "loss_object = tf.keras.losses.SparseCategoricalCrossentropy(from_logits=True, reduction='none')\n",
    "\n",
    "def loss_function(real, pred):\n",
    "    loss_ = loss_object(real, pred)\n",
    "    return tf.reduce_mean(loss_)\n",
    "\n",
    "def accuracy_function(real, pred):\n",
    "    pred_index = tf.math.argmax(pred, axis=-1)\n",
    "    return tf.math.reduce_mean(tf.cast(pred_index == real, tf.float32))"
   ]
  },
  {
   "cell_type": "code",
   "execution_count": 21,
   "metadata": {},
   "outputs": [],
   "source": [
    "@tf.function\n",
    "def train_step1(glyph, target, length, total_dups, curr_dups):\n",
    "    loss = 0; accuracy = 0\n",
    "    with tf.GradientTape() as tape:\n",
    "        features = encoder(glyph)\n",
    "        for i in range(1, target.shape[1]):\n",
    "            position = tf.convert_to_tensor(np.repeat(i-1, target.shape[0]), dtype='int64')\n",
    "            prediction, weight = simple_decoder(features, position)\n",
    "            loss += loss_function(target[:, i], prediction)\n",
    "            accuracy += accuracy_function(target[:, i], prediction)\n",
    "\n",
    "    trainable_variables = simple_decoder.trainable_variables + encoder.trainable_variables\n",
    "    gradients = tape.gradient(loss, trainable_variables)\n",
    "    optimizer_step1.apply_gradients(zip(gradients, trainable_variables))\n",
    "    \n",
    "    with tf.GradientTape() as tape_length:\n",
    "        length_pred = length_decoder(features, total_dups, curr_dups)\n",
    "        loss_length = loss_function(tf.math.argmax(length, axis=-1), length_pred)\n",
    "\n",
    "    gradients_length = tape_length.gradient(loss_length, length_decoder.trainable_variables)\n",
    "    optimizer_length.apply_gradients(zip(gradients_length, length_decoder.trainable_variables))\n",
    "    \n",
    "    with tf.GradientTape() as tape_dups:\n",
    "        dups_pred = dup_decoder(features)\n",
    "        loss_dups = loss_function(tf.math.argmax(total_dups, axis=-1), dups_pred)\n",
    "\n",
    "    gradients_dups = tape_dups.gradient(loss_dups, dup_decoder.trainable_variables)\n",
    "    optimizer_dups.apply_gradients(zip(gradients_dups, dup_decoder.trainable_variables))\n",
    "    \n",
    "    return loss / (target.shape[1] - 1), accuracy / (target.shape[1] - 1)"
   ]
  },
  {
   "cell_type": "code",
   "execution_count": 22,
   "metadata": {},
   "outputs": [],
   "source": [
    "@tf.function\n",
    "def validation_step1(glyph, target):\n",
    "    loss = 0; accuracy = 0\n",
    "    feature = encoder(glyph, training=False)\n",
    "    for i in range(1, target.shape[1]):\n",
    "        position = tf.convert_to_tensor(np.repeat(i-1, target.shape[0]), dtype='int64')\n",
    "        prediction, weight = simple_decoder(feature, position)\n",
    "        loss += loss_function(target[:, i], prediction)\n",
    "        accuracy += accuracy_function(target[:, i], prediction)\n",
    "    return loss / (target.shape[1] - 1), accuracy / (target.shape[1] - 1)"
   ]
  },
  {
   "cell_type": "code",
   "execution_count": 23,
   "metadata": {
    "scrolled": true
   },
   "outputs": [],
   "source": [
    "def step1(epoch):\n",
    "    start = time.time()\n",
    "    total_loss = 0; val_loss = 0\n",
    "    total_accuracy = 0; val_accuracy = 0\n",
    "\n",
    "    for (batch, (glyph_tensor, target, length, total_dups, curr_dups)) in enumerate(dataset):\n",
    "        t_loss, accuracy = train_step1(glyph_tensor, target, length, total_dups, curr_dups)\n",
    "        total_loss += t_loss\n",
    "        total_accuracy += accuracy\n",
    "        print('Epoch {}, Train Loss {:.4f}, Accuracy {:.2%}; progress {:.1%}, taken {:.0f} sec'.format(\n",
    "            epoch + 1, total_loss/batch, total_accuracy / batch, batch / num_steps, time.time() - start), end='\\r')\n",
    "    \n",
    "    for (glyph_tensor, target, _, _, _) in val_dataset:\n",
    "        t_loss, accuracy = validation_step1(glyph_tensor, target)\n",
    "        val_loss += t_loss\n",
    "        val_accuracy += accuracy\n",
    "   \n",
    "    # storing the epoch end loss value to plot later \n",
    "    ckpt_manager_step1.save()\n",
    "\n",
    "    print ('Epoch {}, Train Loss {:.4f}, Accuracy {:.2%} | Validation Loss {:.4f}, Accuracy {:.2%}; taken {:.0f} sec'.format(\n",
    "        epoch+1, total_loss/num_steps, total_accuracy/num_steps, val_loss/num_steps_val, val_accuracy/num_steps_val, time.time() - start))"
   ]
  },
  {
   "cell_type": "markdown",
   "metadata": {},
   "source": [
    "### Step 2"
   ]
  },
  {
   "cell_type": "code",
   "execution_count": 24,
   "metadata": {},
   "outputs": [],
   "source": [
    "def predict(features, max_length, length, total_dups, curr_dups):\n",
    "    # start with 0\n",
    "    dec_input = tf.constant([[[1] + [0] * (VOCAB - 1)]] * features.shape[0], dtype='float32')\n",
    "    hidden = decoder.reset_state(batch_size=features.shape[0])\n",
    "    probability = tf.convert_to_tensor([1]*features.shape[0], dtype='float32')\n",
    "    # iterate predictions, no teacher forcing here\n",
    "    for i in range(max_length):\n",
    "        prediction, hidden, attention_weights = decoder(\n",
    "            tf.expand_dims(dec_input[:, i, :], 1), length, total_dups, curr_dups, features, hidden, training=False, teacher_forcing=False)\n",
    "        # we need deterministic result\n",
    "        prediction = tf.math.softmax(prediction, axis=-1)\n",
    "        probability *= tf.math.reduce_max(prediction, axis=-1)\n",
    "        dec_input = tf.concat([dec_input, tf.expand_dims(prediction, 1)], axis=1)\n",
    "    return tf.math.argmax(dec_input, axis=-1), probability"
   ]
  },
  {
   "cell_type": "code",
   "execution_count": 25,
   "metadata": {},
   "outputs": [],
   "source": [
    "def predict_next(features, target, length, total_dups, curr_dups, training=True, teacher_forcing=True):\n",
    "    hidden = decoder.reset_state(batch_size=features.shape[0])\n",
    "    predictions = tf.constant(0, dtype='float32', shape=(features.shape[0], 1, VOCAB))\n",
    "    if not teacher_forcing:\n",
    "        previous = tf.constant([[[1] + [0] * (VOCAB - 1)]] * features.shape[0], dtype='float32')\n",
    "    for i in range(target.shape[1]-1):\n",
    "        if teacher_forcing:\n",
    "            previous = tf.expand_dims(target[:, i], 1)\n",
    "        prediction, hidden, attention_weights = decoder(\n",
    "            previous, length, total_dups, curr_dups, features, hidden, training=training, teacher_forcing=teacher_forcing)\n",
    "        predictions = tf.concat([predictions, tf.expand_dims(prediction, 1)], axis=1)\n",
    "        if not teacher_forcing:\n",
    "            previous = tf.expand_dims(tf.math.softmax(prediction, axis=-1), 1)\n",
    "    return predictions[:, 1:, :]"
   ]
  },
  {
   "cell_type": "code",
   "execution_count": 26,
   "metadata": {},
   "outputs": [],
   "source": [
    "def loss_function_step2(real, pred):\n",
    "    mask = tf.math.logical_not(tf.math.equal(real, 0))\n",
    "    loss_ = loss_object(real, pred)\n",
    "    mask = tf.cast(mask, dtype=loss_.dtype)\n",
    "    loss_ *= mask\n",
    "    loss_ = tf.reduce_mean(loss_, axis=0)\n",
    "    return tf.reduce_sum(loss_)\n",
    "\n",
    "def accuracy_function_step2(real, pred):\n",
    "    accuracy = tf.math.reduce_all(pred == real, 1)\n",
    "    return tf.math.reduce_mean(tf.cast(accuracy, tf.float32))"
   ]
  },
  {
   "cell_type": "code",
   "execution_count": 27,
   "metadata": {},
   "outputs": [],
   "source": [
    "@tf.function\n",
    "def train_step2(glyph_tensor, target, length, total_dups, curr_dups, teacher_forcing=True):\n",
    "\n",
    "    with tf.GradientTape() as tape:\n",
    "        features = encoder(glyph_tensor)\n",
    "        \n",
    "        with tf.GradientTape() as tape_dups:\n",
    "            dups_pred = dup_decoder(features)\n",
    "            loss_dups = loss_function(tf.math.argmax(total_dups, axis=-1), dups_pred)\n",
    "        dups_pred = tf.nn.softmax(dups_pred, axis=-1)\n",
    "        \n",
    "        with tf.GradientTape() as tape_length:\n",
    "            if teacher_forcing:\n",
    "                length_pred = length_decoder(features, d_t=total_dups, d_c=curr_dups)\n",
    "            else:\n",
    "                length_pred = length_decoder(features, d_t=dups_pred, d_c=curr_dups)\n",
    "            loss_length = loss_function(tf.math.argmax(length, axis=-1), length_pred)\n",
    "        length_pred = tf.nn.softmax(length_pred, axis=-1)\n",
    "        \n",
    "        if teacher_forcing:\n",
    "            predictions = predict_next(features, target, length, total_dups, curr_dups)\n",
    "        else:\n",
    "            predictions = predict_next(features, target, length_pred, dups_pred, curr_dups, teacher_forcing=teacher_forcing)\n",
    "        loss = loss_function_step2(target[:, 1:], predictions)\n",
    "    \n",
    "    \n",
    "    trainable_variables = decoder.trainable_variables + encoder.trainable_variables\n",
    "    gradients = tape.gradient(loss, trainable_variables)\n",
    "    optimizer_step2.apply_gradients(zip(gradients, trainable_variables))\n",
    "\n",
    "    gradients_length = tape_length.gradient(loss_length, length_decoder.trainable_variables)\n",
    "    optimizer_length.apply_gradients(zip(gradients_length, length_decoder.trainable_variables))\n",
    "    \n",
    "    gradients_dups = tape_dups.gradient(loss_dups, dup_decoder.trainable_variables)\n",
    "    optimizer_dups.apply_gradients(zip(gradients_dups, dup_decoder.trainable_variables))\n",
    "    \n",
    "    # calculate accuracy based on the code's whole string\n",
    "    predictions_id, _ = predict(features, MAX_LEN, length_pred, dups_pred, curr_dups)\n",
    "    accuracy = accuracy_function_step2(predictions_id, target)\n",
    "    accuracy_length = accuracy_function(tf.math.argmax(length, axis=-1), length_pred)\n",
    "    accuracy_dups = accuracy_function(tf.math.argmax(total_dups, axis=-1), dups_pred)\n",
    "\n",
    "    return loss / (target.shape[1] - 1), accuracy, accuracy_length, accuracy_dups"
   ]
  },
  {
   "cell_type": "code",
   "execution_count": 28,
   "metadata": {},
   "outputs": [],
   "source": [
    "@tf.function\n",
    "def validation_step2(glyph_tensor, target, length, total_dups, curr_dups):\n",
    "    features = encoder(glyph_tensor, training=False)\n",
    "    dups_pred = tf.nn.softmax(dup_decoder(features), axis=-1)\n",
    "    length_pred = tf.nn.softmax(length_decoder(features, d_t=dups_pred, d_c=curr_dups), axis=-1)\n",
    "    predictions = predict_next(features, target, length_pred, dups_pred, curr_dups, training=False, teacher_forcing=False)\n",
    "    loss = loss_function_step2(target[:, 1:], predictions)\n",
    "\n",
    "    # calculate accuracy based on the code's whole string\n",
    "    predictions_id, _ = predict(features, MAX_LEN, length_pred, dups_pred, curr_dups)\n",
    "    accuracy = accuracy_function_step2(predictions_id, target)\n",
    "    accuracy_length = accuracy_function(tf.math.argmax(length, axis=-1), length_pred)\n",
    "    accuracy_dups = accuracy_function(tf.math.argmax(total_dups, axis=-1), dups_pred)\n",
    "    \n",
    "    return loss / (target.shape[1] - 1), accuracy, accuracy_length, accuracy_dups"
   ]
  },
  {
   "cell_type": "code",
   "execution_count": 29,
   "metadata": {
    "scrolled": true
   },
   "outputs": [],
   "source": [
    "def step2(epoch, teacher_forcing=True):\n",
    "    start = time.time()\n",
    "    total_loss = 0; val_loss = 0; dups_accu = 0; val_dups_accu = 0\n",
    "    total_accuracy = 0; val_accuracy = 0; len_accu = 0; val_len_accu = 0\n",
    "\n",
    "    for (batch, (glyph_tensor, target, length, total_dups, curr_dups)) in enumerate(dataset):\n",
    "#        if batch == 0:\n",
    "#            tf.summary.trace_on(graph=True, profiler=True)\n",
    "        t_loss, accuracy, accuracy_length, accuracy_dups = train_step2(glyph_tensor, target, length, total_dups, curr_dups, teacher_forcing=teacher_forcing)\n",
    "#        if batch == 0:\n",
    "#            with graph_summary_writer.as_default():\n",
    "#                tf.summary.trace_export(name=\"train_trace\", step=epoch, profiler_outdir=graph_log_dir)\n",
    "#            tf.summary.trace_off()\n",
    "        total_loss += t_loss; total_accuracy += accuracy\n",
    "        len_accu += accuracy_length; dups_accu += accuracy_dups\n",
    "        \n",
    "        print('Epoch {}, Train Loss {:.4f}, Accuracy {:.2%}; Length Accuracy {:.2%}, Dups Accuracy {:.2%}; progress {:.1%}, taken {:.0f} sec'.format(\n",
    "            epoch + 1, total_loss/batch, total_accuracy/batch, len_accu/batch, dups_accu/batch, batch/num_steps, time.time() - start), end='\\r')\n",
    "    \n",
    "    for (glyph_tensor, target, length, total_dups, curr_dups) in val_dataset:\n",
    "        t_loss, accuracy, accuracy_length, accuracy_dups = validation_step2(glyph_tensor, target, length, total_dups, curr_dups)\n",
    "        val_loss += t_loss; val_accuracy += accuracy\n",
    "        val_len_accu += accuracy_length; val_dups_accu += accuracy_dups\n",
    "   \n",
    "    # storing the epoch end loss value to plot later\n",
    "    with train_summary_writer.as_default():\n",
    "        tf.summary.scalar('loss', (total_loss / num_steps), step=epoch)\n",
    "        tf.summary.scalar('accuracy', (total_accuracy / num_steps), step=epoch)\n",
    "        tf.summary.scalar('length_accuracy', (len_accu / num_steps), step=epoch)\n",
    "        tf.summary.scalar('duplication_accuracy', (dups_accu / num_steps), step=epoch)\n",
    "    with test_summary_writer.as_default():\n",
    "        tf.summary.scalar('loss', val_loss / num_steps_val, step=epoch)\n",
    "        tf.summary.scalar('accuracy', val_accuracy / num_steps_val, step=epoch)\n",
    "        tf.summary.scalar('length_accuracy', val_len_accu / num_steps_val, step=epoch)\n",
    "        tf.summary.scalar('duplication_accuracy', val_dups_accu / num_steps_val, step=epoch)\n",
    "    \n",
    "    ckpt_manager_step2.save()\n",
    "\n",
    "    print('Epoch {}, Train Loss {:.4f}, Accuracy {:.2%}; Length Accuracy {:.2%}, Dups Accuracy {:.2%} | Validation Loss {:.4f}, Accuracy {:.2%}; Length Accuracy {:.2%}, Dups Accuracy {:.2%}; taken {:.0f} sec'.format(\n",
    "        epoch + 1, total_loss/num_steps, total_accuracy/num_steps, len_accu/num_steps, dups_accu/num_steps, \n",
    "        val_loss/num_steps_val, val_accuracy/num_steps_val, val_len_accu/num_steps_val, val_dups_accu/num_steps_val, time.time() - start))"
   ]
  },
  {
   "cell_type": "markdown",
   "metadata": {},
   "source": [
    "## Training"
   ]
  },
  {
   "cell_type": "code",
   "execution_count": 30,
   "metadata": {},
   "outputs": [],
   "source": [
    "encoder = CNN_Encoder(embedding_dim = EBD_DIM)\n",
    "simple_decoder = Simple_Decoder(embedding_dim = EBD_DIM, max_length = MAX_LEN, hidden_size = UNIT_DIM, vocab_size = VOCAB)\n",
    "length_decoder = Length_Decoder(max_length = MAX_LEN)\n",
    "dup_decoder = Length_Decoder(max_length = MAX_DUP)\n",
    "decoder = RNN_Decoder(embedding_dim=EBD_DIM, hidden_size=UNIT_DIM, max_length = MAX_LEN, vocab_size=VOCAB)"
   ]
  },
  {
   "cell_type": "code",
   "execution_count": 31,
   "metadata": {},
   "outputs": [],
   "source": [
    "# use a checkpoint to store weights\n",
    "checkpoint_path_step1 = './checkpoints/train_step1'\n",
    "ckpt_step1 = tf.train.Checkpoint(encoder=encoder, decoder=simple_decoder, length_decoder=length_decoder,\n",
    "    dup_decoder=dup_decoder, optimizer=optimizer_step1, optimizer_length=optimizer_length, optimizer_dups=optimizer_dups)\n",
    "ckpt_manager_step1 = tf.train.CheckpointManager(ckpt_step1, checkpoint_path_step1, max_to_keep=5)"
   ]
  },
  {
   "cell_type": "code",
   "execution_count": 32,
   "metadata": {},
   "outputs": [],
   "source": [
    "# use a checkpoint to store weights\n",
    "checkpoint_path_step2 = \"./checkpoints/train_step2\"\n",
    "ckpt_step2 = tf.train.Checkpoint(encoder=encoder, decoder=decoder, length_decoder=length_decoder,\n",
    "    dup_decoder=dup_decoder, optimizer=optimizer_step2, optimizer_length=optimizer_length, optimizer_dups=optimizer_dups)\n",
    "ckpt_manager_step2 = tf.train.CheckpointManager(ckpt_step2, checkpoint_path_step2, max_to_keep=5)"
   ]
  },
  {
   "cell_type": "code",
   "execution_count": 33,
   "metadata": {},
   "outputs": [],
   "source": [
    "current_time = datetime.datetime.now().strftime(\"%Y%m%d-%H%M%S\")\n",
    "train_log_dir = 'logs/gradient_tape/' + current_time + '/train'\n",
    "test_log_dir = 'logs/gradient_tape/' + current_time + '/test'\n",
    "#graph_log_dir = 'logs/gradient_tape/' + current_time + '/func'\n",
    "train_summary_writer = tf.summary.create_file_writer(train_log_dir)\n",
    "test_summary_writer = tf.summary.create_file_writer(test_log_dir)\n",
    "#graph_summary_writer = tf.summary.create_file_writer(graph_log_dir)"
   ]
  },
  {
   "cell_type": "markdown",
   "metadata": {},
   "source": [
    "### Step 1"
   ]
  },
  {
   "cell_type": "code",
   "execution_count": 34,
   "metadata": {},
   "outputs": [],
   "source": [
    "EPOCHS_STEP1 = 20\n",
    "\n",
    "epoch_step1 = 0\n",
    "if ckpt_manager_step1.latest_checkpoint:\n",
    "    epoch_step1 = int(ckpt_manager_step1.latest_checkpoint.split('-')[-1])\n",
    "    ckpt_step1.restore(ckpt_manager_step1.latest_checkpoint)"
   ]
  },
  {
   "cell_type": "code",
   "execution_count": 35,
   "metadata": {
    "scrolled": true
   },
   "outputs": [
    {
     "name": "stdout",
     "output_type": "stream",
     "text": [
      "Epoch 1, Train Loss 2.8603, Accuracy 21.24% | Validation Loss 2.4538, Accuracy 31.55%; taken 95 sec\n",
      "Epoch 2, Train Loss 2.0295, Accuracy 41.83% | Validation Loss 1.6023, Accuracy 53.01%; taken 78 sec\n",
      "Epoch 3, Train Loss 1.3774, Accuracy 59.48% | Validation Loss 1.1051, Accuracy 67.44%; taken 78 sec\n",
      "Epoch 4, Train Loss 1.0409, Accuracy 68.87% | Validation Loss 0.8828, Accuracy 73.63%; taken 78 sec\n",
      "Epoch 5, Train Loss 0.8655, Accuracy 73.80% | Validation Loss 0.7716, Accuracy 76.79%; taken 78 sec\n",
      "Epoch 6, Train Loss 0.7547, Accuracy 77.02% | Validation Loss 0.6603, Accuracy 80.20%; taken 78 sec\n",
      "Epoch 7, Train Loss 0.6806, Accuracy 79.25% | Validation Loss 0.6096, Accuracy 81.88%; taken 78 sec\n",
      "Epoch 8, Train Loss 0.6204, Accuracy 80.93% | Validation Loss 0.5709, Accuracy 82.86%; taken 78 sec\n",
      "Epoch 9, Train Loss 0.5832, Accuracy 82.00% | Validation Loss 0.5218, Accuracy 84.08%; taken 78 sec\n",
      "Epoch 10, Train Loss 0.5491, Accuracy 83.01% | Validation Loss 0.5022, Accuracy 84.88%; taken 78 sec\n",
      "Epoch 11, Train Loss 0.5224, Accuracy 83.76% | Validation Loss 0.4798, Accuracy 85.30%; taken 78 sec\n",
      "Epoch 12, Train Loss 0.4943, Accuracy 84.60% | Validation Loss 0.4772, Accuracy 85.65%; taken 78 sec\n",
      "Epoch 13, Train Loss 0.4751, Accuracy 85.14% | Validation Loss 0.4733, Accuracy 85.93%; taken 78 sec\n",
      "Epoch 14, Train Loss 0.4628, Accuracy 85.50% | Validation Loss 0.4528, Accuracy 86.16%; taken 78 sec\n",
      "Epoch 15, Train Loss 0.4457, Accuracy 86.04% | Validation Loss 0.4291, Accuracy 86.87%; taken 77 sec\n",
      "Epoch 16, Train Loss 0.4336, Accuracy 86.35% | Validation Loss 0.4266, Accuracy 86.91%; taken 78 sec\n",
      "Epoch 17, Train Loss 0.4231, Accuracy 86.64% | Validation Loss 0.4164, Accuracy 87.25%; taken 78 sec\n",
      "Epoch 18, Train Loss 0.4107, Accuracy 86.98% | Validation Loss 0.4266, Accuracy 86.87%; taken 78 sec\n",
      "Epoch 19, Train Loss 0.4012, Accuracy 87.27% | Validation Loss 0.4232, Accuracy 86.95%; taken 78 sec\n",
      "Epoch 20, Train Loss 0.3926, Accuracy 87.56% | Validation Loss 0.3881, Accuracy 88.02%; taken 77 sec\n"
     ]
    }
   ],
   "source": [
    "while epoch_step1 < EPOCHS_STEP1:\n",
    "    step1(epoch_step1)\n",
    "    epoch_step1 += 1"
   ]
  },
  {
   "cell_type": "markdown",
   "metadata": {},
   "source": [
    "### Step 2"
   ]
  },
  {
   "cell_type": "code",
   "execution_count": 36,
   "metadata": {},
   "outputs": [],
   "source": [
    "EPOCHS_STEP2 = 120\n",
    "\n",
    "epoch_step2 = 0\n",
    "if ckpt_manager_step2.latest_checkpoint:\n",
    "    epoch_step2 = int(ckpt_manager_step2.latest_checkpoint.split('-')[-1])\n",
    "    ckpt_step2.restore(ckpt_manager_step2.latest_checkpoint)"
   ]
  },
  {
   "cell_type": "code",
   "execution_count": 37,
   "metadata": {
    "scrolled": true
   },
   "outputs": [
    {
     "name": "stdout",
     "output_type": "stream",
     "text": [
      "Epoch 1, Train Loss 1.3218, Accuracy 22.16%; Length Accuracy 87.66%, Dups Accuracy 90.82% | Validation Loss 0.6127, Accuracy 49.34%; Length Accuracy 90.33%, Dups Accuracy 92.56%; taken 128 sec\n",
      "Epoch 2, Train Loss 0.4897, Accuracy 52.94%; Length Accuracy 90.63%, Dups Accuracy 93.36% | Validation Loss 0.5130, Accuracy 58.81%; Length Accuracy 90.43%, Dups Accuracy 92.79%; taken 89 sec\n",
      "Epoch 3, Train Loss 0.3894, Accuracy 60.44%; Length Accuracy 90.90%, Dups Accuracy 93.81% | Validation Loss 0.4647, Accuracy 64.24%; Length Accuracy 91.10%, Dups Accuracy 93.19%; taken 89 sec\n",
      "Epoch 4, Train Loss 0.3392, Accuracy 64.17%; Length Accuracy 91.22%, Dups Accuracy 94.07% | Validation Loss 0.5862, Accuracy 63.17%; Length Accuracy 86.30%, Dups Accuracy 93.08%; taken 89 sec\n",
      "Epoch 5, Train Loss 0.3063, Accuracy 66.86%; Length Accuracy 91.38%, Dups Accuracy 94.43% | Validation Loss 0.4750, Accuracy 68.29%; Length Accuracy 91.17%, Dups Accuracy 93.57%; taken 89 sec\n",
      "Epoch 6, Train Loss 0.2832, Accuracy 68.83%; Length Accuracy 91.66%, Dups Accuracy 94.57% | Validation Loss 0.4122, Accuracy 70.51%; Length Accuracy 92.04%, Dups Accuracy 93.69%; taken 89 sec\n",
      "Epoch 8, Train Loss 0.2507, Accuracy 71.89%; Length Accuracy 92.26%, Dups Accuracy 95.14% | Validation Loss 0.4194, Accuracy 72.88%; Length Accuracy 92.00%, Dups Accuracy 94.26%; taken 89 sec\n",
      "Epoch 9, Train Loss 0.2378, Accuracy 73.10%; Length Accuracy 92.13%, Dups Accuracy 95.20% | Validation Loss 0.4073, Accuracy 74.00%; Length Accuracy 92.07%, Dups Accuracy 94.01%; taken 89 sec\n",
      "Epoch 10, Train Loss 0.2289, Accuracy 74.05%; Length Accuracy 92.47%, Dups Accuracy 95.41% | Validation Loss 0.3969, Accuracy 73.29%; Length Accuracy 92.46%, Dups Accuracy 93.96%; taken 88 sec\n",
      "Epoch 11, Train Loss 0.2202, Accuracy 74.85%; Length Accuracy 92.68%, Dups Accuracy 95.43% | Validation Loss 0.4743, Accuracy 72.88%; Length Accuracy 90.37%, Dups Accuracy 94.06%; taken 88 sec\n",
      "Epoch 12, Train Loss 0.2081, Accuracy 75.95%; Length Accuracy 92.57%, Dups Accuracy 95.61% | Validation Loss 0.3949, Accuracy 75.48%; Length Accuracy 92.63%, Dups Accuracy 94.54%; taken 89 sec\n",
      "Epoch 13, Train Loss 0.2031, Accuracy 76.42%; Length Accuracy 92.92%, Dups Accuracy 95.81% | Validation Loss 0.4668, Accuracy 74.71%; Length Accuracy 91.05%, Dups Accuracy 94.82%; taken 88 sec\n",
      "Epoch 14, Train Loss 0.1957, Accuracy 77.17%; Length Accuracy 93.08%, Dups Accuracy 95.94% | Validation Loss 0.4298, Accuracy 75.31%; Length Accuracy 92.18%, Dups Accuracy 94.45%; taken 89 sec\n",
      "Epoch 15, Train Loss 0.1906, Accuracy 77.51%; Length Accuracy 93.22%, Dups Accuracy 96.04% | Validation Loss 0.3752, Accuracy 76.85%; Length Accuracy 93.00%, Dups Accuracy 94.67%; taken 88 sec\n",
      "Epoch 16, Train Loss 0.1853, Accuracy 78.10%; Length Accuracy 93.15%, Dups Accuracy 96.07% | Validation Loss 0.3785, Accuracy 77.54%; Length Accuracy 93.40%, Dups Accuracy 95.02%; taken 88 sec\n",
      "Epoch 17, Train Loss 0.1808, Accuracy 78.71%; Length Accuracy 93.40%, Dups Accuracy 96.22% | Validation Loss 0.3664, Accuracy 77.82%; Length Accuracy 93.11%, Dups Accuracy 95.01%; taken 89 sec\n",
      "Epoch 18, Train Loss 0.1747, Accuracy 79.35%; Length Accuracy 93.50%, Dups Accuracy 96.34% | Validation Loss 0.3710, Accuracy 77.98%; Length Accuracy 93.21%, Dups Accuracy 94.84%; taken 88 sec\n",
      "Epoch 19, Train Loss 0.1733, Accuracy 79.30%; Length Accuracy 93.63%, Dups Accuracy 96.42% | Validation Loss 0.4055, Accuracy 77.75%; Length Accuracy 91.67%, Dups Accuracy 94.83%; taken 89 sec\n",
      "Epoch 20, Train Loss 0.1678, Accuracy 79.96%; Length Accuracy 93.61%, Dups Accuracy 96.44% | Validation Loss 0.3672, Accuracy 78.60%; Length Accuracy 93.32%, Dups Accuracy 95.40%; taken 89 sec\n",
      "Epoch 21, Train Loss 0.1626, Accuracy 80.51%; Length Accuracy 93.74%, Dups Accuracy 96.62% | Validation Loss 0.4787, Accuracy 76.55%; Length Accuracy 91.89%, Dups Accuracy 95.44%; taken 89 sec\n",
      "Epoch 22, Train Loss 0.1591, Accuracy 80.79%; Length Accuracy 93.86%, Dups Accuracy 96.66% | Validation Loss 0.4199, Accuracy 77.17%; Length Accuracy 92.67%, Dups Accuracy 95.50%; taken 89 sec\n",
      "Epoch 23, Train Loss 0.1553, Accuracy 81.41%; Length Accuracy 94.03%, Dups Accuracy 96.84% | Validation Loss 0.4819, Accuracy 76.41%; Length Accuracy 90.57%, Dups Accuracy 95.53%; taken 89 sec\n",
      "Epoch 24, Train Loss 0.1550, Accuracy 81.14%; Length Accuracy 93.78%, Dups Accuracy 96.74% | Validation Loss 0.3942, Accuracy 78.65%; Length Accuracy 93.03%, Dups Accuracy 95.43%; taken 88 sec\n",
      "Epoch 25, Train Loss 0.1508, Accuracy 81.72%; Length Accuracy 94.09%, Dups Accuracy 96.86% | Validation Loss 0.3658, Accuracy 79.80%; Length Accuracy 93.13%, Dups Accuracy 95.68%; taken 89 sec\n",
      "Epoch 26, Train Loss 0.1446, Accuracy 82.37%; Length Accuracy 94.22%, Dups Accuracy 96.96% | Validation Loss 0.4072, Accuracy 79.29%; Length Accuracy 93.06%, Dups Accuracy 95.82%; taken 89 sec\n",
      "Epoch 27, Train Loss 0.1455, Accuracy 82.21%; Length Accuracy 94.18%, Dups Accuracy 97.05% | Validation Loss 0.4115, Accuracy 78.58%; Length Accuracy 92.52%, Dups Accuracy 95.34%; taken 89 sec\n",
      "Epoch 28, Train Loss 0.1441, Accuracy 82.71%; Length Accuracy 94.37%, Dups Accuracy 97.01% | Validation Loss 0.4088, Accuracy 79.93%; Length Accuracy 93.44%, Dups Accuracy 95.93%; taken 88 sec\n",
      "Epoch 29, Train Loss 0.1409, Accuracy 82.77%; Length Accuracy 94.21%, Dups Accuracy 97.02% | Validation Loss 0.3854, Accuracy 79.63%; Length Accuracy 93.53%, Dups Accuracy 95.58%; taken 88 sec\n",
      "Epoch 30, Train Loss 0.1345, Accuracy 83.45%; Length Accuracy 94.40%, Dups Accuracy 97.26% | Validation Loss 0.3990, Accuracy 79.89%; Length Accuracy 93.51%, Dups Accuracy 95.86%; taken 89 sec\n",
      "Epoch 31, Train Loss 0.1339, Accuracy 83.54%; Length Accuracy 94.37%, Dups Accuracy 97.22% | Validation Loss 0.4005, Accuracy 80.71%; Length Accuracy 93.06%, Dups Accuracy 95.87%; taken 89 sec\n",
      "Epoch 32, Train Loss 0.1323, Accuracy 83.79%; Length Accuracy 94.51%, Dups Accuracy 97.38% | Validation Loss 0.4553, Accuracy 78.94%; Length Accuracy 91.06%, Dups Accuracy 95.95%; taken 89 sec\n",
      "Epoch 33, Train Loss 0.1303, Accuracy 84.05%; Length Accuracy 94.45%, Dups Accuracy 97.29% | Validation Loss 0.3685, Accuracy 80.57%; Length Accuracy 93.56%, Dups Accuracy 95.92%; taken 88 sec\n",
      "Epoch 34, Train Loss 0.1313, Accuracy 83.95%; Length Accuracy 94.37%, Dups Accuracy 97.27% | Validation Loss 0.4297, Accuracy 79.78%; Length Accuracy 91.94%, Dups Accuracy 96.15%; taken 88 sec\n",
      "Epoch 35, Train Loss 0.1261, Accuracy 84.36%; Length Accuracy 94.57%, Dups Accuracy 97.36% | Validation Loss 0.3755, Accuracy 81.55%; Length Accuracy 93.63%, Dups Accuracy 95.96%; taken 88 sec\n",
      "Epoch 36, Train Loss 0.1243, Accuracy 84.71%; Length Accuracy 94.64%, Dups Accuracy 97.40% | Validation Loss 0.3575, Accuracy 81.63%; Length Accuracy 93.91%, Dups Accuracy 96.26%; taken 88 sec\n",
      "Epoch 37, Train Loss 0.1228, Accuracy 84.76%; Length Accuracy 94.67%, Dups Accuracy 97.47% | Validation Loss 0.3639, Accuracy 81.67%; Length Accuracy 94.36%, Dups Accuracy 96.19%; taken 88 sec\n",
      "Epoch 38, Train Loss 0.1199, Accuracy 85.25%; Length Accuracy 94.90%, Dups Accuracy 97.59% | Validation Loss 0.4995, Accuracy 78.96%; Length Accuracy 91.37%, Dups Accuracy 96.11%; taken 88 sec\n",
      "Epoch 39, Train Loss 0.1212, Accuracy 85.16%; Length Accuracy 94.74%, Dups Accuracy 97.57% | Validation Loss 0.4927, Accuracy 78.71%; Length Accuracy 89.77%, Dups Accuracy 96.37%; taken 88 sec\n",
      "Epoch 40, Train Loss 0.1161, Accuracy 85.49%; Length Accuracy 94.83%, Dups Accuracy 97.62% | Validation Loss 0.3796, Accuracy 81.67%; Length Accuracy 93.55%, Dups Accuracy 96.17%; taken 88 sec\n",
      "Epoch 41, Train Loss 0.1133, Accuracy 85.74%; Length Accuracy 94.90%, Dups Accuracy 97.70% | Validation Loss 0.4010, Accuracy 81.13%; Length Accuracy 93.44%, Dups Accuracy 96.17%; taken 88 sec\n",
      "Epoch 42, Train Loss 0.1142, Accuracy 85.64%; Length Accuracy 94.91%, Dups Accuracy 97.72% | Validation Loss 0.3775, Accuracy 82.02%; Length Accuracy 93.57%, Dups Accuracy 96.47%; taken 88 sec\n",
      "Epoch 43, Train Loss 0.1128, Accuracy 86.06%; Length Accuracy 95.05%, Dups Accuracy 97.78% | Validation Loss 0.3598, Accuracy 82.05%; Length Accuracy 94.30%, Dups Accuracy 96.40%; taken 88 sec\n",
      "Epoch 44, Train Loss 0.1103, Accuracy 86.23%; Length Accuracy 95.19%, Dups Accuracy 97.72% | Validation Loss 0.4067, Accuracy 81.03%; Length Accuracy 92.55%, Dups Accuracy 96.69%; taken 88 sec\n",
      "Epoch 45, Train Loss 0.1099, Accuracy 86.45%; Length Accuracy 95.04%, Dups Accuracy 97.79% | Validation Loss 0.3909, Accuracy 81.72%; Length Accuracy 93.82%, Dups Accuracy 96.62%; taken 89 sec\n",
      "Epoch 46, Train Loss 0.1084, Accuracy 86.54%; Length Accuracy 95.14%, Dups Accuracy 97.85% | Validation Loss 0.3607, Accuracy 82.47%; Length Accuracy 94.30%, Dups Accuracy 96.60%; taken 88 sec\n",
      "Epoch 47, Train Loss 0.1076, Accuracy 86.72%; Length Accuracy 95.22%, Dups Accuracy 97.91% | Validation Loss 0.3972, Accuracy 82.04%; Length Accuracy 93.78%, Dups Accuracy 96.73%; taken 88 sec\n",
      "Epoch 48, Train Loss 0.1067, Accuracy 86.78%; Length Accuracy 95.30%, Dups Accuracy 97.95% | Validation Loss 0.5700, Accuracy 79.42%; Length Accuracy 90.86%, Dups Accuracy 96.61%; taken 88 sec\n",
      "Epoch 49, Train Loss 0.1083, Accuracy 86.43%; Length Accuracy 95.09%, Dups Accuracy 97.87% | Validation Loss 0.4132, Accuracy 81.95%; Length Accuracy 92.96%, Dups Accuracy 96.56%; taken 88 sec\n",
      "Epoch 50, Train Loss 0.1026, Accuracy 87.26%; Length Accuracy 95.30%, Dups Accuracy 97.98% | Validation Loss 0.4269, Accuracy 81.32%; Length Accuracy 92.52%, Dups Accuracy 96.84%; taken 88 sec\n",
      "Epoch 51, Train Loss 0.1001, Accuracy 87.44%; Length Accuracy 95.40%, Dups Accuracy 98.00% | Validation Loss 0.3856, Accuracy 81.98%; Length Accuracy 94.10%, Dups Accuracy 96.62%; taken 88 sec\n",
      "Epoch 52, Train Loss 0.1027, Accuracy 87.19%; Length Accuracy 95.28%, Dups Accuracy 98.02% | Validation Loss 0.4132, Accuracy 81.43%; Length Accuracy 93.17%, Dups Accuracy 96.53%; taken 89 sec\n",
      "Epoch 53, Train Loss 0.1005, Accuracy 87.40%; Length Accuracy 95.38%, Dups Accuracy 98.05% | Validation Loss 0.4429, Accuracy 81.45%; Length Accuracy 91.28%, Dups Accuracy 96.94%; taken 88 sec\n",
      "Epoch 54, Train Loss 0.0965, Accuracy 87.94%; Length Accuracy 95.38%, Dups Accuracy 98.12% | Validation Loss 0.3847, Accuracy 82.84%; Length Accuracy 94.00%, Dups Accuracy 96.25%; taken 88 sec\n",
      "Epoch 55, Train Loss 0.0967, Accuracy 88.06%; Length Accuracy 95.54%, Dups Accuracy 98.18% | Validation Loss 0.3816, Accuracy 82.48%; Length Accuracy 93.65%, Dups Accuracy 96.63%; taken 88 sec\n",
      "Epoch 56, Train Loss 0.0952, Accuracy 88.06%; Length Accuracy 95.44%, Dups Accuracy 98.15% | Validation Loss 0.3863, Accuracy 83.37%; Length Accuracy 93.80%, Dups Accuracy 96.85%; taken 88 sec\n",
      "Epoch 57, Train Loss 0.0930, Accuracy 88.05%; Length Accuracy 95.36%, Dups Accuracy 98.12% | Validation Loss 0.3731, Accuracy 83.83%; Length Accuracy 94.24%, Dups Accuracy 96.95%; taken 88 sec\n",
      "Epoch 58, Train Loss 0.0944, Accuracy 88.25%; Length Accuracy 95.50%, Dups Accuracy 98.19% | Validation Loss 0.4081, Accuracy 83.21%; Length Accuracy 93.39%, Dups Accuracy 97.00%; taken 89 sec\n",
      "Epoch 59, Train Loss 0.0927, Accuracy 88.47%; Length Accuracy 95.62%, Dups Accuracy 98.23% | Validation Loss 0.3651, Accuracy 83.59%; Length Accuracy 94.44%, Dups Accuracy 97.02%; taken 89 sec\n",
      "Epoch 60, Train Loss 0.0889, Accuracy 88.81%; Length Accuracy 95.63%, Dups Accuracy 98.22% | Validation Loss 0.3778, Accuracy 83.48%; Length Accuracy 94.40%, Dups Accuracy 96.67%; taken 88 sec\n",
      "Epoch 61, Train Loss 0.3093, Accuracy 78.51%; Length Accuracy 93.81%, Dups Accuracy 96.85% | Validation Loss 0.2171, Accuracy 81.89%; Length Accuracy 94.73%, Dups Accuracy 96.59%; taken 113 sec\n",
      "Epoch 62, Train Loss 0.1917, Accuracy 86.33%; Length Accuracy 95.77%, Dups Accuracy 97.96% | Validation Loss 0.1986, Accuracy 83.52%; Length Accuracy 94.58%, Dups Accuracy 96.87%; taken 90 sec\n",
      "Epoch 63, Train Loss 0.1701, Accuracy 87.65%; Length Accuracy 96.13%, Dups Accuracy 98.29% | Validation Loss 0.2122, Accuracy 83.07%; Length Accuracy 94.52%, Dups Accuracy 96.84%; taken 89 sec\n",
      "Epoch 64, Train Loss 0.1604, Accuracy 88.22%; Length Accuracy 96.32%, Dups Accuracy 98.42% | Validation Loss 0.1991, Accuracy 83.58%; Length Accuracy 94.17%, Dups Accuracy 96.89%; taken 89 sec\n",
      "Epoch 65, Train Loss 0.1522, Accuracy 89.00%; Length Accuracy 96.47%, Dups Accuracy 98.41% | Validation Loss 0.2069, Accuracy 83.04%; Length Accuracy 93.26%, Dups Accuracy 96.92%; taken 89 sec\n",
      "Epoch 66, Train Loss 0.1504, Accuracy 89.09%; Length Accuracy 96.60%, Dups Accuracy 98.40% | Validation Loss 0.1902, Accuracy 85.29%; Length Accuracy 95.08%, Dups Accuracy 97.21%; taken 89 sec\n",
      "Epoch 67, Train Loss 0.1428, Accuracy 89.61%; Length Accuracy 96.77%, Dups Accuracy 98.38% | Validation Loss 0.1888, Accuracy 85.38%; Length Accuracy 94.69%, Dups Accuracy 97.05%; taken 89 sec\n",
      "Epoch 68, Train Loss 0.1489, Accuracy 89.21%; Length Accuracy 96.61%, Dups Accuracy 98.39% | Validation Loss 0.2028, Accuracy 83.69%; Length Accuracy 94.26%, Dups Accuracy 97.11%; taken 89 sec\n",
      "Epoch 69, Train Loss 0.1485, Accuracy 89.23%; Length Accuracy 96.64%, Dups Accuracy 98.46% | Validation Loss 0.2021, Accuracy 84.20%; Length Accuracy 94.53%, Dups Accuracy 96.79%; taken 89 sec\n",
      "Epoch 70, Train Loss 0.1481, Accuracy 89.24%; Length Accuracy 96.68%, Dups Accuracy 98.46% | Validation Loss 0.1903, Accuracy 84.68%; Length Accuracy 94.70%, Dups Accuracy 97.13%; taken 89 sec\n",
      "Epoch 71, Train Loss 0.1413, Accuracy 89.64%; Length Accuracy 96.86%, Dups Accuracy 98.53% | Validation Loss 0.1941, Accuracy 84.09%; Length Accuracy 94.58%, Dups Accuracy 97.10%; taken 89 sec\n",
      "Epoch 72, Train Loss 0.1408, Accuracy 89.81%; Length Accuracy 96.88%, Dups Accuracy 98.57% | Validation Loss 0.1876, Accuracy 85.09%; Length Accuracy 95.11%, Dups Accuracy 97.06%; taken 89 sec\n",
      "Epoch 73, Train Loss 0.1357, Accuracy 90.04%; Length Accuracy 96.97%, Dups Accuracy 98.57% | Validation Loss 0.1881, Accuracy 85.03%; Length Accuracy 95.07%, Dups Accuracy 97.17%; taken 89 sec\n",
      "Epoch 74, Train Loss 0.1361, Accuracy 90.22%; Length Accuracy 97.05%, Dups Accuracy 98.64% | Validation Loss 0.1853, Accuracy 85.20%; Length Accuracy 94.90%, Dups Accuracy 97.20%; taken 89 sec\n",
      "Epoch 75, Train Loss 0.1444, Accuracy 89.43%; Length Accuracy 96.80%, Dups Accuracy 98.61% | Validation Loss 0.1964, Accuracy 84.49%; Length Accuracy 94.81%, Dups Accuracy 97.21%; taken 89 sec\n",
      "Epoch 76, Train Loss 0.1372, Accuracy 89.86%; Length Accuracy 97.05%, Dups Accuracy 98.63% | Validation Loss 0.1878, Accuracy 84.89%; Length Accuracy 94.86%, Dups Accuracy 97.19%; taken 89 sec\n",
      "Epoch 77, Train Loss 0.1280, Accuracy 90.54%; Length Accuracy 97.10%, Dups Accuracy 98.78% | Validation Loss 0.1992, Accuracy 84.32%; Length Accuracy 93.82%, Dups Accuracy 97.07%; taken 89 sec\n",
      "Epoch 78, Train Loss 0.1354, Accuracy 90.13%; Length Accuracy 97.12%, Dups Accuracy 98.60% | Validation Loss 0.2007, Accuracy 84.87%; Length Accuracy 94.51%, Dups Accuracy 97.22%; taken 89 sec\n",
      "Epoch 79, Train Loss 0.1269, Accuracy 90.77%; Length Accuracy 97.25%, Dups Accuracy 98.79% | Validation Loss 0.2022, Accuracy 85.15%; Length Accuracy 94.22%, Dups Accuracy 97.19%; taken 89 sec\n",
      "Epoch 80, Train Loss 0.1282, Accuracy 90.74%; Length Accuracy 97.19%, Dups Accuracy 98.78% | Validation Loss 0.1802, Accuracy 85.70%; Length Accuracy 95.30%, Dups Accuracy 97.32%; taken 89 sec\n",
      "Epoch 81, Train Loss 0.1274, Accuracy 90.76%; Length Accuracy 97.20%, Dups Accuracy 98.77% | Validation Loss 0.1917, Accuracy 85.23%; Length Accuracy 95.30%, Dups Accuracy 97.45%; taken 89 sec\n",
      "Epoch 82, Train Loss 0.1215, Accuracy 91.24%; Length Accuracy 97.28%, Dups Accuracy 98.87% | Validation Loss 0.1927, Accuracy 85.23%; Length Accuracy 94.63%, Dups Accuracy 97.30%; taken 89 sec\n",
      "Epoch 83, Train Loss 0.1322, Accuracy 90.44%; Length Accuracy 97.03%, Dups Accuracy 98.75% | Validation Loss 0.1902, Accuracy 85.84%; Length Accuracy 95.15%, Dups Accuracy 97.53%; taken 89 sec\n",
      "Epoch 84, Train Loss 0.1280, Accuracy 90.73%; Length Accuracy 97.20%, Dups Accuracy 98.78% | Validation Loss 0.1899, Accuracy 85.57%; Length Accuracy 94.34%, Dups Accuracy 97.45%; taken 89 sec\n",
      "Epoch 85, Train Loss 0.1229, Accuracy 91.03%; Length Accuracy 97.34%, Dups Accuracy 98.81% | Validation Loss 0.1943, Accuracy 85.07%; Length Accuracy 94.63%, Dups Accuracy 97.48%; taken 89 sec\n",
      "Epoch 86, Train Loss 0.1182, Accuracy 91.55%; Length Accuracy 97.47%, Dups Accuracy 98.94% | Validation Loss 0.2009, Accuracy 84.84%; Length Accuracy 93.72%, Dups Accuracy 97.23%; taken 89 sec\n",
      "Epoch 87, Train Loss 0.1229, Accuracy 91.11%; Length Accuracy 97.40%, Dups Accuracy 98.85% | Validation Loss 0.2093, Accuracy 84.05%; Length Accuracy 93.40%, Dups Accuracy 97.32%; taken 89 sec\n",
      "Epoch 88, Train Loss 0.1159, Accuracy 91.76%; Length Accuracy 97.51%, Dups Accuracy 98.95% | Validation Loss 0.1933, Accuracy 85.25%; Length Accuracy 94.45%, Dups Accuracy 97.42%; taken 89 sec\n",
      "Epoch 89, Train Loss 0.1164, Accuracy 91.64%; Length Accuracy 97.56%, Dups Accuracy 98.92% | Validation Loss 0.1991, Accuracy 85.17%; Length Accuracy 94.42%, Dups Accuracy 97.40%; taken 89 sec\n",
      "Epoch 90, Train Loss 0.1208, Accuracy 91.30%; Length Accuracy 97.41%, Dups Accuracy 98.81% | Validation Loss 0.1865, Accuracy 85.49%; Length Accuracy 95.05%, Dups Accuracy 97.56%; taken 89 sec\n",
      "Epoch 91, Train Loss 0.1157, Accuracy 91.70%; Length Accuracy 97.53%, Dups Accuracy 98.93% | Validation Loss 0.1827, Accuracy 85.89%; Length Accuracy 95.27%, Dups Accuracy 97.71%; taken 89 sec\n",
      "Epoch 92, Train Loss 0.1219, Accuracy 91.20%; Length Accuracy 97.33%, Dups Accuracy 98.89% | Validation Loss 0.1865, Accuracy 85.54%; Length Accuracy 95.21%, Dups Accuracy 97.46%; taken 89 sec\n",
      "Epoch 93, Train Loss 0.1133, Accuracy 91.81%; Length Accuracy 97.50%, Dups Accuracy 98.99% | Validation Loss 0.1882, Accuracy 86.03%; Length Accuracy 95.07%, Dups Accuracy 97.49%; taken 89 sec\n",
      "Epoch 94, Train Loss 0.1092, Accuracy 92.13%; Length Accuracy 97.61%, Dups Accuracy 99.06% | Validation Loss 0.1883, Accuracy 86.30%; Length Accuracy 95.19%, Dups Accuracy 97.62%; taken 89 sec\n",
      "Epoch 95, Train Loss 0.1088, Accuracy 92.18%; Length Accuracy 97.71%, Dups Accuracy 99.03% | Validation Loss 0.1938, Accuracy 86.18%; Length Accuracy 95.09%, Dups Accuracy 97.81%; taken 89 sec\n",
      "Epoch 96, Train Loss 0.1231, Accuracy 91.19%; Length Accuracy 97.45%, Dups Accuracy 98.91% | Validation Loss 0.1871, Accuracy 85.91%; Length Accuracy 94.99%, Dups Accuracy 97.64%; taken 89 sec\n",
      "Epoch 97, Train Loss 0.1066, Accuracy 92.42%; Length Accuracy 97.78%, Dups Accuracy 99.07% | Validation Loss 0.1891, Accuracy 85.52%; Length Accuracy 94.99%, Dups Accuracy 97.84%; taken 89 sec\n",
      "Epoch 98, Train Loss 0.1060, Accuracy 92.25%; Length Accuracy 97.72%, Dups Accuracy 99.06% | Validation Loss 0.1927, Accuracy 85.65%; Length Accuracy 95.34%, Dups Accuracy 97.31%; taken 89 sec\n",
      "Epoch 99, Train Loss 0.1080, Accuracy 92.31%; Length Accuracy 97.68%, Dups Accuracy 99.01% | Validation Loss 0.1937, Accuracy 86.13%; Length Accuracy 95.43%, Dups Accuracy 97.65%; taken 89 sec\n",
      "Epoch 100, Train Loss 0.1085, Accuracy 92.28%; Length Accuracy 97.77%, Dups Accuracy 99.14% | Validation Loss 0.1855, Accuracy 86.18%; Length Accuracy 94.89%, Dups Accuracy 97.59%; taken 89 sec\n",
      "Epoch 101, Train Loss 0.1057, Accuracy 92.40%; Length Accuracy 97.84%, Dups Accuracy 99.09% | Validation Loss 0.1933, Accuracy 85.02%; Length Accuracy 94.20%, Dups Accuracy 97.62%; taken 89 sec\n",
      "Epoch 102, Train Loss 0.1047, Accuracy 92.35%; Length Accuracy 97.74%, Dups Accuracy 99.11% | Validation Loss 0.1859, Accuracy 86.73%; Length Accuracy 95.32%, Dups Accuracy 97.56%; taken 89 sec\n",
      "Epoch 103, Train Loss 0.1062, Accuracy 92.45%; Length Accuracy 97.87%, Dups Accuracy 99.07% | Validation Loss 0.1981, Accuracy 85.78%; Length Accuracy 94.84%, Dups Accuracy 97.80%; taken 89 sec\n",
      "Epoch 105, Train Loss 0.1025, Accuracy 92.74%; Length Accuracy 97.85%, Dups Accuracy 99.12% | Validation Loss 0.1802, Accuracy 86.81%; Length Accuracy 95.74%, Dups Accuracy 97.50%; taken 89 sec\n",
      "Epoch 106, Train Loss 0.1059, Accuracy 92.53%; Length Accuracy 97.74%, Dups Accuracy 99.10% | Validation Loss 0.1875, Accuracy 86.23%; Length Accuracy 95.68%, Dups Accuracy 97.40%; taken 89 sec\n",
      "Epoch 107, Train Loss 0.1000, Accuracy 92.97%; Length Accuracy 97.95%, Dups Accuracy 99.22% | Validation Loss 0.1881, Accuracy 86.17%; Length Accuracy 95.42%, Dups Accuracy 97.92%; taken 89 sec\n",
      "Epoch 108, Train Loss 0.1049, Accuracy 92.54%; Length Accuracy 97.83%, Dups Accuracy 99.16% | Validation Loss 0.1775, Accuracy 86.70%; Length Accuracy 95.33%, Dups Accuracy 97.60%; taken 89 sec\n",
      "Epoch 109, Train Loss 0.1267, Accuracy 91.09%; Length Accuracy 97.44%, Dups Accuracy 98.86% | Validation Loss 0.2958, Accuracy 76.99%; Length Accuracy 91.06%, Dups Accuracy 96.95%; taken 89 sec\n",
      "Epoch 110, Train Loss 0.1135, Accuracy 91.93%; Length Accuracy 97.66%, Dups Accuracy 98.99% | Validation Loss 0.1886, Accuracy 85.91%; Length Accuracy 95.19%, Dups Accuracy 97.78%; taken 89 sec\n",
      "Epoch 111, Train Loss 0.0955, Accuracy 93.22%; Length Accuracy 98.05%, Dups Accuracy 99.22% | Validation Loss 0.1817, Accuracy 86.03%; Length Accuracy 95.26%, Dups Accuracy 97.79%; taken 89 sec\n",
      "Epoch 112, Train Loss 0.0945, Accuracy 93.24%; Length Accuracy 97.99%, Dups Accuracy 99.30% | Validation Loss 0.1762, Accuracy 87.18%; Length Accuracy 96.03%, Dups Accuracy 97.80%; taken 89 sec\n",
      "Epoch 113, Train Loss 0.0945, Accuracy 93.26%; Length Accuracy 98.00%, Dups Accuracy 99.28% | Validation Loss 0.1830, Accuracy 86.79%; Length Accuracy 95.18%, Dups Accuracy 97.97%; taken 89 sec\n",
      "Epoch 114, Train Loss 0.0933, Accuracy 93.43%; Length Accuracy 98.04%, Dups Accuracy 99.32% | Validation Loss 0.1962, Accuracy 85.58%; Length Accuracy 94.65%, Dups Accuracy 97.76%; taken 89 sec\n",
      "Epoch 115, Train Loss 0.0936, Accuracy 93.48%; Length Accuracy 98.00%, Dups Accuracy 99.19% | Validation Loss 0.1929, Accuracy 86.93%; Length Accuracy 95.26%, Dups Accuracy 97.59%; taken 89 sec\n",
      "Epoch 116, Train Loss 0.0967, Accuracy 93.13%; Length Accuracy 97.97%, Dups Accuracy 99.21% | Validation Loss 0.1840, Accuracy 87.29%; Length Accuracy 95.57%, Dups Accuracy 97.54%; taken 89 sec\n",
      "Epoch 117, Train Loss 0.1003, Accuracy 92.92%; Length Accuracy 97.92%, Dups Accuracy 99.22% | Validation Loss 0.1861, Accuracy 87.33%; Length Accuracy 95.77%, Dups Accuracy 97.84%; taken 89 sec\n",
      "Epoch 118, Train Loss 0.0957, Accuracy 93.36%; Length Accuracy 98.05%, Dups Accuracy 99.23% | Validation Loss 0.1951, Accuracy 86.50%; Length Accuracy 94.83%, Dups Accuracy 97.75%; taken 89 sec\n",
      "Epoch 119, Train Loss 0.0971, Accuracy 93.27%; Length Accuracy 98.12%, Dups Accuracy 99.26% | Validation Loss 0.1934, Accuracy 86.12%; Length Accuracy 94.96%, Dups Accuracy 97.51%; taken 89 sec\n",
      "Epoch 120, Train Loss 0.0979, Accuracy 93.11%; Length Accuracy 97.93%, Dups Accuracy 99.22% | Validation Loss 0.2003, Accuracy 85.69%; Length Accuracy 94.69%, Dups Accuracy 97.73%; taken 89 sec\n"
     ]
    }
   ],
   "source": [
    "while epoch_step2 < EPOCHS_STEP2:\n",
    "    if epoch_step2 < EPOCHS_STEP2 // 2:\n",
    "        step2(epoch_step2)\n",
    "    else:\n",
    "        step2(epoch_step2, teacher_forcing=False)\n",
    "    epoch_step2 += 1"
   ]
  },
  {
   "cell_type": "markdown",
   "metadata": {},
   "source": [
    "## Testing"
   ]
  },
  {
   "cell_type": "markdown",
   "metadata": {},
   "source": [
    "### Whether prediction probability a good indicator of correctness?"
   ]
  },
  {
   "cell_type": "code",
   "execution_count": 38,
   "metadata": {},
   "outputs": [],
   "source": [
    "@tf.function\n",
    "def correctness_probs(glyph_tensor, target, length, total_dups, curr_dups):\n",
    "    features = encoder(glyph_tensor, training=False)\n",
    "    dups_pred = tf.nn.softmax(dup_decoder(features), axis=-1)\n",
    "    length_pred = tf.nn.softmax(length_decoder(features, d_t=dups_pred, d_c=curr_dups), axis=-1)\n",
    "\n",
    "    # calculate accuracy based on the code's whole string\n",
    "    predictions_id, probabilities = predict(features, MAX_LEN, length_pred, dups_pred, curr_dups)\n",
    "    correctness = tf.math.reduce_all(predictions_id == target, 1)\n",
    "    true_probs = tf.boolean_mask(probabilities, correctness)\n",
    "    false_probs = tf.boolean_mask(probabilities, tf.math.logical_not(correctness))\n",
    "    \n",
    "    return true_probs, false_probs"
   ]
  },
  {
   "cell_type": "code",
   "execution_count": 39,
   "metadata": {},
   "outputs": [],
   "source": [
    "correct_probs = np.array([])\n",
    "wrong_probs = np.array([])\n",
    "for (glyph_tensor, target, length, total_dups, curr_dups) in val_dataset:\n",
    "    t_p, f_p = correctness_probs(glyph_tensor, target, length, total_dups, curr_dups)\n",
    "    correct_probs = np.append(correct_probs, t_p.numpy())\n",
    "    wrong_probs = np.append(wrong_probs, f_p.numpy())"
   ]
  },
  {
   "cell_type": "code",
   "execution_count": 40,
   "metadata": {},
   "outputs": [
    {
     "name": "stdout",
     "output_type": "stream",
     "text": [
      "10th percentile: correct predictions 84.82%, wrong predictions 28.65%\n",
      "20th percentile: correct predictions 95.11%, wrong predictions 39.88%\n",
      "30th percentile: correct predictions 97.69%, wrong predictions 48.79%\n",
      "40th percentile: correct predictions 98.71%, wrong predictions 55.86%\n",
      "50th percentile: correct predictions 99.20%, wrong predictions 64.77%\n",
      "60th percentile: correct predictions 99.49%, wrong predictions 73.52%\n",
      "70th percentile: correct predictions 99.69%, wrong predictions 81.87%\n",
      "80th percentile: correct predictions 99.82%, wrong predictions 90.05%\n",
      "90th percentile: correct predictions 99.90%, wrong predictions 97.07%\n"
     ]
    }
   ],
   "source": [
    "for i in range(1, 10):\n",
    "    print('{}th percentile: correct predictions {:.2%}, wrong predictions {:.2%}'.format(\n",
    "        10*i, np.percentile(correct_probs, 10*i), np.percentile(wrong_probs, 10*i)))"
   ]
  },
  {
   "cell_type": "markdown",
   "metadata": {},
   "source": [
    "### Have a look at the actual use"
   ]
  },
  {
   "cell_type": "code",
   "execution_count": 41,
   "metadata": {},
   "outputs": [],
   "source": [
    "@tf.function\n",
    "def test(glyph):\n",
    "    features = encoder(glyph, training=False)\n",
    "    total_dups = tf.nn.softmax(dup_decoder(features), axis=-1)\n",
    "    dups_dict = tf.math.argmax(total_dups, axis=-1)\n",
    "    max_dup = tf.math.reduce_max(dups_dict) + 1\n",
    "    \n",
    "    results = tf.zeros((glyph.shape[0], max_dup, MAX_LEN + 1), dtype='int64')\n",
    "    probs = tf.zeros((glyph.shape[0], max_dup), dtype='float32')\n",
    "    identity_matrix = tf.convert_to_tensor(np.identity(MAX_DUP), dtype='int64')\n",
    "    \n",
    "    for i in range(max_dup):\n",
    "        curr_dups = tf.math.minimum(tf.math.argmax(total_dups, axis=-1), i)\n",
    "        curr_dups = tf.nn.embedding_lookup(identity_matrix, curr_dups)\n",
    "        length = tf.nn.softmax(length_decoder(features, total_dups, curr_dups), axis=-1)\n",
    "        test_result, prob = predict(features, MAX_LEN, length, total_dups, curr_dups)\n",
    "        results = tf.concat([results[:, :i, :], tf.expand_dims(test_result, axis=1), tf.zeros((glyph.shape[0], max_dup - i - 1, MAX_LEN + 1), dtype='int64')], axis=1)\n",
    "        probs = tf.concat([probs[:, :i], tf.expand_dims(prob, axis=1), tf.zeros((glyph.shape[0], max_dup - i - 1), dtype='float32')], axis=1)\n",
    "    return results, probs, dups_dict"
   ]
  },
  {
   "cell_type": "code",
   "execution_count": 42,
   "metadata": {},
   "outputs": [],
   "source": [
    "def evaluate(word):\n",
    "    test_input = []\n",
    "    for char in word:\n",
    "        glyph = glyphbook.draw(char)\n",
    "        if glyph is not None:\n",
    "            test_input.append(glyph)\n",
    "        else:\n",
    "            raise ValueError('Character {} unsupported.'.format(char))\n",
    "    test_input = np.expand_dims(test_input, -1)\n",
    "    \n",
    "    def decode(indexes):\n",
    "        code = ''\n",
    "        for i in indexes:\n",
    "            if i <= 0:\n",
    "                continue\n",
    "            elif i >= 27:\n",
    "                break\n",
    "            else:\n",
    "                code += chr(i + 96)\n",
    "        return code\n",
    "    \n",
    "    results, probs, dups_dict = test(test_input)\n",
    "    results = results.numpy()\n",
    "    probs = probs.numpy()\n",
    "    dups_dict = dups_dict.numpy()\n",
    "    \n",
    "    final_result = []\n",
    "    for i in range(results.shape[0]):\n",
    "        final_result.append([])\n",
    "        for j in range(results.shape[1]):\n",
    "            if j <= dups_dict[i]:\n",
    "                final_result[-1].append([decode(results[i, j, :]), probs[i, j]])\n",
    "    \n",
    "    return final_result"
   ]
  },
  {
   "cell_type": "code",
   "execution_count": 43,
   "metadata": {},
   "outputs": [
    {
     "data": {
      "text/plain": [
       "[[['omm', 0.9523368]],\n",
       " [['tghi', 0.8739416]],\n",
       " [['iftwt', 0.99626595], ['mftwt', 0.99561006]],\n",
       " [['ora', 0.98931175]],\n",
       " [['oymr', 0.99481773]],\n",
       " [['eabt', 0.99797684]],\n",
       " [['iav', 0.9749448]],\n",
       " [['tcp', 0.99844986]],\n",
       " [['ooro', 0.9937146]],\n",
       " [['yryrv', 0.9985458]]]"
      ]
     },
     "execution_count": 43,
     "metadata": {},
     "output_type": "execute_result"
    }
   ],
   "source": [
    "evaluate('仁義禮智信温良恭儉讓')"
   ]
  }
 ],
 "metadata": {
  "hide_input": false,
  "jupytext": {
   "encoding": "# -*- coding: utf-8 -*-"
  },
  "kernelspec": {
   "display_name": "Python 3",
   "language": "python",
   "name": "python3"
  },
  "language_info": {
   "codemirror_mode": {
    "name": "ipython",
    "version": 3
   },
   "file_extension": ".py",
   "mimetype": "text/x-python",
   "name": "python",
   "nbconvert_exporter": "python",
   "pygments_lexer": "ipython3",
   "version": "3.7.5"
  }
 },
 "nbformat": 4,
 "nbformat_minor": 4
}
