{
 "cells": [
  {
   "cell_type": "code",
   "execution_count": 1,
   "metadata": {},
   "outputs": [],
   "source": [
    "from PIL import ImageFont, ImageDraw, Image\n",
    "from fontTools.ttLib import TTFont\n",
    "import tensorflow as tf\n",
    "import numpy as np"
   ]
  },
  {
   "cell_type": "markdown",
   "metadata": {},
   "source": [
    "## Predictor Class"
   ]
  },
  {
   "cell_type": "code",
   "execution_count": 2,
   "metadata": {},
   "outputs": [],
   "source": [
    "class Glyph(object):\n",
    "    # transform character to bitmap\n",
    "    def __init__(self, fonts, size=64):\n",
    "        # load fonts, size. We will use 2 fonts for all CJK characters, so keep 2 codepoint books.\n",
    "        self.codepoints = [set() for _ in fonts]\n",
    "        self.size = int(size * 0.9)\n",
    "        self.size_img = size\n",
    "        self.pad = (size - self.size) // 2\n",
    "        self.fonts = [ImageFont.truetype(f, self.size) for f in fonts]\n",
    "        # use a cache to reduce computation if duplicated characters encountered.\n",
    "        self.cache = {}\n",
    "        for cp, font in zip(self.codepoints, fonts):\n",
    "            font = TTFont(font)\n",
    "            # store codepoints in font cmap into self.codepoints\n",
    "            for cmap in font['cmap'].tables:\n",
    "                if not cmap.isUnicode():\n",
    "                    continue\n",
    "                for k in cmap.cmap:\n",
    "                    cp.add(k)\n",
    "    \n",
    "    def draw(self, ch):\n",
    "        if ch in self.cache:\n",
    "            return self.cache[ch]\n",
    "        # search among fonts, use the first found\n",
    "        exist = False\n",
    "        for i in range(len(self.codepoints)):\n",
    "            if ord(ch) in self.codepoints[i]:\n",
    "                font = self.fonts[i]\n",
    "                exist = True\n",
    "                break\n",
    "        if not exist:\n",
    "            return None\n",
    "\n",
    "        img = Image.new('L', (self.size_img, self.size_img), 0)\n",
    "        draw = ImageDraw.Draw(img)\n",
    "        (width, baseline), (offset_x, offset_y) = font.font.getsize(ch)\n",
    "        draw.text((self.pad - offset_x, self.pad - offset_y + 4), ch, font=font, fill=255, stroke_fill=255) \n",
    "        img_array = np.array(img.getdata(), dtype='uint8').reshape((self.size_img, self.size_img))\n",
    "        self.cache[ch] = img_array\n",
    "\n",
    "        return img_array"
   ]
  },
  {
   "cell_type": "code",
   "execution_count": 3,
   "metadata": {},
   "outputs": [],
   "source": [
    "class Predictor:\n",
    "    def __init__(self, interpretor, img_size=128):\n",
    "        self.glyph_generator = Glyph(['data/fonts/TH-Tshyn-P0.ttf',\n",
    "                                      'data/fonts/TH-Tshyn-P1.ttf',\n",
    "                                      'data/fonts/TH-Tshyn-P2.ttf'], size=img_size)\n",
    "        self.interpretor = interpretor\n",
    "        self.input = interpretor.get_input_details()\n",
    "        self.output = interpretor.get_output_details()\n",
    "    \n",
    "    def generate_glyphs(self, chars):\n",
    "        glyphs = []\n",
    "        for char in chars:\n",
    "            glyph = self.glyph_generator.draw(char)\n",
    "            if glyph is not None:\n",
    "                glyphs.append(glyph)\n",
    "            else:\n",
    "                print(f'Error: cannot draw {char}')\n",
    "                return None\n",
    "        return np.array(glyphs, dtype='uint8')\n",
    "\n",
    "    def encode(self, glyphs, max_len=32):\n",
    "        codes = np.ones((glyphs.shape[0], 1), dtype='uint8')\n",
    "        for i in range(max_len):\n",
    "            self.interpretor.resize_tensor_input(self.input[0]['index'], codes.shape)\n",
    "            self.interpretor.resize_tensor_input(self.input[1]['index'], glyphs.shape)\n",
    "            self.interpretor.allocate_tensors()\n",
    "            self.interpretor.set_tensor(self.input[0]['index'], codes)\n",
    "            self.interpretor.set_tensor(self.input[1]['index'], glyphs)\n",
    "            self.interpretor.invoke()\n",
    "            new_code = self.interpretor.get_tensor(self.output[0]['index'])\n",
    "            new_code = np.argmax(new_code, axis=-1).astype('uint8')\n",
    "            codes = np.concatenate([codes, new_code[:,-1,np.newaxis]], axis=-1)\n",
    "            if np.cumprod(codes != 2, axis=-1).sum(axis=0)[-1] == 0:\n",
    "                break\n",
    "        return codes\n",
    "    \n",
    "    def decode(self, codes):\n",
    "        cangjie_codes = []\n",
    "        for i in range(codes.shape[0]):\n",
    "            string = ''\n",
    "            for w in codes[i]:\n",
    "                if w == 3:\n",
    "                    string += ','\n",
    "                elif w > 3:\n",
    "                    string += chr(w+93)\n",
    "                elif w == 2:\n",
    "                    break\n",
    "            cangjie_codes.append(string)\n",
    "        return cangjie_codes\n",
    "    \n",
    "    def __call__(self, chars, max_len=32):\n",
    "        glyphs = self.generate_glyphs(chars)\n",
    "        codes = self.encode(glyphs, max_len=max_len)\n",
    "        cangjie_codes = self.decode(codes)\n",
    "        return cangjie_codes"
   ]
  },
  {
   "cell_type": "markdown",
   "metadata": {},
   "source": [
    "## Load Model and Predict"
   ]
  },
  {
   "cell_type": "code",
   "execution_count": 4,
   "metadata": {},
   "outputs": [
    {
     "name": "stdout",
     "output_type": "stream",
     "text": [
      "Metal device set to: Apple M1 Max\n"
     ]
    },
    {
     "name": "stderr",
     "output_type": "stream",
     "text": [
      "INFO: Created TensorFlow Lite delegate for select TF ops.\n",
      "2023-03-30 19:59:36.657699: I tensorflow/core/common_runtime/pluggable_device/pluggable_device_factory.cc:306] Could not identify NUMA node of platform GPU ID 0, defaulting to 0. Your kernel may not have been built with NUMA support.\n",
      "2023-03-30 19:59:36.657848: I tensorflow/core/common_runtime/pluggable_device/pluggable_device_factory.cc:272] Created TensorFlow device (/job:localhost/replica:0/task:0/device:GPU:0 with 0 MB memory) -> physical PluggableDevice (device: 0, name: METAL, pci bus id: <undefined>)\n",
      "INFO: TfLiteFlexDelegate delegate: 10 nodes delegated out of 1277 nodes with 6 partitions.\n",
      "\n"
     ]
    }
   ],
   "source": [
    "cangjie = tf.lite.Interpreter(model_path='cangjie_pruned.tflite')"
   ]
  },
  {
   "cell_type": "code",
   "execution_count": 5,
   "metadata": {},
   "outputs": [],
   "source": [
    "pred = Predictor(cangjie)"
   ]
  },
  {
   "cell_type": "code",
   "execution_count": 6,
   "metadata": {},
   "outputs": [
    {
     "data": {
      "text/plain": [
       "['mk', 'my', 'bhnf', 'ci']"
      ]
     },
     "execution_count": 6,
     "metadata": {},
     "output_type": "execute_result"
    }
   ],
   "source": [
    "pred('天下爲公')"
   ]
  }
 ],
 "metadata": {
  "environment": {
   "kernel": "python3",
   "name": "tf2-gpu.2-11.m104",
   "type": "gcloud",
   "uri": "gcr.io/deeplearning-platform-release/tf2-gpu.2-11:m104"
  },
  "hide_input": false,
  "jupytext": {
   "encoding": "# -*- coding: utf-8 -*-"
  },
  "kernelspec": {
   "display_name": "Python 3 (ipykernel)",
   "language": "python",
   "name": "python3"
  },
  "language_info": {
   "codemirror_mode": {
    "name": "ipython",
    "version": 3
   },
   "file_extension": ".py",
   "mimetype": "text/x-python",
   "name": "python",
   "nbconvert_exporter": "python",
   "pygments_lexer": "ipython3",
   "version": "3.10.9"
  },
  "widgets": {
   "application/vnd.jupyter.widget-state+json": {
    "state": {},
    "version_major": 2,
    "version_minor": 0
   }
  }
 },
 "nbformat": 4,
 "nbformat_minor": 4
}
